{
 "cells": [
  {
   "cell_type": "markdown",
   "id": "7f90fbb3-7407-4f6c-bea9-2878bee2fd4e",
   "metadata": {},
   "source": [
    "# Task 01"
   ]
  },
  {
   "cell_type": "code",
   "execution_count": 134,
   "id": "90211f45-1f0a-40b4-b39e-9c2495e6ce60",
   "metadata": {},
   "outputs": [
    {
     "data": {
      "text/html": [
       "<div>\n",
       "<style scoped>\n",
       "    .dataframe tbody tr th:only-of-type {\n",
       "        vertical-align: middle;\n",
       "    }\n",
       "\n",
       "    .dataframe tbody tr th {\n",
       "        vertical-align: top;\n",
       "    }\n",
       "\n",
       "    .dataframe thead th {\n",
       "        text-align: right;\n",
       "    }\n",
       "</style>\n",
       "<table border=\"1\" class=\"dataframe\">\n",
       "  <thead>\n",
       "    <tr style=\"text-align: right;\">\n",
       "      <th></th>\n",
       "      <th>CrimeDate</th>\n",
       "      <th>CrimeTime</th>\n",
       "      <th>CrimeCode</th>\n",
       "      <th>Location</th>\n",
       "      <th>Description</th>\n",
       "      <th>Inside/Outside</th>\n",
       "      <th>Weapon</th>\n",
       "      <th>Post</th>\n",
       "      <th>District</th>\n",
       "      <th>Neighborhood</th>\n",
       "      <th>Longitude</th>\n",
       "      <th>Latitude</th>\n",
       "      <th>Location 1</th>\n",
       "      <th>Premise</th>\n",
       "      <th>vri_name1</th>\n",
       "      <th>Total Incidents</th>\n",
       "    </tr>\n",
       "  </thead>\n",
       "  <tbody>\n",
       "    <tr>\n",
       "      <th>0</th>\n",
       "      <td>02/08/2020</td>\n",
       "      <td>2:18:00</td>\n",
       "      <td>5D</td>\n",
       "      <td>1700 CLIFTVIEW AVE</td>\n",
       "      <td>BURGLARY</td>\n",
       "      <td>I</td>\n",
       "      <td>NaN</td>\n",
       "      <td>312</td>\n",
       "      <td>EASTERN</td>\n",
       "      <td>DARLEY PARK</td>\n",
       "      <td>-76.593870</td>\n",
       "      <td>39.315341</td>\n",
       "      <td>NaN</td>\n",
       "      <td>GROCERY/CONFECTION</td>\n",
       "      <td>Eastern 1</td>\n",
       "      <td>1</td>\n",
       "    </tr>\n",
       "    <tr>\n",
       "      <th>1</th>\n",
       "      <td>02/08/2020</td>\n",
       "      <td>6:00:00</td>\n",
       "      <td>6G</td>\n",
       "      <td>700 N STREEPER ST</td>\n",
       "      <td>LARCENY</td>\n",
       "      <td>I</td>\n",
       "      <td>NaN</td>\n",
       "      <td>333</td>\n",
       "      <td>EASTERN</td>\n",
       "      <td>MADISON EASTEND</td>\n",
       "      <td>-76.577425</td>\n",
       "      <td>39.299094</td>\n",
       "      <td>NaN</td>\n",
       "      <td>ROW/TOWNHOUSE-OCC</td>\n",
       "      <td>NaN</td>\n",
       "      <td>1</td>\n",
       "    </tr>\n",
       "    <tr>\n",
       "      <th>2</th>\n",
       "      <td>02/08/2020</td>\n",
       "      <td>9:50:00</td>\n",
       "      <td>3JF</td>\n",
       "      <td>1400 N BROADWAY</td>\n",
       "      <td>ROBBERY - RESIDENCE</td>\n",
       "      <td>I</td>\n",
       "      <td>FIREARM</td>\n",
       "      <td>314</td>\n",
       "      <td>EASTERN</td>\n",
       "      <td>OLIVER</td>\n",
       "      <td>-76.594992</td>\n",
       "      <td>39.306941</td>\n",
       "      <td>NaN</td>\n",
       "      <td>ROW/TOWNHOUSE-OCC</td>\n",
       "      <td>NaN</td>\n",
       "      <td>1</td>\n",
       "    </tr>\n",
       "    <tr>\n",
       "      <th>3</th>\n",
       "      <td>02/08/2020</td>\n",
       "      <td>9:50:00</td>\n",
       "      <td>3JF</td>\n",
       "      <td>1400 N BROADWAY</td>\n",
       "      <td>ROBBERY - RESIDENCE</td>\n",
       "      <td>I</td>\n",
       "      <td>FIREARM</td>\n",
       "      <td>314</td>\n",
       "      <td>EASTERN</td>\n",
       "      <td>OLIVER</td>\n",
       "      <td>-76.594992</td>\n",
       "      <td>39.306941</td>\n",
       "      <td>NaN</td>\n",
       "      <td>ROW/TOWNHOUSE-OCC</td>\n",
       "      <td>NaN</td>\n",
       "      <td>1</td>\n",
       "    </tr>\n",
       "    <tr>\n",
       "      <th>4</th>\n",
       "      <td>02/08/2020</td>\n",
       "      <td>17:30:00</td>\n",
       "      <td>5A</td>\n",
       "      <td>1600 E OLIVER ST</td>\n",
       "      <td>BURGLARY</td>\n",
       "      <td>I</td>\n",
       "      <td>NaN</td>\n",
       "      <td>314</td>\n",
       "      <td>EASTERN</td>\n",
       "      <td>OLIVER</td>\n",
       "      <td>-76.595946</td>\n",
       "      <td>39.307350</td>\n",
       "      <td>NaN</td>\n",
       "      <td>ROW/TOWNHOUSE-OCC</td>\n",
       "      <td>Eastern 1</td>\n",
       "      <td>1</td>\n",
       "    </tr>\n",
       "  </tbody>\n",
       "</table>\n",
       "</div>"
      ],
      "text/plain": [
       "    CrimeDate CrimeTime CrimeCode            Location          Description  \\\n",
       "0  02/08/2020   2:18:00        5D  1700 CLIFTVIEW AVE             BURGLARY   \n",
       "1  02/08/2020   6:00:00        6G   700 N STREEPER ST              LARCENY   \n",
       "2  02/08/2020   9:50:00       3JF     1400 N BROADWAY  ROBBERY - RESIDENCE   \n",
       "3  02/08/2020   9:50:00       3JF     1400 N BROADWAY  ROBBERY - RESIDENCE   \n",
       "4  02/08/2020  17:30:00        5A    1600 E OLIVER ST             BURGLARY   \n",
       "\n",
       "  Inside/Outside   Weapon Post District     Neighborhood  Longitude  \\\n",
       "0              I      NaN  312  EASTERN      DARLEY PARK -76.593870   \n",
       "1              I      NaN  333  EASTERN  MADISON EASTEND -76.577425   \n",
       "2              I  FIREARM  314  EASTERN           OLIVER -76.594992   \n",
       "3              I  FIREARM  314  EASTERN           OLIVER -76.594992   \n",
       "4              I      NaN  314  EASTERN           OLIVER -76.595946   \n",
       "\n",
       "    Latitude  Location 1             Premise  vri_name1  Total Incidents  \n",
       "0  39.315341         NaN  GROCERY/CONFECTION  Eastern 1                1  \n",
       "1  39.299094         NaN   ROW/TOWNHOUSE-OCC        NaN                1  \n",
       "2  39.306941         NaN   ROW/TOWNHOUSE-OCC        NaN                1  \n",
       "3  39.306941         NaN   ROW/TOWNHOUSE-OCC        NaN                1  \n",
       "4  39.307350         NaN   ROW/TOWNHOUSE-OCC  Eastern 1                1  "
      ]
     },
     "execution_count": 134,
     "metadata": {},
     "output_type": "execute_result"
    }
   ],
   "source": [
    "import pandas as pd\n",
    "\n",
    "# Load the dataset\n",
    "file_path = r'E:\\IS_733\\Baltimore911.csv'\n",
    "# Assuming the problematic column is column 7, specify its data type\n",
    "df = pd.read_csv(file_path, dtype={'Post': 'str'}, low_memory=False)\n",
    "# Display the first few rows of the dataset to understand its structure\n",
    "df.head()\n"
   ]
  },
  {
   "cell_type": "code",
   "execution_count": 135,
   "id": "5893b258-a408-4a9d-9fc7-5fcb09d0f4b6",
   "metadata": {},
   "outputs": [
    {
     "name": "stdout",
     "output_type": "stream",
     "text": [
      "Initial Data:\n",
      "    CrimeDate CrimeTime CrimeCode            Location          Description  \\\n",
      "0  02/08/2020   2:18:00        5D  1700 CLIFTVIEW AVE             BURGLARY   \n",
      "1  02/08/2020   6:00:00        6G   700 N STREEPER ST              LARCENY   \n",
      "2  02/08/2020   9:50:00       3JF     1400 N BROADWAY  ROBBERY - RESIDENCE   \n",
      "3  02/08/2020   9:50:00       3JF     1400 N BROADWAY  ROBBERY - RESIDENCE   \n",
      "4  02/08/2020  17:30:00        5A    1600 E OLIVER ST             BURGLARY   \n",
      "\n",
      "  Inside/Outside   Weapon Post District     Neighborhood  Longitude  \\\n",
      "0              I      NaN  312  EASTERN      DARLEY PARK -76.593870   \n",
      "1              I      NaN  333  EASTERN  MADISON EASTEND -76.577425   \n",
      "2              I  FIREARM  314  EASTERN           OLIVER -76.594992   \n",
      "3              I  FIREARM  314  EASTERN           OLIVER -76.594992   \n",
      "4              I      NaN  314  EASTERN           OLIVER -76.595946   \n",
      "\n",
      "    Latitude  Location 1             Premise  vri_name1  Total Incidents  \n",
      "0  39.315341         NaN  GROCERY/CONFECTION  Eastern 1                1  \n",
      "1  39.299094         NaN   ROW/TOWNHOUSE-OCC        NaN                1  \n",
      "2  39.306941         NaN   ROW/TOWNHOUSE-OCC        NaN                1  \n",
      "3  39.306941         NaN   ROW/TOWNHOUSE-OCC        NaN                1  \n",
      "4  39.307350         NaN   ROW/TOWNHOUSE-OCC  Eastern 1                1  \n"
     ]
    },
    {
     "name": "stderr",
     "output_type": "stream",
     "text": [
      "D:\\ann\\Lib\\site-packages\\seaborn\\_oldcore.py:1119: FutureWarning:\n",
      "\n",
      "use_inf_as_na option is deprecated and will be removed in a future version. Convert inf values to NaN before operating instead.\n",
      "\n"
     ]
    },
    {
     "data": {
      "image/png": "[encoded data removed]",
      "text/plain": [
       "<Figure size 1200x600 with 2 Axes>"
      ]
     },
     "metadata": {},
     "output_type": "display_data"
    },
    {
     "name": "stdout",
     "output_type": "stream",
     "text": [
      "\n",
      "Cleaned Data:\n",
      "    CrimeDate CrimeTime CrimeCode            Location          Description  \\\n",
      "0  02/08/2020   2:18:00        5D  1700 CLIFTVIEW AVE             BURGLARY   \n",
      "1  02/08/2020   6:00:00        6G   700 N STREEPER ST              LARCENY   \n",
      "2  02/08/2020   9:50:00       3JF     1400 N BROADWAY  ROBBERY - RESIDENCE   \n",
      "3  02/08/2020   9:50:00       3JF     1400 N BROADWAY  ROBBERY - RESIDENCE   \n",
      "4  02/08/2020  17:30:00        5A    1600 E OLIVER ST             BURGLARY   \n",
      "\n",
      "  Inside/Outside   Weapon Post District     Neighborhood  Longitude  \\\n",
      "0              I      NaN  312  EASTERN      DARLEY PARK -76.593870   \n",
      "1              I      NaN  333  EASTERN  MADISON EASTEND -76.577425   \n",
      "2              I  FIREARM  314  EASTERN           OLIVER -76.594992   \n",
      "3              I  FIREARM  314  EASTERN           OLIVER -76.594992   \n",
      "4              I      NaN  314  EASTERN           OLIVER -76.595946   \n",
      "\n",
      "    Latitude  Location 1             Premise  vri_name1  Total Incidents  \n",
      "0  39.315341         NaN  GROCERY/CONFECTION  Eastern 1                1  \n",
      "1  39.299094         NaN   ROW/TOWNHOUSE-OCC        NaN                1  \n",
      "2  39.306941         NaN   ROW/TOWNHOUSE-OCC        NaN                1  \n",
      "3  39.306941         NaN   ROW/TOWNHOUSE-OCC        NaN                1  \n",
      "4  39.307350         NaN   ROW/TOWNHOUSE-OCC  Eastern 1                1  \n"
     ]
    }
   ],
   "source": [
    "# Data Cleaning\n",
    "\n",
    "import seaborn as sns\n",
    "import matplotlib.pyplot as plt\n",
    "\n",
    "# Initial data exploration\n",
    "print(\"Initial Data:\")\n",
    "print(df.head())\n",
    "\n",
    "# Data Visualization\n",
    "plt.figure(figsize=(12, 6))\n",
    "\n",
    "# Box plot for Longitude\n",
    "plt.subplot(1, 2, 1)\n",
    "sns.boxplot(x=df['Longitude'])\n",
    "plt.title('Box Plot for Longitude')\n",
    "\n",
    "# Histogram for Latitude\n",
    "plt.subplot(1, 2, 2)\n",
    "sns.histplot(x=df['Latitude'])\n",
    "plt.title('Histogram for Latitude')\n",
    "\n",
    "plt.show()\n",
    "\n",
    "# Handling Outliers\n",
    "outliers = (\n",
    "    (df['Longitude'] < -180) | (df['Longitude'] > 180) |\n",
    "    (df['Latitude'] < -90) | (df['Latitude'] > 90)\n",
    ")\n",
    "\n",
    "# Replace outliers with NaN\n",
    "df.loc[outliers, ['Longitude', 'Latitude']] = None\n",
    "\n",
    "# Handling Missing Values\n",
    "df.dropna(subset=['Longitude', 'Latitude'], inplace=True)\n",
    "\n",
    "# Save Cleaned Data to the same file\n",
    "df.to_csv(file_path, index=False)\n",
    "\n",
    "# Display cleaned data\n",
    "print(\"\\nCleaned Data:\")\n",
    "print(df.head())"
   ]
  },
  {
   "cell_type": "code",
   "execution_count": 136,
   "id": "c777edf9-9872-42c8-98e5-a7c838be2bcc",
   "metadata": {},
   "outputs": [
    {
     "name": "stdout",
     "output_type": "stream",
     "text": [
      "<class 'pandas.core.frame.DataFrame'>\n",
      "RangeIndex: 291126 entries, 0 to 291125\n",
      "Data columns (total 16 columns):\n",
      " #   Column           Non-Null Count   Dtype  \n",
      "---  ------           --------------   -----  \n",
      " 0   CrimeDate        291126 non-null  object \n",
      " 1   CrimeTime        291100 non-null  object \n",
      " 2   CrimeCode        291126 non-null  object \n",
      " 3   Location         290376 non-null  object \n",
      " 4   Description      291126 non-null  object \n",
      " 5   Inside/Outside   257792 non-null  object \n",
      " 6   Weapon           61220 non-null   object \n",
      " 7   Post             290379 non-null  object \n",
      " 8   District         291126 non-null  object \n",
      " 9   Neighborhood     281159 non-null  object \n",
      " 10  Longitude        291126 non-null  float64\n",
      " 11  Latitude         291126 non-null  float64\n",
      " 12  Location 1       0 non-null       float64\n",
      " 13  Premise          257540 non-null  object \n",
      " 14  vri_name1        34576 non-null   object \n",
      " 15  Total Incidents  291126 non-null  int64  \n",
      "dtypes: float64(3), int64(1), object(12)\n",
      "memory usage: 35.5+ MB\n"
     ]
    }
   ],
   "source": [
    "#data_profiling \n",
    "df.describe()\n",
    "df.info()"
   ]
  },
  {
   "cell_type": "code",
   "execution_count": 137,
   "id": "b66ebccc-55c9-452b-b24c-f648916aabf5",
   "metadata": {},
   "outputs": [
    {
     "name": "stdout",
     "output_type": "stream",
     "text": [
      "Total number of rows: 291126\n",
      "Total number of columns: 16\n",
      "Missing values per column (%):\n",
      "CrimeDate            0.000000\n",
      "CrimeTime            0.008931\n",
      "CrimeCode            0.000000\n",
      "Location             0.257620\n",
      "Description          0.000000\n",
      "Inside/Outside      11.450025\n",
      "Weapon              78.971305\n",
      "Post                 0.256590\n",
      "District             0.000000\n",
      "Neighborhood         3.423604\n",
      "Longitude            0.000000\n",
      "Latitude             0.000000\n",
      "Location 1         100.000000\n",
      "Premise             11.536586\n",
      "vri_name1           88.123356\n",
      "Total Incidents      0.000000\n",
      "dtype: float64\n"
     ]
    }
   ],
   "source": [
    "# Overview of the dataset\n",
    "# 1. Total number of call instances (rows) and features (columns)\n",
    "num_rows, num_columns = df.shape\n",
    "\n",
    "missing_values = (df.isnull().sum() / len(df)) * 100\n",
    "\n",
    "print(f\"Total number of rows: {total_rows}\")\n",
    "print(f\"Total number of columns: {total_columns}\")\n",
    "print(f\"Missing values per column (%):\\n{missing_values}\")\n"
   ]
  },
  {
   "cell_type": "code",
   "execution_count": 138,
   "id": "972898a9-ddf0-4577-bd80-6d8827d0e7e0",
   "metadata": {},
   "outputs": [
    {
     "name": "stdout",
     "output_type": "stream",
     "text": [
      "Numeric/Continuous columns: ['Location 1', 'Total Incidents']\n",
      "Discrete/Symbolic columns: ['CrimeCode', 'Location', 'Description', 'Inside/Outside', 'Weapon', 'Post', 'District', 'Neighborhood', 'Premise', 'vri_name1']\n",
      "Temporal columns: ['CrimeDate', 'CrimeTime']\n",
      "Spatial columns: ['Longitude', 'Latitude']\n"
     ]
    }
   ],
   "source": [
    "# --- Identify column types ---\n",
    "temporal_columns = ['CrimeDate', 'CrimeTime']\n",
    "spatial_columns = ['Longitude', 'Latitude']\n",
    "numeric_columns = df.select_dtypes(include=['float64', 'int64']).columns.tolist()\n",
    "discrete_columns = df.select_dtypes(include=['object']).columns.tolist()\n",
    "\n",
    "# Remove identified temporal and spatial columns from numeric and discrete columns\n",
    "numeric_columns = [col for col in numeric_columns if col not in spatial_columns]\n",
    "discrete_columns = [col for col in discrete_columns if col not in temporal_columns]\n",
    "\n",
    "# --- Display column categorization ---\n",
    "print(f\"Numeric/Continuous columns: {numeric_columns}\")\n",
    "print(f\"Discrete/Symbolic columns: {discrete_columns}\")\n",
    "print(f\"Temporal columns: {temporal_columns}\")\n",
    "print(f\"Spatial columns: {spatial_columns}\")"
   ]
  },
  {
   "cell_type": "code",
   "execution_count": 139,
   "id": "9161cecd-45af-444f-bc8e-0d21a10f7536",
   "metadata": {},
   "outputs": [
    {
     "name": "stdout",
     "output_type": "stream",
     "text": [
      "Numeric columns statistics:\n",
      "                     count  mean  std  min  25%  50%  75%  max  median\n",
      "Location 1            0.0   NaN  NaN  NaN  NaN  NaN  NaN  NaN     NaN\n",
      "Total Incidents  291126.0   1.0  0.0  1.0  1.0  1.0  1.0  1.0     1.0\n"
     ]
    }
   ],
   "source": [
    "# For numeric columns, calculate min, max, mean, median, and standard deviation\n",
    "numeric_stats = df[numeric_columns].describe().T\n",
    "numeric_stats['median'] = df[numeric_columns].median()\n",
    "\n",
    "print(\"Numeric columns statistics:\\n\", numeric_stats)"
   ]
  },
  {
   "cell_type": "code",
   "execution_count": 140,
   "id": "c7a3db4d-d586-4a83-afc9-b80d7436cbfd",
   "metadata": {},
   "outputs": [
    {
     "name": "stdout",
     "output_type": "stream",
     "text": [
      "Minimum Value (Longitude): -81.5291885\n",
      "Maximum Value (Longitude): -76.38322763\n",
      "Minimum Value (Latitude): 37.57726184\n",
      "Maximum Value (Latitude): 39.66133158\n",
      "Basic Statistics for Longitude:\n",
      "count    291126.000000\n",
      "mean        -76.617452\n",
      "std           0.043734\n",
      "min         -81.529189\n",
      "25%         -76.649094\n",
      "50%         -76.613977\n",
      "75%         -76.587080\n",
      "max         -76.383228\n",
      "Name: Longitude, dtype: float64\n",
      "\n",
      "Mean (Longitude): -76.61745184626443\n",
      "Median (Longitude): -76.6139769\n",
      "Standard Deviation (Longitude): 0.04373447607928038\n",
      "Minimum Value: -81.5291885\n",
      "Maximum Value: -76.38322763\n",
      "\n",
      "Basic Statistics for Latitude:\n",
      "count    291126.000000\n",
      "mean         39.306746\n",
      "std           0.029658\n",
      "min          37.577262\n",
      "25%          39.288186\n",
      "50%          39.302672\n",
      "75%          39.326965\n",
      "max          39.661332\n",
      "Name: Latitude, dtype: float64\n",
      "\n",
      "Mean (Latitude): 39.30674569832813\n",
      "Median (Latitude): 39.30267161\n",
      "Standard Deviation (Latitude): 0.029657887347020687\n",
      "Minimum Value: 37.57726184\n",
      "Maximum Value: 39.66133158\n"
     ]
    }
   ],
   "source": [
    "# Display basic statistics for Longitude and Latitude columns (numericals)\n",
    "longitude_stats = df['Longitude'].describe()\n",
    "latitude_stats = df['Latitude'].describe()\n",
    "\n",
    "# Calculate Mean, Median, and Standard Deviation for both Longitude and Latitude\n",
    "longitude_mean = df['Longitude'].mean()\n",
    "longitude_median = df['Longitude'].median()\n",
    "longitude_std_dev = df['Longitude'].std()\n",
    "\n",
    "latitude_mean = df['Latitude'].mean()\n",
    "latitude_median = df['Latitude'].median()\n",
    "latitude_std_dev = df['Latitude'].std()\n",
    "\n",
    "# Min and Max values for Longitude\n",
    "longitude_min = df['Longitude'].min()\n",
    "longitude_max = df['Longitude'].max()\n",
    "print(\"Minimum Value (Longitude):\", longitude_min)\n",
    "print(\"Maximum Value (Longitude):\", longitude_max)\n",
    "\n",
    "# Min and Max values for Latitude\n",
    "latitude_min = df['Latitude'].min()\n",
    "latitude_max = df['Latitude'].max()\n",
    "print(\"Minimum Value (Latitude):\", latitude_min)\n",
    "print(\"Maximum Value (Latitude):\", latitude_max)\n",
    "\n",
    "# Display the results for Longitude\n",
    "print(\"Basic Statistics for Longitude:\")\n",
    "print(longitude_stats)\n",
    "print(\"\\nMean (Longitude):\", longitude_mean)\n",
    "print(\"Median (Longitude):\", longitude_median)\n",
    "print(\"Standard Deviation (Longitude):\", longitude_std_dev)\n",
    "print(\"Minimum Value:\", longitude_min)\n",
    "print(\"Maximum Value:\", longitude_max)\n",
    "\n",
    "# Display the results for Latitude\n",
    "print(\"\\nBasic Statistics for Latitude:\")\n",
    "print(latitude_stats)\n",
    "print(\"\\nMean (Latitude):\", latitude_mean)\n",
    "print(\"Median (Latitude):\", latitude_median)\n",
    "print(\"Standard Deviation (Latitude):\", latitude_std_dev)\n",
    "print(\"Minimum Value:\", latitude_min)\n",
    "print(\"Maximum Value:\", latitude_max)"
   ]
  },
  {
   "cell_type": "code",
   "execution_count": 141,
   "id": "b537cd7e-9869-4e5c-9fb5-13350afdf392",
   "metadata": {},
   "outputs": [
    {
     "name": "stdout",
     "output_type": "stream",
     "text": [
      "\n",
      "Discrete columns statistics:\n",
      "CrimeCode: Unique values = 81, Top 3 values = {'4E': 47851, '6D': 38592, '5A': 25295}\n",
      "Location: Unique values = 26418, Top 3 values = {'1500 RUSSELL ST': 847, '3500 BOSTON ST': 708, '2400 FREDERICK AVE': 558}\n",
      "Description: Unique values = 14, Top 3 values = {'LARCENY': 65129, 'COMMON ASSAULT': 47851, 'BURGLARY': 42147}\n",
      "Inside/Outside: Unique values = 4, Top 3 values = {'O': 127949, 'I': 124078, 'Outside': 5107}\n",
      "Weapon: Unique values = 5, Top 3 values = {'FIREARM': 28895, 'OTHER': 17238, 'KNIFE': 9960}\n",
      "Post: Unique values = 133, Top 3 values = {'114': 5227, '913': 4977, '111': 4915}\n",
      "District: Unique values = 10, Top 3 values = {'NORTHEAST': 44000, 'SOUTHEAST': 41579, 'CENTRAL': 33355}\n",
      "Neighborhood: Unique values = 278, Top 3 values = {'DOWNTOWN': 9294, 'FRANKFORD': 6901, 'BELAIR-EDISON': 6183}\n",
      "Premise: Unique values = 125, Top 3 values = {'STREET': 104141, 'ROW/TOWNHOUSE-OCC': 53932, 'APT/CONDO - OCCUPIED': 11611}\n",
      "vri_name1: Unique values = 8, Top 3 values = {'Tri-District': 6605, 'Western': 5825, 'Central': 5419}\n"
     ]
    }
   ],
   "source": [
    "# --- Discrete attributes statistics ---\n",
    "discrete_stats = {}\n",
    "for col in discrete_columns:\n",
    "    unique_values = df[col].nunique()\n",
    "    top_values = df[col].value_counts().nlargest(3).to_dict()\n",
    "    discrete_stats[col] = {\"unique_values\": unique_values, \"top_values\": top_values}\n",
    "\n",
    "print(\"\\nDiscrete columns statistics:\")\n",
    "for col, stats in discrete_stats.items():\n",
    "    print(f\"{col}: Unique values = {stats['unique_values']}, Top 3 values = {stats['top_values']}\")\n"
   ]
  },
  {
   "cell_type": "code",
   "execution_count": 142,
   "id": "078da7b6-d06e-4ab3-ad19-d773a9df957c",
   "metadata": {},
   "outputs": [
    {
     "name": "stdout",
     "output_type": "stream",
     "text": [
      "Total number of unique values in 'Total Incidents': 1\n",
      "\n",
      "Top 3 values with the largest count:\n",
      "Total Incidents\n",
      "1    291126\n",
      "Name: count, dtype: int64\n"
     ]
    }
   ],
   "source": [
    "# Calculate the total number of unique values for 'Total Incidents'\n",
    "num_unique_values = df['Total Incidents'].nunique()\n",
    "\n",
    "# Get the counts of each unique value, and retrieve the top 3 most frequent values\n",
    "top_3_values = df['Total Incidents'].value_counts().nlargest(3)\n",
    "\n",
    "# Display the total number of unique values\n",
    "print(\"Total number of unique values in 'Total Incidents':\", num_unique_values)\n",
    "\n",
    "# Display the top 3 most frequent values\n",
    "print(\"\\nTop 3 values with the largest count:\")\n",
    "print(top_3_values)\n"
   ]
  },
  {
   "cell_type": "code",
   "execution_count": 143,
   "id": "04eeeebb-4b82-40fa-8c5b-a9f4ac7607b1",
   "metadata": {},
   "outputs": [
    {
     "name": "stdout",
     "output_type": "stream",
     "text": [
      "Percentage of Rows with Missing Values: 100.00%\n",
      "\n",
      "Columns with more than 50% missing values:\n",
      "Weapon         78.971305\n",
      "Location 1    100.000000\n",
      "vri_name1      88.123356\n",
      "dtype: float64\n",
      "\n",
      "Notable Findings:\n",
      "More than 50% of the rows have missing values (100.00%). This suggests significant data quality issues.\n",
      "\n",
      "The following columns have more than 50% missing values: Weapon, Location 1, vri_name1\n"
     ]
    }
   ],
   "source": [
    "# Calculate the percentage of missing values per column\n",
    "missing_values = df.isnull().mean() * 100\n",
    "\n",
    "# Calculate the percentage of rows with missing values\n",
    "missing_rows_percentage = df.isnull().any(axis=1).sum() / len(df) * 100\n",
    "\n",
    "# Display the percentage of rows with missing values\n",
    "print(f\"Percentage of Rows with Missing Values: {missing_rows_percentage:.2f}%\")\n",
    "\n",
    "# Find columns with more than 50% missing values\n",
    "columns_with_high_missingness = missing_values[missing_values > 50]\n",
    "\n",
    "# Display columns with over 50% missing values\n",
    "print(f\"\\nColumns with more than 50% missing values:\\n{columns_with_high_missingness}\")\n",
    "\n",
    "# Comment on surprising findings\n",
    "print(\"\\nNotable Findings:\")\n",
    "if missing_rows_percentage > 50:\n",
    "    print(f\"More than 50% of the rows have missing values ({missing_rows_percentage:.2f}%). This suggests significant data quality issues.\")\n",
    "else:\n",
    "    print(f\"Only {missing_rows_percentage:.2f}% of the rows have missing values, which is within acceptable limits.\")\n",
    "\n",
    "if not columns_with_high_missingness.empty:\n",
    "    print(f\"\\nThe following columns have more than 50% missing values: {', '.join(columns_with_high_missingness.index)}\")\n",
    "else:\n",
    "    print(\"\\nNo columns have more than 50% missing values.\")\n"
   ]
  },
  {
   "cell_type": "markdown",
   "id": "d45969be-6b93-49f3-b4ed-b72ef00a2bb7",
   "metadata": {},
   "source": [
    "## task2"
   ]
  },
  {
   "cell_type": "code",
   "execution_count": 145,
   "id": "ac8335c4-b076-4a72-83b8-0cb66d4615c5",
   "metadata": {},
   "outputs": [
    {
     "data": {
      "image/png": "[encoded data removed]",
      "text/plain": [
       "<Figure size 1000x600 with 1 Axes>"
      ]
     },
     "metadata": {},
     "output_type": "display_data"
    },
    {
     "data": {
      "image/png": "[encoded data removed]",
      "text/plain": [
       "<Figure size 1000x600 with 1 Axes>"
      ]
     },
     "metadata": {},
     "output_type": "display_data"
    },
    {
     "data": {
      "image/png": "[encoded data removed]",
      "text/plain": [
       "<Figure size 1000x600 with 1 Axes>"
      ]
     },
     "metadata": {},
     "output_type": "display_data"
    }
   ],
   "source": [
    "import pandas as pd\n",
    "import matplotlib.pyplot as plt\n",
    "import seaborn as sns\n",
    "\n",
    "# Seaborn style for better visualization\n",
    "sns.set(style=\"whitegrid\")\n",
    "\n",
    "# Ensure 'CrimeDate' is in datetime format\n",
    "df['CrimeDate'] = pd.to_datetime(df['CrimeDate'], format='%m/%d/%Y')\n",
    "\n",
    "# Extract Year, Month, and Day of the Week from the CrimeDate\n",
    "df['Year'] = df['CrimeDate'].dt.year\n",
    "df['Month'] = df['CrimeDate'].dt.month\n",
    "df['DayOfWeek'] = df['CrimeDate'].dt.day_name()\n",
    "\n",
    "#Plotting\n",
    "\n",
    "# Year-to-Year Crime Incidence\n",
    "plt.figure(figsize=(10, 6))\n",
    "sns.countplot(x='Year', data=df, palette='Blues')\n",
    "plt.title('Year-to-Year Crime Incidence')\n",
    "plt.xticks(rotation=45)\n",
    "plt.ylabel('Number of Incidents')\n",
    "plt.xlabel('Year')\n",
    "plt.show()\n",
    "\n",
    "# Monthly Crime Incidence\n",
    "plt.figure(figsize=(10, 6))\n",
    "sns.countplot(x='Month', data=df, palette='Reds')\n",
    "plt.title('Month-to-Month Crime Incidence')\n",
    "plt.xticks(rotation=45)\n",
    "plt.ylabel('Number of Incidents')\n",
    "plt.xlabel('Month')\n",
    "plt.show()\n",
    "\n",
    "# Day-of-Week Crime Incidence\n",
    "plt.figure(figsize=(10, 6))\n",
    "sns.countplot(x='DayOfWeek', data=df, order=['Monday', 'Tuesday', 'Wednesday', 'Thursday', 'Friday', 'Saturday', 'Sunday'], palette='Greens')\n",
    "plt.title('Day-of-Week Crime Incidence')\n",
    "plt.xticks(rotation=45)\n",
    "plt.ylabel('Number of Incidents')\n",
    "plt.xlabel('Day of the Week')\n",
    "plt.show()\n",
    "\n"
   ]
  },
  {
   "cell_type": "markdown",
   "id": "cc4ca103-3301-4b72-8b58-df0772b03a8a",
   "metadata": {},
   "source": [
    "## Task3\n"
   ]
  },
  {
   "cell_type": "code",
   "execution_count": 147,
   "id": "e9149e1e-8ddc-410a-b4ba-1839d1d99bdd",
   "metadata": {},
   "outputs": [
    {
     "data": {
      "image/png": "[encoded data removed]",
      "text/plain": [
       "<Figure size 1200x800 with 1 Axes>"
      ]
     },
     "metadata": {},
     "output_type": "display_data"
    }
   ],
   "source": [
    "# Extract crime types and count the number of incidents for each type\n",
    "plt.figure(figsize=(12, 8))\n",
    "sns.countplot(y='Description', data=df, palette='coolwarm', order=df['Description'].value_counts().index)\n",
    "\n",
    "# Set plot title and labels\n",
    "plt.title('Distribution of Crime Types Aggregating from All Geo-locations and Time Periods', fontsize=16)\n",
    "plt.xlabel('Number of Incidents')\n",
    "plt.ylabel('Crime Type')\n",
    "\n",
    "# Display the plot\n",
    "plt.show()\n"
   ]
  },
  {
   "cell_type": "markdown",
   "id": "1f41798b-dee0-420c-a70f-d76bd23b95a2",
   "metadata": {},
   "source": [
    "## Task4\n"
   ]
  },
  {
   "cell_type": "code",
   "execution_count": 149,
   "id": "fd264e67-6127-4033-8f4f-22192ddaf778",
   "metadata": {},
   "outputs": [
    {
     "data": {
      "image/png": "[encoded data removed]",
      "text/plain": [
       "<Figure size 1200x800 with 1 Axes>"
      ]
     },
     "metadata": {},
     "output_type": "display_data"
    },
    {
     "data": {
      "image/png": "[encoded data removed]",
      "text/plain": [
       "<Figure size 1200x800 with 1 Axes>"
      ]
     },
     "metadata": {},
     "output_type": "display_data"
    },
    {
     "data": {
      "image/png": "[encoded data removed]",
      "text/plain": [
       "<Figure size 1200x800 with 1 Axes>"
      ]
     },
     "metadata": {},
     "output_type": "display_data"
    }
   ],
   "source": [
    "# Extract Year, Month, and Day of Week \n",
    "df['CrimeDate'] = pd.to_datetime(df['CrimeDate'], format='%m/%d/%Y')\n",
    "df['Year'] = df['CrimeDate'].dt.year\n",
    "df['Month'] = df['CrimeDate'].dt.month\n",
    "df['DayOfWeek'] = df['CrimeDate'].dt.day_name()\n",
    "\n",
    "# Year-to-Year\n",
    "\n",
    "plt.figure(figsize=(12, 8))\n",
    "sns.countplot(data=df, x='Year', hue='Description', palette='Set2')\n",
    "plt.title('Crime Type Distribution by Year')\n",
    "plt.xlabel('Year')\n",
    "plt.ylabel('Number of Incidents')\n",
    "plt.xticks(rotation=45)\n",
    "plt.legend(loc='upper right', bbox_to_anchor=(1.25, 1))\n",
    "plt.tight_layout()\n",
    "plt.show()\n",
    "\n",
    "# Month-to-Month\n",
    "\n",
    "plt.figure(figsize=(12, 8))\n",
    "sns.countplot(data=df, x='Month', hue='Description', palette='coolwarm')\n",
    "plt.title('Crime Type Distribution by Month')\n",
    "plt.xlabel('Month')\n",
    "plt.ylabel('Number of Incidents')\n",
    "plt.xticks(rotation=45)\n",
    "plt.legend(loc='upper right', bbox_to_anchor=(1.25, 1))\n",
    "plt.tight_layout()\n",
    "plt.show()\n",
    "\n",
    "# Day-of-Week\n",
    "\n",
    "plt.figure(figsize=(12, 8))\n",
    "sns.countplot(data=df, x='DayOfWeek', hue='Description', order=['Monday', 'Tuesday', 'Wednesday', 'Thursday', 'Friday', 'Saturday', 'Sunday'], palette='Set3')\n",
    "plt.title('Crime Type Distribution by Day of the Week')\n",
    "plt.xlabel('Day of the Week')\n",
    "plt.ylabel('Number of Incidents')\n",
    "plt.xticks(rotation=45)\n",
    "plt.legend(loc='upper right', bbox_to_anchor=(1.25, 1))\n",
    "plt.tight_layout()\n",
    "plt.show()\n"
   ]
  },
  {
   "cell_type": "markdown",
   "id": "c2f9a43a-1cdf-4e71-9c5a-df038cf2b86b",
   "metadata": {},
   "source": [
    "## Task5"
   ]
  },
  {
   "cell_type": "code",
   "execution_count": 151,
   "id": "cd30e6ba-84c9-4852-846c-fec1be2d9a90",
   "metadata": {},
   "outputs": [
    {
     "name": "stdout",
     "output_type": "stream",
     "text": [
      "Requirement already satisfied: dash in d:\\ann\\lib\\site-packages (2.18.1)\n",
      "Requirement already satisfied: pandas in d:\\ann\\lib\\site-packages (2.1.4)\n",
      "Requirement already satisfied: plotly in d:\\ann\\lib\\site-packages (5.9.0)\n",
      "Requirement already satisfied: Flask<3.1,>=1.0.4 in d:\\ann\\lib\\site-packages (from dash) (2.2.5)\n",
      "Requirement already satisfied: Werkzeug<3.1 in d:\\ann\\lib\\site-packages (from dash) (2.2.3)\n",
      "Requirement already satisfied: dash-html-components==2.0.0 in d:\\ann\\lib\\site-packages (from dash) (2.0.0)\n",
      "Requirement already satisfied: dash-core-components==2.0.0 in d:\\ann\\lib\\site-packages (from dash) (2.0.0)\n",
      "Requirement already satisfied: dash-table==5.0.0 in d:\\ann\\lib\\site-packages (from dash) (5.0.0)\n",
      "Requirement already satisfied: importlib-metadata in d:\\ann\\lib\\site-packages (from dash) (7.0.1)\n",
      "Requirement already satisfied: typing-extensions>=4.1.1 in d:\\ann\\lib\\site-packages (from dash) (4.12.2)\n",
      "Requirement already satisfied: requests in d:\\ann\\lib\\site-packages (from dash) (2.31.0)\n",
      "Requirement already satisfied: retrying in d:\\ann\\lib\\site-packages (from dash) (1.3.4)\n",
      "Requirement already satisfied: nest-asyncio in d:\\ann\\lib\\site-packages (from dash) (1.6.0)\n",
      "Requirement already satisfied: setuptools in d:\\ann\\lib\\site-packages (from dash) (68.2.2)\n",
      "Requirement already satisfied: numpy<2,>=1.23.2 in d:\\ann\\lib\\site-packages (from pandas) (1.26.4)\n",
      "Requirement already satisfied: python-dateutil>=2.8.2 in d:\\ann\\lib\\site-packages (from pandas) (2.8.2)\n",
      "Requirement already satisfied: pytz>=2020.1 in d:\\ann\\lib\\site-packages (from pandas) (2023.3.post1)\n",
      "Requirement already satisfied: tzdata>=2022.1 in d:\\ann\\lib\\site-packages (from pandas) (2023.3)\n",
      "Requirement already satisfied: tenacity>=6.2.0 in d:\\ann\\lib\\site-packages (from plotly) (8.2.2)\n",
      "Requirement already satisfied: Jinja2>=3.0 in d:\\ann\\lib\\site-packages (from Flask<3.1,>=1.0.4->dash) (3.1.3)\n",
      "Requirement already satisfied: itsdangerous>=2.0 in d:\\ann\\lib\\site-packages (from Flask<3.1,>=1.0.4->dash) (2.0.1)\n",
      "Requirement already satisfied: click>=8.0 in d:\\ann\\lib\\site-packages (from Flask<3.1,>=1.0.4->dash) (8.1.7)\n",
      "Requirement already satisfied: six>=1.5 in d:\\ann\\lib\\site-packages (from python-dateutil>=2.8.2->pandas) (1.16.0)\n",
      "Requirement already satisfied: MarkupSafe>=2.1.1 in d:\\ann\\lib\\site-packages (from Werkzeug<3.1->dash) (2.1.3)\n",
      "Requirement already satisfied: zipp>=0.5 in d:\\ann\\lib\\site-packages (from importlib-metadata->dash) (3.17.0)\n",
      "Requirement already satisfied: charset-normalizer<4,>=2 in d:\\ann\\lib\\site-packages (from requests->dash) (2.0.4)\n",
      "Requirement already satisfied: idna<4,>=2.5 in d:\\ann\\lib\\site-packages (from requests->dash) (3.4)\n",
      "Requirement already satisfied: urllib3<3,>=1.21.1 in d:\\ann\\lib\\site-packages (from requests->dash) (2.0.7)\n",
      "Requirement already satisfied: certifi>=2017.4.17 in d:\\ann\\lib\\site-packages (from requests->dash) (2024.8.30)\n",
      "Requirement already satisfied: colorama in d:\\ann\\lib\\site-packages (from click>=8.0->Flask<3.1,>=1.0.4->dash) (0.4.6)\n",
      "Note: you may need to restart the kernel to use updated packages.\n"
     ]
    }
   ],
   "source": [
    "pip install dash pandas plotly"
   ]
  },
  {
   "cell_type": "code",
   "execution_count": 152,
   "id": "4b648289-9771-41a4-be3b-155ab8d5bb47",
   "metadata": {
    "scrolled": true
   },
   "outputs": [
    {
     "data": {
      "text/html": [
       "\n",
       "        <iframe\n",
       "            width=\"100%\"\n",
       "            height=\"650\"\n",
       "            src=\"http://127.0.0.1:8055/\"\n",
       "            frameborder=\"0\"\n",
       "            allowfullscreen\n",
       "            \n",
       "        ></iframe>\n",
       "        "
      ],
      "text/plain": [
       "<IPython.lib.display.IFrame at 0x273ea4d6ed0>"
      ]
     },
     "metadata": {},
     "output_type": "display_data"
    }
   ],
   "source": [
    "import pandas as pd\n",
    "from dash import Dash, dcc, html, Input, Output\n",
    "import plotly.express as px\n",
    "\n",
    "# Load the dataset\n",
    "df = pd.read_csv('E:/IS_733/Baltimore911.csv', low_memory=False)\n",
    "\n",
    "# Clean the column names\n",
    "df.columns = df.columns.str.strip()\n",
    "\n",
    "# Convert the 'CrimeDate' column to datetime\n",
    "df['CrimeDate'] = pd.to_datetime(df['CrimeDate'], errors='coerce')\n",
    "\n",
    "# Clean the 'Location' column (strip spaces and remove missing values)\n",
    "df['Location'] = df['Location'].str.strip()\n",
    "df = df.dropna(subset=['Location'])\n",
    "\n",
    "# Initialize the Dash app\n",
    "app = Dash(__name__)\n",
    "\n",
    "# Layout of the dashboard\n",
    "app.layout = html.Div([\n",
    "    html.H1(\"Crime Analysis Dashboard for Gary\"),\n",
    "    \n",
    "    # Filters\n",
    "    html.Label(\"Select Locations\"),\n",
    "    dcc.Dropdown(id='location-dropdown', \n",
    "                 options=[{'label': loc, 'value': loc} for loc in df['Location'].unique()],\n",
    "                 multi=True, placeholder=\"Select Locations\"),\n",
    "\n",
    "    html.Label(\"Select Date Range\"),\n",
    "    dcc.DatePickerRange(id='date-picker', \n",
    "                        start_date=df['CrimeDate'].min(), \n",
    "                        end_date=df['CrimeDate'].max(),\n",
    "                        display_format='YYYY-MM-DD'),\n",
    "    \n",
    "    html.Label(\"Select Crime Types\"),\n",
    "    dcc.Dropdown(id='crime-type-dropdown', \n",
    "                 options=[{'label': ctype, 'value': ctype} for ctype in df['Description'].unique()],\n",
    "                 multi=True, placeholder=\"Select Crime Types\"),\n",
    "\n",
    "    # Graphs for temporal analysis\n",
    "    dcc.Graph(id='yearly-crime-plot'),\n",
    "    dcc.Graph(id='monthly-crime-plot'),\n",
    "    dcc.Graph(id='dayofweek-crime-plot'),\n",
    "    dcc.Graph(id='crime-type-distribution')\n",
    "])\n",
    "\n",
    "# Callback to update plots\n",
    "@app.callback(\n",
    "    [Output('yearly-crime-plot', 'figure'),\n",
    "     Output('monthly-crime-plot', 'figure'),\n",
    "     Output('dayofweek-crime-plot', 'figure'),\n",
    "     Output('crime-type-distribution', 'figure')],\n",
    "    [Input('location-dropdown', 'value'),\n",
    "     Input('date-picker', 'start_date'),\n",
    "     Input('date-picker', 'end_date'),\n",
    "     Input('crime-type-dropdown', 'value')]\n",
    ")\n",
    "def update_plots(selected_locations, start_date, end_date, selected_crimes):\n",
    "    # Filter the data based on user selections\n",
    "    filtered_df = df[(df['CrimeDate'] >= pd.to_datetime(start_date)) & \n",
    "                     (df['CrimeDate'] <= pd.to_datetime(end_date))]\n",
    "    \n",
    "    if selected_locations:\n",
    "        filtered_df = filtered_df[filtered_df['Location'].isin(selected_locations)]\n",
    "    \n",
    "    if selected_crimes:\n",
    "        filtered_df = filtered_df[filtered_df['Description'].isin(selected_crimes)]\n",
    "\n",
    "    # Yearly Crime Trend\n",
    "    yearly_data = filtered_df.groupby(filtered_df['CrimeDate'].dt.year).size()\n",
    "    fig_yearly = px.bar(yearly_data, x=yearly_data.index, y=yearly_data.values, \n",
    "                        labels={'x': 'Year', 'y': 'Crime Count'}, \n",
    "                        title=\"Yearly Crime Count\")\n",
    "\n",
    "    # Monthly Crime Trend\n",
    "    monthly_data = filtered_df.groupby(filtered_df['CrimeDate'].dt.month).size()\n",
    "    fig_monthly = px.bar(monthly_data, x=monthly_data.index, y=monthly_data.values, \n",
    "                         labels={'x': 'Month', 'y': 'Crime Count'}, \n",
    "                         title=\"Monthly Crime Count\")\n",
    "\n",
    "    # Day of Week Crime Trend\n",
    "    dayofweek_data = filtered_df.groupby(filtered_df['CrimeDate'].dt.dayofweek).size()\n",
    "    fig_dayofweek = px.bar(dayofweek_data, x=dayofweek_data.index, y=dayofweek_data.values, \n",
    "                           labels={'x': 'Day of Week', 'y': 'Crime Count'}, \n",
    "                           title=\"Crime Count by Day of the Week\")\n",
    "\n",
    "    # Crime Type Distribution\n",
    "    crime_type_data = filtered_df['Description'].value_counts()\n",
    "    fig_crime_type = px.pie(crime_type_data, values=crime_type_data.values, \n",
    "                            names=crime_type_data.index, title=\"Crime Type Distribution\")\n",
    "\n",
    "    return fig_yearly, fig_monthly, fig_dayofweek, fig_crime_type\n",
    "\n",
    "# Run the app\n",
    "if __name__ == '__main__':\n",
    "    app.run_server(debug=True, port=8055)  \n"
   ]
  },
  {
   "cell_type": "markdown",
   "id": "a970e57f-b4fd-458d-af72-4381cd7a51b4",
   "metadata": {},
   "source": [
    "# CODES FOR PPT"
   ]
  },
  {
   "cell_type": "code",
   "execution_count": 179,
   "id": "a376b2c9-f91d-49b7-80bb-68c526e20744",
   "metadata": {},
   "outputs": [
    {
     "name": "stderr",
     "output_type": "stream",
     "text": [
      "D:\\ann\\Lib\\site-packages\\numpy\\lib\\histograms.py:885: RuntimeWarning:\n",
      "\n",
      "invalid value encountered in divide\n",
      "\n"
     ]
    },
    {
     "data": {
      "text/html": [
       "<pre style=\"white-space:pre;overflow-x:auto;line-height:normal;font-family:Menlo,'DejaVu Sans Mono',consolas,'Courier New',monospace\">╭──────────────────────────────────────────────── skimpy summary ─────────────────────────────────────────────────╮\n",
       "│ <span style=\"font-style: italic\">         Data Summary         </span> <span style=\"font-style: italic\">      Data Types       </span>                                                          │\n",
       "│ ┏━━━━━━━━━━━━━━━━━━━┳━━━━━━━━┓ ┏━━━━━━━━━━━━━┳━━━━━━━┓                                                          │\n",
       "│ ┃<span style=\"color: #008080; text-decoration-color: #008080; font-weight: bold\"> dataframe         </span>┃<span style=\"color: #008080; text-decoration-color: #008080; font-weight: bold\"> Values </span>┃ ┃<span style=\"color: #008080; text-decoration-color: #008080; font-weight: bold\"> Column Type </span>┃<span style=\"color: #008080; text-decoration-color: #008080; font-weight: bold\"> Count </span>┃                                                          │\n",
       "│ ┡━━━━━━━━━━━━━━━━━━━╇━━━━━━━━┩ ┡━━━━━━━━━━━━━╇━━━━━━━┩                                                          │\n",
       "│ │ Number of rows    │ 290376 │ │ string      │ 11    │                                                          │\n",
       "│ │ Number of columns │ 16     │ │ float64     │ 3     │                                                          │\n",
       "│ └───────────────────┴────────┘ │ datetime64  │ 1     │                                                          │\n",
       "│                                │ int32       │ 1     │                                                          │\n",
       "│                                └─────────────┴───────┘                                                          │\n",
       "│ <span style=\"font-style: italic\">                                                    number                                                    </span>  │\n",
       "│ ┏━━━━━━━━━━━━━━━━━━┳━━━━━━━━━┳━━━━━━┳━━━━━━━━┳━━━━━━━━━┳━━━━━━━━┳━━━━━━━━┳━━━━━━━━┳━━━━━━━━┳━━━━━━━━┳━━━━━━━━┓  │\n",
       "│ ┃<span style=\"font-weight: bold\"> column_name      </span>┃<span style=\"font-weight: bold\"> NA      </span>┃<span style=\"font-weight: bold\"> NA % </span>┃<span style=\"font-weight: bold\"> mean   </span>┃<span style=\"font-weight: bold\"> sd      </span>┃<span style=\"font-weight: bold\"> p0     </span>┃<span style=\"font-weight: bold\"> p25    </span>┃<span style=\"font-weight: bold\"> p50    </span>┃<span style=\"font-weight: bold\"> p75    </span>┃<span style=\"font-weight: bold\"> p100   </span>┃<span style=\"font-weight: bold\"> hist   </span>┃  │\n",
       "│ ┡━━━━━━━━━━━━━━━━━━╇━━━━━━━━━╇━━━━━━╇━━━━━━━━╇━━━━━━━━━╇━━━━━━━━╇━━━━━━━━╇━━━━━━━━╇━━━━━━━━╇━━━━━━━━╇━━━━━━━━┩  │\n",
       "│ │ <span style=\"color: #af87ff; text-decoration-color: #af87ff\">Longitude       </span> │ <span style=\"color: #008080; text-decoration-color: #008080\">      0</span> │ <span style=\"color: #008080; text-decoration-color: #008080\">   0</span> │ <span style=\"color: #008080; text-decoration-color: #008080\">-76.62</span> │ <span style=\"color: #008080; text-decoration-color: #008080\">0.04353</span> │ <span style=\"color: #008080; text-decoration-color: #008080\">-81.53</span> │ <span style=\"color: #008080; text-decoration-color: #008080\">-76.65</span> │ <span style=\"color: #008080; text-decoration-color: #008080\">-76.61</span> │ <span style=\"color: #008080; text-decoration-color: #008080\">-76.59</span> │ <span style=\"color: #008080; text-decoration-color: #008080\">-76.38</span> │ <span style=\"color: #008000; text-decoration-color: #008000\">     ▇</span> │  │\n",
       "│ │ <span style=\"color: #af87ff; text-decoration-color: #af87ff\">Latitude        </span> │ <span style=\"color: #008080; text-decoration-color: #008080\">      0</span> │ <span style=\"color: #008080; text-decoration-color: #008080\">   0</span> │ <span style=\"color: #008080; text-decoration-color: #008080\"> 39.31</span> │ <span style=\"color: #008080; text-decoration-color: #008080\">0.02964</span> │ <span style=\"color: #008080; text-decoration-color: #008080\"> 37.58</span> │ <span style=\"color: #008080; text-decoration-color: #008080\"> 39.29</span> │ <span style=\"color: #008080; text-decoration-color: #008080\">  39.3</span> │ <span style=\"color: #008080; text-decoration-color: #008080\"> 39.33</span> │ <span style=\"color: #008080; text-decoration-color: #008080\"> 39.38</span> │ <span style=\"color: #008000; text-decoration-color: #008000\">     ▇</span> │  │\n",
       "│ │ <span style=\"color: #af87ff; text-decoration-color: #af87ff\">Location 1      </span> │ <span style=\"color: #008080; text-decoration-color: #008080\"> 290376</span> │ <span style=\"color: #008080; text-decoration-color: #008080\"> 100</span> │ <span style=\"color: #008080; text-decoration-color: #008080\">   nan</span> │ <span style=\"color: #008080; text-decoration-color: #008080\">    nan</span> │ <span style=\"color: #008080; text-decoration-color: #008080\">   nan</span> │ <span style=\"color: #008080; text-decoration-color: #008080\">   nan</span> │ <span style=\"color: #008080; text-decoration-color: #008080\">   nan</span> │ <span style=\"color: #008080; text-decoration-color: #008080\">   nan</span> │ <span style=\"color: #008080; text-decoration-color: #008080\">   nan</span> │ <span style=\"color: #008000; text-decoration-color: #008000\">      </span> │  │\n",
       "│ │ <span style=\"color: #af87ff; text-decoration-color: #af87ff\">Total Incidents </span> │ <span style=\"color: #008080; text-decoration-color: #008080\">      0</span> │ <span style=\"color: #008080; text-decoration-color: #008080\">   0</span> │ <span style=\"color: #008080; text-decoration-color: #008080\">     1</span> │ <span style=\"color: #008080; text-decoration-color: #008080\">      0</span> │ <span style=\"color: #008080; text-decoration-color: #008080\">     1</span> │ <span style=\"color: #008080; text-decoration-color: #008080\">     1</span> │ <span style=\"color: #008080; text-decoration-color: #008080\">     1</span> │ <span style=\"color: #008080; text-decoration-color: #008080\">     1</span> │ <span style=\"color: #008080; text-decoration-color: #008080\">     1</span> │ <span style=\"color: #008000; text-decoration-color: #008000\">    ▇ </span> │  │\n",
       "│ └──────────────────┴─────────┴──────┴────────┴─────────┴────────┴────────┴────────┴────────┴────────┴────────┘  │\n",
       "│ <span style=\"font-style: italic\">                                                   datetime                                                   </span>  │\n",
       "│ ┏━━━━━━━━━━━━━━━━━━━━━━━━┳━━━━━━━━┳━━━━━━━━━━━┳━━━━━━━━━━━━━━━━━━━━━┳━━━━━━━━━━━━━━━━━━━━━┳━━━━━━━━━━━━━━━━━━┓  │\n",
       "│ ┃<span style=\"font-weight: bold\"> column_name            </span>┃<span style=\"font-weight: bold\"> NA     </span>┃<span style=\"font-weight: bold\"> NA %      </span>┃<span style=\"font-weight: bold\"> first               </span>┃<span style=\"font-weight: bold\"> last                </span>┃<span style=\"font-weight: bold\"> frequency        </span>┃  │\n",
       "│ ┡━━━━━━━━━━━━━━━━━━━━━━━━╇━━━━━━━━╇━━━━━━━━━━━╇━━━━━━━━━━━━━━━━━━━━━╇━━━━━━━━━━━━━━━━━━━━━╇━━━━━━━━━━━━━━━━━━┩  │\n",
       "│ │ <span style=\"color: #af87ff; text-decoration-color: #af87ff\">CrimeDate             </span> │ <span style=\"color: #008080; text-decoration-color: #008080\">     0</span> │ <span style=\"color: #008080; text-decoration-color: #008080\">        0</span> │ <span style=\"color: #800000; text-decoration-color: #800000\">    1963-10-30     </span> │ <span style=\"color: #800000; text-decoration-color: #800000\">    2020-02-08     </span> │ <span style=\"color: #af87ff; text-decoration-color: #af87ff\">None            </span> │  │\n",
       "│ └────────────────────────┴────────┴───────────┴─────────────────────┴─────────────────────┴──────────────────┘  │\n",
       "│ <span style=\"font-style: italic\">                                                    string                                                    </span>  │\n",
       "│ ┏━━━━━━━━━━━━━━━━━━━━━━━━━━━━━┳━━━━━━━━━━━━━━┳━━━━━━━━━━━━━┳━━━━━━━━━━━━━━━━━━━━━━━━━━┳━━━━━━━━━━━━━━━━━━━━━━┓  │\n",
       "│ ┃<span style=\"font-weight: bold\"> column_name                 </span>┃<span style=\"font-weight: bold\"> NA           </span>┃<span style=\"font-weight: bold\"> NA %        </span>┃<span style=\"font-weight: bold\"> words per row            </span>┃<span style=\"font-weight: bold\"> total words          </span>┃  │\n",
       "│ ┡━━━━━━━━━━━━━━━━━━━━━━━━━━━━━╇━━━━━━━━━━━━━━╇━━━━━━━━━━━━━╇━━━━━━━━━━━━━━━━━━━━━━━━━━╇━━━━━━━━━━━━━━━━━━━━━━┩  │\n",
       "│ │ <span style=\"color: #af87ff; text-decoration-color: #af87ff\">CrimeTime                  </span> │ <span style=\"color: #008080; text-decoration-color: #008080\">          25</span> │ <span style=\"color: #008080; text-decoration-color: #008080\">       0.01</span> │ <span style=\"color: #008080; text-decoration-color: #008080\">                       1</span> │ <span style=\"color: #008080; text-decoration-color: #008080\">              290351</span> │  │\n",
       "│ │ <span style=\"color: #af87ff; text-decoration-color: #af87ff\">CrimeCode                  </span> │ <span style=\"color: #008080; text-decoration-color: #008080\">           0</span> │ <span style=\"color: #008080; text-decoration-color: #008080\">          0</span> │ <span style=\"color: #008080; text-decoration-color: #008080\">                       1</span> │ <span style=\"color: #008080; text-decoration-color: #008080\">              290376</span> │  │\n",
       "│ │ <span style=\"color: #af87ff; text-decoration-color: #af87ff\">Location                   </span> │ <span style=\"color: #008080; text-decoration-color: #008080\">           0</span> │ <span style=\"color: #008080; text-decoration-color: #008080\">          0</span> │ <span style=\"color: #008080; text-decoration-color: #008080\">                     3.4</span> │ <span style=\"color: #008080; text-decoration-color: #008080\">              997470</span> │  │\n",
       "│ │ <span style=\"color: #af87ff; text-decoration-color: #af87ff\">Description                </span> │ <span style=\"color: #008080; text-decoration-color: #008080\">           0</span> │ <span style=\"color: #008080; text-decoration-color: #008080\">          0</span> │ <span style=\"color: #008080; text-decoration-color: #008080\">                     1.8</span> │ <span style=\"color: #008080; text-decoration-color: #008080\">              534418</span> │  │\n",
       "│ │ <span style=\"color: #af87ff; text-decoration-color: #af87ff\">Inside/Outside             </span> │ <span style=\"color: #008080; text-decoration-color: #008080\">       33216</span> │ <span style=\"color: #008080; text-decoration-color: #008080\">      11.44</span> │ <span style=\"color: #008080; text-decoration-color: #008080\">                    0.89</span> │ <span style=\"color: #008080; text-decoration-color: #008080\">              257160</span> │  │\n",
       "│ │ <span style=\"color: #af87ff; text-decoration-color: #af87ff\">Weapon                     </span> │ <span style=\"color: #008080; text-decoration-color: #008080\">      229311</span> │ <span style=\"color: #008080; text-decoration-color: #008080\">      78.97</span> │ <span style=\"color: #008080; text-decoration-color: #008080\">                    0.21</span> │ <span style=\"color: #008080; text-decoration-color: #008080\">               61065</span> │  │\n",
       "│ │ <span style=\"color: #af87ff; text-decoration-color: #af87ff\">Post                       </span> │ <span style=\"color: #008080; text-decoration-color: #008080\">         719</span> │ <span style=\"color: #008080; text-decoration-color: #008080\">       0.25</span> │ <span style=\"color: #008080; text-decoration-color: #008080\">                       1</span> │ <span style=\"color: #008080; text-decoration-color: #008080\">              289657</span> │  │\n",
       "│ │ <span style=\"color: #af87ff; text-decoration-color: #af87ff\">District                   </span> │ <span style=\"color: #008080; text-decoration-color: #008080\">           0</span> │ <span style=\"color: #008080; text-decoration-color: #008080\">          0</span> │ <span style=\"color: #008080; text-decoration-color: #008080\">                       1</span> │ <span style=\"color: #008080; text-decoration-color: #008080\">              290376</span> │  │\n",
       "│ │ <span style=\"color: #af87ff; text-decoration-color: #af87ff\">Neighborhood               </span> │ <span style=\"color: #008080; text-decoration-color: #008080\">        9589</span> │ <span style=\"color: #008080; text-decoration-color: #008080\">        3.3</span> │ <span style=\"color: #008080; text-decoration-color: #008080\">                     1.6</span> │ <span style=\"color: #008080; text-decoration-color: #008080\">              459386</span> │  │\n",
       "│ │ <span style=\"color: #af87ff; text-decoration-color: #af87ff\">Premise                    </span> │ <span style=\"color: #008080; text-decoration-color: #008080\">       33468</span> │ <span style=\"color: #008080; text-decoration-color: #008080\">      11.53</span> │ <span style=\"color: #008080; text-decoration-color: #008080\">                     1.3</span> │ <span style=\"color: #008080; text-decoration-color: #008080\">              364702</span> │  │\n",
       "│ │ <span style=\"color: #af87ff; text-decoration-color: #af87ff\">vri_name1                  </span> │ <span style=\"color: #008080; text-decoration-color: #008080\">      255800</span> │ <span style=\"color: #008080; text-decoration-color: #008080\">      88.09</span> │ <span style=\"color: #008080; text-decoration-color: #008080\">                    0.15</span> │ <span style=\"color: #008080; text-decoration-color: #008080\">               42643</span> │  │\n",
       "│ └─────────────────────────────┴──────────────┴─────────────┴──────────────────────────┴──────────────────────┘  │\n",
       "╰────────────────────────────────────────────────────── End ──────────────────────────────────────────────────────╯\n",
       "</pre>\n"
      ],
      "text/plain": [
       "╭──────────────────────────────────────────────── skimpy summary ─────────────────────────────────────────────────╮\n",
       "│ \u001b[3m         Data Summary         \u001b[0m \u001b[3m      Data Types       \u001b[0m                                                          │\n",
       "│ ┏━━━━━━━━━━━━━━━━━━━┳━━━━━━━━┓ ┏━━━━━━━━━━━━━┳━━━━━━━┓                                                          │\n",
       "│ ┃\u001b[1;36m \u001b[0m\u001b[1;36mdataframe        \u001b[0m\u001b[1;36m \u001b[0m┃\u001b[1;36m \u001b[0m\u001b[1;36mValues\u001b[0m\u001b[1;36m \u001b[0m┃ ┃\u001b[1;36m \u001b[0m\u001b[1;36mColumn Type\u001b[0m\u001b[1;36m \u001b[0m┃\u001b[1;36m \u001b[0m\u001b[1;36mCount\u001b[0m\u001b[1;36m \u001b[0m┃                                                          │\n",
       "│ ┡━━━━━━━━━━━━━━━━━━━╇━━━━━━━━┩ ┡━━━━━━━━━━━━━╇━━━━━━━┩                                                          │\n",
       "│ │ Number of rows    │ 290376 │ │ string      │ 11    │                                                          │\n",
       "│ │ Number of columns │ 16     │ │ float64     │ 3     │                                                          │\n",
       "│ └───────────────────┴────────┘ │ datetime64  │ 1     │                                                          │\n",
       "│                                │ int32       │ 1     │                                                          │\n",
       "│                                └─────────────┴───────┘                                                          │\n",
       "│ \u001b[3m                                                    number                                                    \u001b[0m  │\n",
       "│ ┏━━━━━━━━━━━━━━━━━━┳━━━━━━━━━┳━━━━━━┳━━━━━━━━┳━━━━━━━━━┳━━━━━━━━┳━━━━━━━━┳━━━━━━━━┳━━━━━━━━┳━━━━━━━━┳━━━━━━━━┓  │\n",
       "│ ┃\u001b[1m \u001b[0m\u001b[1mcolumn_name     \u001b[0m\u001b[1m \u001b[0m┃\u001b[1m \u001b[0m\u001b[1mNA     \u001b[0m\u001b[1m \u001b[0m┃\u001b[1m \u001b[0m\u001b[1mNA %\u001b[0m\u001b[1m \u001b[0m┃\u001b[1m \u001b[0m\u001b[1mmean  \u001b[0m\u001b[1m \u001b[0m┃\u001b[1m \u001b[0m\u001b[1msd     \u001b[0m\u001b[1m \u001b[0m┃\u001b[1m \u001b[0m\u001b[1mp0    \u001b[0m\u001b[1m \u001b[0m┃\u001b[1m \u001b[0m\u001b[1mp25   \u001b[0m\u001b[1m \u001b[0m┃\u001b[1m \u001b[0m\u001b[1mp50   \u001b[0m\u001b[1m \u001b[0m┃\u001b[1m \u001b[0m\u001b[1mp75   \u001b[0m\u001b[1m \u001b[0m┃\u001b[1m \u001b[0m\u001b[1mp100  \u001b[0m\u001b[1m \u001b[0m┃\u001b[1m \u001b[0m\u001b[1mhist  \u001b[0m\u001b[1m \u001b[0m┃  │\n",
       "│ ┡━━━━━━━━━━━━━━━━━━╇━━━━━━━━━╇━━━━━━╇━━━━━━━━╇━━━━━━━━━╇━━━━━━━━╇━━━━━━━━╇━━━━━━━━╇━━━━━━━━╇━━━━━━━━╇━━━━━━━━┩  │\n",
       "│ │ \u001b[38;5;141mLongitude       \u001b[0m │ \u001b[36m      0\u001b[0m │ \u001b[36m   0\u001b[0m │ \u001b[36m-76.62\u001b[0m │ \u001b[36m0.04353\u001b[0m │ \u001b[36m-81.53\u001b[0m │ \u001b[36m-76.65\u001b[0m │ \u001b[36m-76.61\u001b[0m │ \u001b[36m-76.59\u001b[0m │ \u001b[36m-76.38\u001b[0m │ \u001b[32m     ▇\u001b[0m │  │\n",
       "│ │ \u001b[38;5;141mLatitude        \u001b[0m │ \u001b[36m      0\u001b[0m │ \u001b[36m   0\u001b[0m │ \u001b[36m 39.31\u001b[0m │ \u001b[36m0.02964\u001b[0m │ \u001b[36m 37.58\u001b[0m │ \u001b[36m 39.29\u001b[0m │ \u001b[36m  39.3\u001b[0m │ \u001b[36m 39.33\u001b[0m │ \u001b[36m 39.38\u001b[0m │ \u001b[32m     ▇\u001b[0m │  │\n",
       "│ │ \u001b[38;5;141mLocation 1      \u001b[0m │ \u001b[36m 290376\u001b[0m │ \u001b[36m 100\u001b[0m │ \u001b[36m   nan\u001b[0m │ \u001b[36m    nan\u001b[0m │ \u001b[36m   nan\u001b[0m │ \u001b[36m   nan\u001b[0m │ \u001b[36m   nan\u001b[0m │ \u001b[36m   nan\u001b[0m │ \u001b[36m   nan\u001b[0m │ \u001b[32m      \u001b[0m │  │\n",
       "│ │ \u001b[38;5;141mTotal Incidents \u001b[0m │ \u001b[36m      0\u001b[0m │ \u001b[36m   0\u001b[0m │ \u001b[36m     1\u001b[0m │ \u001b[36m      0\u001b[0m │ \u001b[36m     1\u001b[0m │ \u001b[36m     1\u001b[0m │ \u001b[36m     1\u001b[0m │ \u001b[36m     1\u001b[0m │ \u001b[36m     1\u001b[0m │ \u001b[32m    ▇ \u001b[0m │  │\n",
       "│ └──────────────────┴─────────┴──────┴────────┴─────────┴────────┴────────┴────────┴────────┴────────┴────────┘  │\n",
       "│ \u001b[3m                                                   datetime                                                   \u001b[0m  │\n",
       "│ ┏━━━━━━━━━━━━━━━━━━━━━━━━┳━━━━━━━━┳━━━━━━━━━━━┳━━━━━━━━━━━━━━━━━━━━━┳━━━━━━━━━━━━━━━━━━━━━┳━━━━━━━━━━━━━━━━━━┓  │\n",
       "│ ┃\u001b[1m \u001b[0m\u001b[1mcolumn_name           \u001b[0m\u001b[1m \u001b[0m┃\u001b[1m \u001b[0m\u001b[1mNA    \u001b[0m\u001b[1m \u001b[0m┃\u001b[1m \u001b[0m\u001b[1mNA %     \u001b[0m\u001b[1m \u001b[0m┃\u001b[1m \u001b[0m\u001b[1mfirst              \u001b[0m\u001b[1m \u001b[0m┃\u001b[1m \u001b[0m\u001b[1mlast               \u001b[0m\u001b[1m \u001b[0m┃\u001b[1m \u001b[0m\u001b[1mfrequency       \u001b[0m\u001b[1m \u001b[0m┃  │\n",
       "│ ┡━━━━━━━━━━━━━━━━━━━━━━━━╇━━━━━━━━╇━━━━━━━━━━━╇━━━━━━━━━━━━━━━━━━━━━╇━━━━━━━━━━━━━━━━━━━━━╇━━━━━━━━━━━━━━━━━━┩  │\n",
       "│ │ \u001b[38;5;141mCrimeDate             \u001b[0m │ \u001b[36m     0\u001b[0m │ \u001b[36m        0\u001b[0m │ \u001b[31m    1963-10-30     \u001b[0m │ \u001b[31m    2020-02-08     \u001b[0m │ \u001b[38;5;141mNone            \u001b[0m │  │\n",
       "│ └────────────────────────┴────────┴───────────┴─────────────────────┴─────────────────────┴──────────────────┘  │\n",
       "│ \u001b[3m                                                    string                                                    \u001b[0m  │\n",
       "│ ┏━━━━━━━━━━━━━━━━━━━━━━━━━━━━━┳━━━━━━━━━━━━━━┳━━━━━━━━━━━━━┳━━━━━━━━━━━━━━━━━━━━━━━━━━┳━━━━━━━━━━━━━━━━━━━━━━┓  │\n",
       "│ ┃\u001b[1m \u001b[0m\u001b[1mcolumn_name                \u001b[0m\u001b[1m \u001b[0m┃\u001b[1m \u001b[0m\u001b[1mNA          \u001b[0m\u001b[1m \u001b[0m┃\u001b[1m \u001b[0m\u001b[1mNA %       \u001b[0m\u001b[1m \u001b[0m┃\u001b[1m \u001b[0m\u001b[1mwords per row           \u001b[0m\u001b[1m \u001b[0m┃\u001b[1m \u001b[0m\u001b[1mtotal words         \u001b[0m\u001b[1m \u001b[0m┃  │\n",
       "│ ┡━━━━━━━━━━━━━━━━━━━━━━━━━━━━━╇━━━━━━━━━━━━━━╇━━━━━━━━━━━━━╇━━━━━━━━━━━━━━━━━━━━━━━━━━╇━━━━━━━━━━━━━━━━━━━━━━┩  │\n",
       "│ │ \u001b[38;5;141mCrimeTime                  \u001b[0m │ \u001b[36m          25\u001b[0m │ \u001b[36m       0.01\u001b[0m │ \u001b[36m                       1\u001b[0m │ \u001b[36m              290351\u001b[0m │  │\n",
       "│ │ \u001b[38;5;141mCrimeCode                  \u001b[0m │ \u001b[36m           0\u001b[0m │ \u001b[36m          0\u001b[0m │ \u001b[36m                       1\u001b[0m │ \u001b[36m              290376\u001b[0m │  │\n",
       "│ │ \u001b[38;5;141mLocation                   \u001b[0m │ \u001b[36m           0\u001b[0m │ \u001b[36m          0\u001b[0m │ \u001b[36m                     3.4\u001b[0m │ \u001b[36m              997470\u001b[0m │  │\n",
       "│ │ \u001b[38;5;141mDescription                \u001b[0m │ \u001b[36m           0\u001b[0m │ \u001b[36m          0\u001b[0m │ \u001b[36m                     1.8\u001b[0m │ \u001b[36m              534418\u001b[0m │  │\n",
       "│ │ \u001b[38;5;141mInside/Outside             \u001b[0m │ \u001b[36m       33216\u001b[0m │ \u001b[36m      11.44\u001b[0m │ \u001b[36m                    0.89\u001b[0m │ \u001b[36m              257160\u001b[0m │  │\n",
       "│ │ \u001b[38;5;141mWeapon                     \u001b[0m │ \u001b[36m      229311\u001b[0m │ \u001b[36m      78.97\u001b[0m │ \u001b[36m                    0.21\u001b[0m │ \u001b[36m               61065\u001b[0m │  │\n",
       "│ │ \u001b[38;5;141mPost                       \u001b[0m │ \u001b[36m         719\u001b[0m │ \u001b[36m       0.25\u001b[0m │ \u001b[36m                       1\u001b[0m │ \u001b[36m              289657\u001b[0m │  │\n",
       "│ │ \u001b[38;5;141mDistrict                   \u001b[0m │ \u001b[36m           0\u001b[0m │ \u001b[36m          0\u001b[0m │ \u001b[36m                       1\u001b[0m │ \u001b[36m              290376\u001b[0m │  │\n",
       "│ │ \u001b[38;5;141mNeighborhood               \u001b[0m │ \u001b[36m        9589\u001b[0m │ \u001b[36m        3.3\u001b[0m │ \u001b[36m                     1.6\u001b[0m │ \u001b[36m              459386\u001b[0m │  │\n",
       "│ │ \u001b[38;5;141mPremise                    \u001b[0m │ \u001b[36m       33468\u001b[0m │ \u001b[36m      11.53\u001b[0m │ \u001b[36m                     1.3\u001b[0m │ \u001b[36m              364702\u001b[0m │  │\n",
       "│ │ \u001b[38;5;141mvri_name1                  \u001b[0m │ \u001b[36m      255800\u001b[0m │ \u001b[36m      88.09\u001b[0m │ \u001b[36m                    0.15\u001b[0m │ \u001b[36m               42643\u001b[0m │  │\n",
       "│ └─────────────────────────────┴──────────────┴─────────────┴──────────────────────────┴──────────────────────┘  │\n",
       "╰────────────────────────────────────────────────────── End ──────────────────────────────────────────────────────╯\n"
      ]
     },
     "metadata": {},
     "output_type": "display_data"
    }
   ],
   "source": [
    "\n",
    "from skimpy import skim\n",
    "import pandas as pd\n",
    "\n",
    "# Assuming your dataframe is loaded as df\n",
    "\n",
    "# Generate and display a summary of your data\n",
    "skim(df)"
   ]
  },
  {
   "cell_type": "markdown",
   "id": "69207d8a-e5d9-429f-aec3-5f0edf00faa2",
   "metadata": {},
   "source": [
    "# Task 4 \n",
    "#for  a dynamic tool for exploring spatial and temporal crime pattern and interactivity\n"
   ]
  },
  {
   "cell_type": "code",
   "execution_count": 156,
   "id": "baac661a-dad0-4099-9d4b-e3cac305031d",
   "metadata": {},
   "outputs": [
    {
     "data": {
      "application/vnd.plotly.v1+json": {
       "config": {
        "plotlyServerURL": "https://plot.ly"
       },
       "data": [
        {
         "alignmentgroup": "True",
         "hovertemplate": "Description=RAPE<br>Year=%{x}<br>Crime Count=%{y}<extra></extra>",
         "legendgroup": "RAPE",
         "marker": {
          "color": "rgb(127, 60, 141)",
          "pattern": {
           "shape": ""
          }
         },
         "name": "RAPE",
         "offsetgroup": "RAPE",
         "orientation": "v",
         "showlegend": true,
         "textposition": "auto",
         "type": "bar",
         "x": [
          1963,
          1969,
          1975,
          1977,
          1978,
          1980,
          1981,
          1982,
          1985,
          1988,
          1993,
          1995,
          1998,
          1999,
          2000,
          2001,
          2003,
          2004,
          2006,
          2007,
          2008,
          2009,
          2010,
          2011,
          2012,
          2013,
          2014,
          2015,
          2016,
          2017,
          2018,
          2019,
          2020
         ],
         "xaxis": "x",
         "y": [
          1,
          1,
          1,
          1,
          1,
          1,
          1,
          1,
          1,
          1,
          2,
          2,
          2,
          2,
          3,
          3,
          1,
          2,
          1,
          5,
          5,
          7,
          3,
          9,
          10,
          15,
          241,
          282,
          288,
          360,
          349,
          271,
          12
         ],
         "yaxis": "y"
        },
        {
         "alignmentgroup": "True",
         "hovertemplate": "Description=AGG. ASSAULT<br>Year=%{x}<br>Crime Count=%{y}<extra></extra>",
         "legendgroup": "AGG. ASSAULT",
         "marker": {
          "color": "rgb(17, 165, 121)",
          "pattern": {
           "shape": ""
          }
         },
         "name": "AGG. ASSAULT",
         "offsetgroup": "AGG. ASSAULT",
         "orientation": "v",
         "showlegend": true,
         "textposition": "auto",
         "type": "bar",
         "x": [
          2014,
          2015,
          2016,
          2017,
          2018,
          2019,
          2020
         ],
         "xaxis": "x",
         "y": [
          4217,
          4721,
          5117,
          5795,
          5576,
          5606,
          422
         ],
         "yaxis": "y"
        },
        {
         "alignmentgroup": "True",
         "hovertemplate": "Description=ARSON<br>Year=%{x}<br>Crime Count=%{y}<extra></extra>",
         "legendgroup": "ARSON",
         "marker": {
          "color": "rgb(57, 105, 172)",
          "pattern": {
           "shape": ""
          }
         },
         "name": "ARSON",
         "offsetgroup": "ARSON",
         "orientation": "v",
         "showlegend": true,
         "textposition": "auto",
         "type": "bar",
         "x": [
          2014,
          2015,
          2016,
          2017,
          2018,
          2019,
          2020
         ],
         "xaxis": "x",
         "y": [
          214,
          284,
          265,
          264,
          126,
          106,
          1
         ],
         "yaxis": "y"
        },
        {
         "alignmentgroup": "True",
         "hovertemplate": "Description=AUTO THEFT<br>Year=%{x}<br>Crime Count=%{y}<extra></extra>",
         "legendgroup": "AUTO THEFT",
         "marker": {
          "color": "rgb(242, 183, 1)",
          "pattern": {
           "shape": ""
          }
         },
         "name": "AUTO THEFT",
         "offsetgroup": "AUTO THEFT",
         "orientation": "v",
         "showlegend": true,
         "textposition": "auto",
         "type": "bar",
         "x": [
          2014,
          2015,
          2016,
          2017,
          2018,
          2019,
          2020
         ],
         "xaxis": "x",
         "y": [
          3621,
          4504,
          4550,
          4614,
          4188,
          3706,
          341
         ],
         "yaxis": "y"
        },
        {
         "alignmentgroup": "True",
         "hovertemplate": "Description=BURGLARY<br>Year=%{x}<br>Crime Count=%{y}<extra></extra>",
         "legendgroup": "BURGLARY",
         "marker": {
          "color": "rgb(231, 63, 116)",
          "pattern": {
           "shape": ""
          }
         },
         "name": "BURGLARY",
         "offsetgroup": "BURGLARY",
         "orientation": "v",
         "showlegend": true,
         "textposition": "auto",
         "type": "bar",
         "x": [
          2014,
          2015,
          2016,
          2017,
          2018,
          2019,
          2020
         ],
         "xaxis": "x",
         "y": [
          6841,
          7830,
          7367,
          8076,
          6201,
          5360,
          417
         ],
         "yaxis": "y"
        },
        {
         "alignmentgroup": "True",
         "hovertemplate": "Description=COMMON ASSAULT<br>Year=%{x}<br>Crime Count=%{y}<extra></extra>",
         "legendgroup": "COMMON ASSAULT",
         "marker": {
          "color": "rgb(128, 186, 90)",
          "pattern": {
           "shape": ""
          }
         },
         "name": "COMMON ASSAULT",
         "offsetgroup": "COMMON ASSAULT",
         "orientation": "v",
         "showlegend": true,
         "textposition": "auto",
         "type": "bar",
         "x": [
          2014,
          2015,
          2016,
          2017,
          2018,
          2019,
          2020
         ],
         "xaxis": "x",
         "y": [
          7396,
          6938,
          7446,
          8692,
          8338,
          8190,
          750
         ],
         "yaxis": "y"
        },
        {
         "alignmentgroup": "True",
         "hovertemplate": "Description=HOMICIDE<br>Year=%{x}<br>Crime Count=%{y}<extra></extra>",
         "legendgroup": "HOMICIDE",
         "marker": {
          "color": "rgb(230, 131, 16)",
          "pattern": {
           "shape": ""
          }
         },
         "name": "HOMICIDE",
         "offsetgroup": "HOMICIDE",
         "orientation": "v",
         "showlegend": true,
         "textposition": "auto",
         "type": "bar",
         "x": [
          2014,
          2015,
          2016,
          2017,
          2018,
          2019,
          2020
         ],
         "xaxis": "x",
         "y": [
          211,
          342,
          318,
          342,
          308,
          345,
          31
         ],
         "yaxis": "y"
        },
        {
         "alignmentgroup": "True",
         "hovertemplate": "Description=LARCENY<br>Year=%{x}<br>Crime Count=%{y}<extra></extra>",
         "legendgroup": "LARCENY",
         "marker": {
          "color": "rgb(0, 134, 149)",
          "pattern": {
           "shape": ""
          }
         },
         "name": "LARCENY",
         "offsetgroup": "LARCENY",
         "orientation": "v",
         "showlegend": true,
         "textposition": "auto",
         "type": "bar",
         "x": [
          2014,
          2015,
          2016,
          2017,
          2018,
          2019,
          2020
         ],
         "xaxis": "x",
         "y": [
          11302,
          10605,
          10403,
          10721,
          10612,
          10483,
          864
         ],
         "yaxis": "y"
        },
        {
         "alignmentgroup": "True",
         "hovertemplate": "Description=LARCENY FROM AUTO<br>Year=%{x}<br>Crime Count=%{y}<extra></extra>",
         "legendgroup": "LARCENY FROM AUTO",
         "marker": {
          "color": "rgb(207, 28, 144)",
          "pattern": {
           "shape": ""
          }
         },
         "name": "LARCENY FROM AUTO",
         "offsetgroup": "LARCENY FROM AUTO",
         "orientation": "v",
         "showlegend": true,
         "textposition": "auto",
         "type": "bar",
         "x": [
          2014,
          2015,
          2016,
          2017,
          2018,
          2019,
          2020
         ],
         "xaxis": "x",
         "y": [
          6651,
          6977,
          6452,
          6127,
          6268,
          5527,
          439
         ],
         "yaxis": "y"
        },
        {
         "alignmentgroup": "True",
         "hovertemplate": "Description=ROBBERY - CARJACKING<br>Year=%{x}<br>Crime Count=%{y}<extra></extra>",
         "legendgroup": "ROBBERY - CARJACKING",
         "marker": {
          "color": "rgb(249, 123, 114)",
          "pattern": {
           "shape": ""
          }
         },
         "name": "ROBBERY - CARJACKING",
         "offsetgroup": "ROBBERY - CARJACKING",
         "orientation": "v",
         "showlegend": true,
         "textposition": "auto",
         "type": "bar",
         "x": [
          2014,
          2015,
          2016,
          2017,
          2018,
          2019,
          2020
         ],
         "xaxis": "x",
         "y": [
          153,
          282,
          406,
          555,
          473,
          575,
          67
         ],
         "yaxis": "y"
        },
        {
         "alignmentgroup": "True",
         "hovertemplate": "Description=ROBBERY - COMMERCIAL<br>Year=%{x}<br>Crime Count=%{y}<extra></extra>",
         "legendgroup": "ROBBERY - COMMERCIAL",
         "marker": {
          "color": "rgb(165, 170, 153)",
          "pattern": {
           "shape": ""
          }
         },
         "name": "ROBBERY - COMMERCIAL",
         "offsetgroup": "ROBBERY - COMMERCIAL",
         "orientation": "v",
         "showlegend": true,
         "textposition": "auto",
         "type": "bar",
         "x": [
          2014,
          2015,
          2016,
          2017,
          2018,
          2019,
          2020
         ],
         "xaxis": "x",
         "y": [
          625,
          881,
          862,
          1076,
          912,
          755,
          68
         ],
         "yaxis": "y"
        },
        {
         "alignmentgroup": "True",
         "hovertemplate": "Description=ROBBERY - RESIDENCE<br>Year=%{x}<br>Crime Count=%{y}<extra></extra>",
         "legendgroup": "ROBBERY - RESIDENCE",
         "marker": {
          "color": "rgb(127, 60, 141)",
          "pattern": {
           "shape": ""
          }
         },
         "name": "ROBBERY - RESIDENCE",
         "offsetgroup": "ROBBERY - RESIDENCE",
         "orientation": "v",
         "showlegend": true,
         "textposition": "auto",
         "type": "bar",
         "x": [
          2014,
          2015,
          2016,
          2017,
          2018,
          2019,
          2020
         ],
         "xaxis": "x",
         "y": [
          461,
          438,
          527,
          556,
          510,
          412,
          60
         ],
         "yaxis": "y"
        },
        {
         "alignmentgroup": "True",
         "hovertemplate": "Description=ROBBERY - STREET<br>Year=%{x}<br>Crime Count=%{y}<extra></extra>",
         "legendgroup": "ROBBERY - STREET",
         "marker": {
          "color": "rgb(17, 165, 121)",
          "pattern": {
           "shape": ""
          }
         },
         "name": "ROBBERY - STREET",
         "offsetgroup": "ROBBERY - STREET",
         "orientation": "v",
         "showlegend": true,
         "textposition": "auto",
         "type": "bar",
         "x": [
          2014,
          2015,
          2016,
          2017,
          2018,
          2019,
          2020
         ],
         "xaxis": "x",
         "y": [
          2623,
          3087,
          3757,
          3934,
          3572,
          3329,
          260
         ],
         "yaxis": "y"
        },
        {
         "alignmentgroup": "True",
         "hovertemplate": "Description=SHOOTING<br>Year=%{x}<br>Crime Count=%{y}<extra></extra>",
         "legendgroup": "SHOOTING",
         "marker": {
          "color": "rgb(57, 105, 172)",
          "pattern": {
           "shape": ""
          }
         },
         "name": "SHOOTING",
         "offsetgroup": "SHOOTING",
         "orientation": "v",
         "showlegend": true,
         "textposition": "auto",
         "type": "bar",
         "x": [
          2014,
          2015,
          2016,
          2017,
          2018,
          2019,
          2020
         ],
         "xaxis": "x",
         "y": [
          369,
          631,
          665,
          703,
          677,
          770,
          52
         ],
         "yaxis": "y"
        }
       ],
       "layout": {
        "autosize": true,
        "barmode": "relative",
        "legend": {
         "title": {
          "text": "Description"
         },
         "tracegroupgap": 0
        },
        "template": {
         "data": {
          "bar": [
           {
            "error_x": {
             "color": "#2a3f5f"
            },
            "error_y": {
             "color": "#2a3f5f"
            },
            "marker": {
             "line": {
              "color": "#E5ECF6",
              "width": 0.5
             },
             "pattern": {
              "fillmode": "overlay",
              "size": 10,
              "solidity": 0.2
             }
            },
            "type": "bar"
           }
          ],
          "barpolar": [
           {
            "marker": {
             "line": {
              "color": "#E5ECF6",
              "width": 0.5
             },
             "pattern": {
              "fillmode": "overlay",
              "size": 10,
              "solidity": 0.2
             }
            },
            "type": "barpolar"
           }
          ],
          "carpet": [
           {
            "aaxis": {
             "endlinecolor": "#2a3f5f",
             "gridcolor": "white",
             "linecolor": "white",
             "minorgridcolor": "white",
             "startlinecolor": "#2a3f5f"
            },
            "baxis": {
             "endlinecolor": "#2a3f5f",
             "gridcolor": "white",
             "linecolor": "white",
             "minorgridcolor": "white",
             "startlinecolor": "#2a3f5f"
            },
            "type": "carpet"
           }
          ],
          "choropleth": [
           {
            "colorbar": {
             "outlinewidth": 0,
             "ticks": ""
            },
            "type": "choropleth"
           }
          ],
          "contour": [
           {
            "colorbar": {
             "outlinewidth": 0,
             "ticks": ""
            },
            "colorscale": [
             [
              0,
              "#0d0887"
             ],
             [
              0.1111111111111111,
              "#46039f"
             ],
             [
              0.2222222222222222,
              "#7201a8"
             ],
             [
              0.3333333333333333,
              "#9c179e"
             ],
             [
              0.4444444444444444,
              "#bd3786"
             ],
             [
              0.5555555555555556,
              "#d8576b"
             ],
             [
              0.6666666666666666,
              "#ed7953"
             ],
             [
              0.7777777777777778,
              "#fb9f3a"
             ],
             [
              0.8888888888888888,
              "#fdca26"
             ],
             [
              1,
              "#f0f921"
             ]
            ],
            "type": "contour"
           }
          ],
          "contourcarpet": [
           {
            "colorbar": {
             "outlinewidth": 0,
             "ticks": ""
            },
            "type": "contourcarpet"
           }
          ],
          "heatmap": [
           {
            "colorbar": {
             "outlinewidth": 0,
             "ticks": ""
            },
            "colorscale": [
             [
              0,
              "#0d0887"
             ],
             [
              0.1111111111111111,
              "#46039f"
             ],
             [
              0.2222222222222222,
              "#7201a8"
             ],
             [
              0.3333333333333333,
              "#9c179e"
             ],
             [
              0.4444444444444444,
              "#bd3786"
             ],
             [
              0.5555555555555556,
              "#d8576b"
             ],
             [
              0.6666666666666666,
              "#ed7953"
             ],
             [
              0.7777777777777778,
              "#fb9f3a"
             ],
             [
              0.8888888888888888,
              "#fdca26"
             ],
             [
              1,
              "#f0f921"
             ]
            ],
            "type": "heatmap"
           }
          ],
          "heatmapgl": [
           {
            "colorbar": {
             "outlinewidth": 0,
             "ticks": ""
            },
            "colorscale": [
             [
              0,
              "#0d0887"
             ],
             [
              0.1111111111111111,
              "#46039f"
             ],
             [
              0.2222222222222222,
              "#7201a8"
             ],
             [
              0.3333333333333333,
              "#9c179e"
             ],
             [
              0.4444444444444444,
              "#bd3786"
             ],
             [
              0.5555555555555556,
              "#d8576b"
             ],
             [
              0.6666666666666666,
              "#ed7953"
             ],
             [
              0.7777777777777778,
              "#fb9f3a"
             ],
             [
              0.8888888888888888,
              "#fdca26"
             ],
             [
              1,
              "#f0f921"
             ]
            ],
            "type": "heatmapgl"
           }
          ],
          "histogram": [
           {
            "marker": {
             "pattern": {
              "fillmode": "overlay",
              "size": 10,
              "solidity": 0.2
             }
            },
            "type": "histogram"
           }
          ],
          "histogram2d": [
           {
            "colorbar": {
             "outlinewidth": 0,
             "ticks": ""
            },
            "colorscale": [
             [
              0,
              "#0d0887"
             ],
             [
              0.1111111111111111,
              "#46039f"
             ],
             [
              0.2222222222222222,
              "#7201a8"
             ],
             [
              0.3333333333333333,
              "#9c179e"
             ],
             [
              0.4444444444444444,
              "#bd3786"
             ],
             [
              0.5555555555555556,
              "#d8576b"
             ],
             [
              0.6666666666666666,
              "#ed7953"
             ],
             [
              0.7777777777777778,
              "#fb9f3a"
             ],
             [
              0.8888888888888888,
              "#fdca26"
             ],
             [
              1,
              "#f0f921"
             ]
            ],
            "type": "histogram2d"
           }
          ],
          "histogram2dcontour": [
           {
            "colorbar": {
             "outlinewidth": 0,
             "ticks": ""
            },
            "colorscale": [
             [
              0,
              "#0d0887"
             ],
             [
              0.1111111111111111,
              "#46039f"
             ],
             [
              0.2222222222222222,
              "#7201a8"
             ],
             [
              0.3333333333333333,
              "#9c179e"
             ],
             [
              0.4444444444444444,
              "#bd3786"
             ],
             [
              0.5555555555555556,
              "#d8576b"
             ],
             [
              0.6666666666666666,
              "#ed7953"
             ],
             [
              0.7777777777777778,
              "#fb9f3a"
             ],
             [
              0.8888888888888888,
              "#fdca26"
             ],
             [
              1,
              "#f0f921"
             ]
            ],
            "type": "histogram2dcontour"
           }
          ],
          "mesh3d": [
           {
            "colorbar": {
             "outlinewidth": 0,
             "ticks": ""
            },
            "type": "mesh3d"
           }
          ],
          "parcoords": [
           {
            "line": {
             "colorbar": {
              "outlinewidth": 0,
              "ticks": ""
             }
            },
            "type": "parcoords"
           }
          ],
          "pie": [
           {
            "automargin": true,
            "type": "pie"
           }
          ],
          "scatter": [
           {
            "fillpattern": {
             "fillmode": "overlay",
             "size": 10,
             "solidity": 0.2
            },
            "type": "scatter"
           }
          ],
          "scatter3d": [
           {
            "line": {
             "colorbar": {
              "outlinewidth": 0,
              "ticks": ""
             }
            },
            "marker": {
             "colorbar": {
              "outlinewidth": 0,
              "ticks": ""
             }
            },
            "type": "scatter3d"
           }
          ],
          "scattercarpet": [
           {
            "marker": {
             "colorbar": {
              "outlinewidth": 0,
              "ticks": ""
             }
            },
            "type": "scattercarpet"
           }
          ],
          "scattergeo": [
           {
            "marker": {
             "colorbar": {
              "outlinewidth": 0,
              "ticks": ""
             }
            },
            "type": "scattergeo"
           }
          ],
          "scattergl": [
           {
            "marker": {
             "colorbar": {
              "outlinewidth": 0,
              "ticks": ""
             }
            },
            "type": "scattergl"
           }
          ],
          "scattermapbox": [
           {
            "marker": {
             "colorbar": {
              "outlinewidth": 0,
              "ticks": ""
             }
            },
            "type": "scattermapbox"
           }
          ],
          "scatterpolar": [
           {
            "marker": {
             "colorbar": {
              "outlinewidth": 0,
              "ticks": ""
             }
            },
            "type": "scatterpolar"
           }
          ],
          "scatterpolargl": [
           {
            "marker": {
             "colorbar": {
              "outlinewidth": 0,
              "ticks": ""
             }
            },
            "type": "scatterpolargl"
           }
          ],
          "scatterternary": [
           {
            "marker": {
             "colorbar": {
              "outlinewidth": 0,
              "ticks": ""
             }
            },
            "type": "scatterternary"
           }
          ],
          "surface": [
           {
            "colorbar": {
             "outlinewidth": 0,
             "ticks": ""
            },
            "colorscale": [
             [
              0,
              "#0d0887"
             ],
             [
              0.1111111111111111,
              "#46039f"
             ],
             [
              0.2222222222222222,
              "#7201a8"
             ],
             [
              0.3333333333333333,
              "#9c179e"
             ],
             [
              0.4444444444444444,
              "#bd3786"
             ],
             [
              0.5555555555555556,
              "#d8576b"
             ],
             [
              0.6666666666666666,
              "#ed7953"
             ],
             [
              0.7777777777777778,
              "#fb9f3a"
             ],
             [
              0.8888888888888888,
              "#fdca26"
             ],
             [
              1,
              "#f0f921"
             ]
            ],
            "type": "surface"
           }
          ],
          "table": [
           {
            "cells": {
             "fill": {
              "color": "#EBF0F8"
             },
             "line": {
              "color": "white"
             }
            },
            "header": {
             "fill": {
              "color": "#C8D4E3"
             },
             "line": {
              "color": "white"
             }
            },
            "type": "table"
           }
          ]
         },
         "layout": {
          "annotationdefaults": {
           "arrowcolor": "#2a3f5f",
           "arrowhead": 0,
           "arrowwidth": 1
          },
          "autotypenumbers": "strict",
          "coloraxis": {
           "colorbar": {
            "outlinewidth": 0,
            "ticks": ""
           }
          },
          "colorscale": {
           "diverging": [
            [
             0,
             "#8e0152"
            ],
            [
             0.1,
             "#c51b7d"
            ],
            [
             0.2,
             "#de77ae"
            ],
            [
             0.3,
             "#f1b6da"
            ],
            [
             0.4,
             "#fde0ef"
            ],
            [
             0.5,
             "#f7f7f7"
            ],
            [
             0.6,
             "#e6f5d0"
            ],
            [
             0.7,
             "#b8e186"
            ],
            [
             0.8,
             "#7fbc41"
            ],
            [
             0.9,
             "#4d9221"
            ],
            [
             1,
             "#276419"
            ]
           ],
           "sequential": [
            [
             0,
             "#0d0887"
            ],
            [
             0.1111111111111111,
             "#46039f"
            ],
            [
             0.2222222222222222,
             "#7201a8"
            ],
            [
             0.3333333333333333,
             "#9c179e"
            ],
            [
             0.4444444444444444,
             "#bd3786"
            ],
            [
             0.5555555555555556,
             "#d8576b"
            ],
            [
             0.6666666666666666,
             "#ed7953"
            ],
            [
             0.7777777777777778,
             "#fb9f3a"
            ],
            [
             0.8888888888888888,
             "#fdca26"
            ],
            [
             1,
             "#f0f921"
            ]
           ],
           "sequentialminus": [
            [
             0,
             "#0d0887"
            ],
            [
             0.1111111111111111,
             "#46039f"
            ],
            [
             0.2222222222222222,
             "#7201a8"
            ],
            [
             0.3333333333333333,
             "#9c179e"
            ],
            [
             0.4444444444444444,
             "#bd3786"
            ],
            [
             0.5555555555555556,
             "#d8576b"
            ],
            [
             0.6666666666666666,
             "#ed7953"
            ],
            [
             0.7777777777777778,
             "#fb9f3a"
            ],
            [
             0.8888888888888888,
             "#fdca26"
            ],
            [
             1,
             "#f0f921"
            ]
           ]
          },
          "colorway": [
           "#636efa",
           "#EF553B",
           "#00cc96",
           "#ab63fa",
           "#FFA15A",
           "#19d3f3",
           "#FF6692",
           "#B6E880",
           "#FF97FF",
           "#FECB52"
          ],
          "font": {
           "color": "#2a3f5f"
          },
          "geo": {
           "bgcolor": "white",
           "lakecolor": "white",
           "landcolor": "#E5ECF6",
           "showlakes": true,
           "showland": true,
           "subunitcolor": "white"
          },
          "hoverlabel": {
           "align": "left"
          },
          "hovermode": "closest",
          "mapbox": {
           "style": "light"
          },
          "paper_bgcolor": "white",
          "plot_bgcolor": "#E5ECF6",
          "polar": {
           "angularaxis": {
            "gridcolor": "white",
            "linecolor": "white",
            "ticks": ""
           },
           "bgcolor": "#E5ECF6",
           "radialaxis": {
            "gridcolor": "white",
            "linecolor": "white",
            "ticks": ""
           }
          },
          "scene": {
           "xaxis": {
            "backgroundcolor": "#E5ECF6",
            "gridcolor": "white",
            "gridwidth": 2,
            "linecolor": "white",
            "showbackground": true,
            "ticks": "",
            "zerolinecolor": "white"
           },
           "yaxis": {
            "backgroundcolor": "#E5ECF6",
            "gridcolor": "white",
            "gridwidth": 2,
            "linecolor": "white",
            "showbackground": true,
            "ticks": "",
            "zerolinecolor": "white"
           },
           "zaxis": {
            "backgroundcolor": "#E5ECF6",
            "gridcolor": "white",
            "gridwidth": 2,
            "linecolor": "white",
            "showbackground": true,
            "ticks": "",
            "zerolinecolor": "white"
           }
          },
          "shapedefaults": {
           "line": {
            "color": "#2a3f5f"
           }
          },
          "ternary": {
           "aaxis": {
            "gridcolor": "white",
            "linecolor": "white",
            "ticks": ""
           },
           "baxis": {
            "gridcolor": "white",
            "linecolor": "white",
            "ticks": ""
           },
           "bgcolor": "#E5ECF6",
           "caxis": {
            "gridcolor": "white",
            "linecolor": "white",
            "ticks": ""
           }
          },
          "title": {
           "x": 0.05
          },
          "xaxis": {
           "automargin": true,
           "gridcolor": "white",
           "linecolor": "white",
           "ticks": "",
           "title": {
            "standoff": 15
           },
           "zerolinecolor": "white",
           "zerolinewidth": 2
          },
          "yaxis": {
           "automargin": true,
           "gridcolor": "white",
           "linecolor": "white",
           "ticks": "",
           "title": {
            "standoff": 15
           },
           "zerolinecolor": "white",
           "zerolinewidth": 2
          }
         }
        },
        "title": {
         "text": "Yearly Crime Type Distribution"
        },
        "xaxis": {
         "anchor": "y",
         "autorange": true,
         "domain": [
          0,
          1
         ],
         "range": [
          1962.5,
          2020.5
         ],
         "title": {
          "text": "Year"
         },
         "type": "linear"
        },
        "yaxis": {
         "anchor": "x",
         "autorange": true,
         "domain": [
          0,
          1
         ],
         "range": [
          0,
          54542.10526315789
         ],
         "title": {
          "text": "Crime Count"
         },
         "type": "linear"
        }
       }
      },
      "image/png": "[encoded data removed]",
      "text/html": [
       "<div>                            <div id=\"22217ebf-6f54-421d-b524-6c8ac2b7457a\" class=\"plotly-graph-div\" style=\"height:525px; width:100%;\"></div>            <script type=\"text/javascript\">                require([\"plotly\"], function(Plotly) {                    window.PLOTLYENV=window.PLOTLYENV || {};                                    if (document.getElementById(\"22217ebf-6f54-421d-b524-6c8ac2b7457a\")) {                    Plotly.newPlot(                        \"22217ebf-6f54-421d-b524-6c8ac2b7457a\",                        [{\"alignmentgroup\":\"True\",\"hovertemplate\":\"Description=RAPE<br>Year=%{x}<br>Crime Count=%{y}<extra></extra>\",\"legendgroup\":\"RAPE\",\"marker\":{\"color\":\"rgb(127, 60, 141)\",\"pattern\":{\"shape\":\"\"}},\"name\":\"RAPE\",\"offsetgroup\":\"RAPE\",\"orientation\":\"v\",\"showlegend\":true,\"textposition\":\"auto\",\"x\":[1963,1969,1975,1977,1978,1980,1981,1982,1985,1988,1993,1995,1998,1999,2000,2001,2003,2004,2006,2007,2008,2009,2010,2011,2012,2013,2014,2015,2016,2017,2018,2019,2020],\"xaxis\":\"x\",\"y\":[1,1,1,1,1,1,1,1,1,1,2,2,2,2,3,3,1,2,1,5,5,7,3,9,10,15,241,282,288,360,349,271,12],\"yaxis\":\"y\",\"type\":\"bar\"},{\"alignmentgroup\":\"True\",\"hovertemplate\":\"Description=AGG. ASSAULT<br>Year=%{x}<br>Crime Count=%{y}<extra></extra>\",\"legendgroup\":\"AGG. ASSAULT\",\"marker\":{\"color\":\"rgb(17, 165, 121)\",\"pattern\":{\"shape\":\"\"}},\"name\":\"AGG. ASSAULT\",\"offsetgroup\":\"AGG. ASSAULT\",\"orientation\":\"v\",\"showlegend\":true,\"textposition\":\"auto\",\"x\":[2014,2015,2016,2017,2018,2019,2020],\"xaxis\":\"x\",\"y\":[4217,4721,5117,5795,5576,5606,422],\"yaxis\":\"y\",\"type\":\"bar\"},{\"alignmentgroup\":\"True\",\"hovertemplate\":\"Description=ARSON<br>Year=%{x}<br>Crime Count=%{y}<extra></extra>\",\"legendgroup\":\"ARSON\",\"marker\":{\"color\":\"rgb(57, 105, 172)\",\"pattern\":{\"shape\":\"\"}},\"name\":\"ARSON\",\"offsetgroup\":\"ARSON\",\"orientation\":\"v\",\"showlegend\":true,\"textposition\":\"auto\",\"x\":[2014,2015,2016,2017,2018,2019,2020],\"xaxis\":\"x\",\"y\":[214,284,265,264,126,106,1],\"yaxis\":\"y\",\"type\":\"bar\"},{\"alignmentgroup\":\"True\",\"hovertemplate\":\"Description=AUTO THEFT<br>Year=%{x}<br>Crime Count=%{y}<extra></extra>\",\"legendgroup\":\"AUTO THEFT\",\"marker\":{\"color\":\"rgb(242, 183, 1)\",\"pattern\":{\"shape\":\"\"}},\"name\":\"AUTO THEFT\",\"offsetgroup\":\"AUTO THEFT\",\"orientation\":\"v\",\"showlegend\":true,\"textposition\":\"auto\",\"x\":[2014,2015,2016,2017,2018,2019,2020],\"xaxis\":\"x\",\"y\":[3621,4504,4550,4614,4188,3706,341],\"yaxis\":\"y\",\"type\":\"bar\"},{\"alignmentgroup\":\"True\",\"hovertemplate\":\"Description=BURGLARY<br>Year=%{x}<br>Crime Count=%{y}<extra></extra>\",\"legendgroup\":\"BURGLARY\",\"marker\":{\"color\":\"rgb(231, 63, 116)\",\"pattern\":{\"shape\":\"\"}},\"name\":\"BURGLARY\",\"offsetgroup\":\"BURGLARY\",\"orientation\":\"v\",\"showlegend\":true,\"textposition\":\"auto\",\"x\":[2014,2015,2016,2017,2018,2019,2020],\"xaxis\":\"x\",\"y\":[6841,7830,7367,8076,6201,5360,417],\"yaxis\":\"y\",\"type\":\"bar\"},{\"alignmentgroup\":\"True\",\"hovertemplate\":\"Description=COMMON ASSAULT<br>Year=%{x}<br>Crime Count=%{y}<extra></extra>\",\"legendgroup\":\"COMMON ASSAULT\",\"marker\":{\"color\":\"rgb(128, 186, 90)\",\"pattern\":{\"shape\":\"\"}},\"name\":\"COMMON ASSAULT\",\"offsetgroup\":\"COMMON ASSAULT\",\"orientation\":\"v\",\"showlegend\":true,\"textposition\":\"auto\",\"x\":[2014,2015,2016,2017,2018,2019,2020],\"xaxis\":\"x\",\"y\":[7396,6938,7446,8692,8338,8190,750],\"yaxis\":\"y\",\"type\":\"bar\"},{\"alignmentgroup\":\"True\",\"hovertemplate\":\"Description=HOMICIDE<br>Year=%{x}<br>Crime Count=%{y}<extra></extra>\",\"legendgroup\":\"HOMICIDE\",\"marker\":{\"color\":\"rgb(230, 131, 16)\",\"pattern\":{\"shape\":\"\"}},\"name\":\"HOMICIDE\",\"offsetgroup\":\"HOMICIDE\",\"orientation\":\"v\",\"showlegend\":true,\"textposition\":\"auto\",\"x\":[2014,2015,2016,2017,2018,2019,2020],\"xaxis\":\"x\",\"y\":[211,342,318,342,308,345,31],\"yaxis\":\"y\",\"type\":\"bar\"},{\"alignmentgroup\":\"True\",\"hovertemplate\":\"Description=LARCENY<br>Year=%{x}<br>Crime Count=%{y}<extra></extra>\",\"legendgroup\":\"LARCENY\",\"marker\":{\"color\":\"rgb(0, 134, 149)\",\"pattern\":{\"shape\":\"\"}},\"name\":\"LARCENY\",\"offsetgroup\":\"LARCENY\",\"orientation\":\"v\",\"showlegend\":true,\"textposition\":\"auto\",\"x\":[2014,2015,2016,2017,2018,2019,2020],\"xaxis\":\"x\",\"y\":[11302,10605,10403,10721,10612,10483,864],\"yaxis\":\"y\",\"type\":\"bar\"},{\"alignmentgroup\":\"True\",\"hovertemplate\":\"Description=LARCENY FROM AUTO<br>Year=%{x}<br>Crime Count=%{y}<extra></extra>\",\"legendgroup\":\"LARCENY FROM AUTO\",\"marker\":{\"color\":\"rgb(207, 28, 144)\",\"pattern\":{\"shape\":\"\"}},\"name\":\"LARCENY FROM AUTO\",\"offsetgroup\":\"LARCENY FROM AUTO\",\"orientation\":\"v\",\"showlegend\":true,\"textposition\":\"auto\",\"x\":[2014,2015,2016,2017,2018,2019,2020],\"xaxis\":\"x\",\"y\":[6651,6977,6452,6127,6268,5527,439],\"yaxis\":\"y\",\"type\":\"bar\"},{\"alignmentgroup\":\"True\",\"hovertemplate\":\"Description=ROBBERY - CARJACKING<br>Year=%{x}<br>Crime Count=%{y}<extra></extra>\",\"legendgroup\":\"ROBBERY - CARJACKING\",\"marker\":{\"color\":\"rgb(249, 123, 114)\",\"pattern\":{\"shape\":\"\"}},\"name\":\"ROBBERY - CARJACKING\",\"offsetgroup\":\"ROBBERY - CARJACKING\",\"orientation\":\"v\",\"showlegend\":true,\"textposition\":\"auto\",\"x\":[2014,2015,2016,2017,2018,2019,2020],\"xaxis\":\"x\",\"y\":[153,282,406,555,473,575,67],\"yaxis\":\"y\",\"type\":\"bar\"},{\"alignmentgroup\":\"True\",\"hovertemplate\":\"Description=ROBBERY - COMMERCIAL<br>Year=%{x}<br>Crime Count=%{y}<extra></extra>\",\"legendgroup\":\"ROBBERY - COMMERCIAL\",\"marker\":{\"color\":\"rgb(165, 170, 153)\",\"pattern\":{\"shape\":\"\"}},\"name\":\"ROBBERY - COMMERCIAL\",\"offsetgroup\":\"ROBBERY - COMMERCIAL\",\"orientation\":\"v\",\"showlegend\":true,\"textposition\":\"auto\",\"x\":[2014,2015,2016,2017,2018,2019,2020],\"xaxis\":\"x\",\"y\":[625,881,862,1076,912,755,68],\"yaxis\":\"y\",\"type\":\"bar\"},{\"alignmentgroup\":\"True\",\"hovertemplate\":\"Description=ROBBERY - RESIDENCE<br>Year=%{x}<br>Crime Count=%{y}<extra></extra>\",\"legendgroup\":\"ROBBERY - RESIDENCE\",\"marker\":{\"color\":\"rgb(127, 60, 141)\",\"pattern\":{\"shape\":\"\"}},\"name\":\"ROBBERY - RESIDENCE\",\"offsetgroup\":\"ROBBERY - RESIDENCE\",\"orientation\":\"v\",\"showlegend\":true,\"textposition\":\"auto\",\"x\":[2014,2015,2016,2017,2018,2019,2020],\"xaxis\":\"x\",\"y\":[461,438,527,556,510,412,60],\"yaxis\":\"y\",\"type\":\"bar\"},{\"alignmentgroup\":\"True\",\"hovertemplate\":\"Description=ROBBERY - STREET<br>Year=%{x}<br>Crime Count=%{y}<extra></extra>\",\"legendgroup\":\"ROBBERY - STREET\",\"marker\":{\"color\":\"rgb(17, 165, 121)\",\"pattern\":{\"shape\":\"\"}},\"name\":\"ROBBERY - STREET\",\"offsetgroup\":\"ROBBERY - STREET\",\"orientation\":\"v\",\"showlegend\":true,\"textposition\":\"auto\",\"x\":[2014,2015,2016,2017,2018,2019,2020],\"xaxis\":\"x\",\"y\":[2623,3087,3757,3934,3572,3329,260],\"yaxis\":\"y\",\"type\":\"bar\"},{\"alignmentgroup\":\"True\",\"hovertemplate\":\"Description=SHOOTING<br>Year=%{x}<br>Crime Count=%{y}<extra></extra>\",\"legendgroup\":\"SHOOTING\",\"marker\":{\"color\":\"rgb(57, 105, 172)\",\"pattern\":{\"shape\":\"\"}},\"name\":\"SHOOTING\",\"offsetgroup\":\"SHOOTING\",\"orientation\":\"v\",\"showlegend\":true,\"textposition\":\"auto\",\"x\":[2014,2015,2016,2017,2018,2019,2020],\"xaxis\":\"x\",\"y\":[369,631,665,703,677,770,52],\"yaxis\":\"y\",\"type\":\"bar\"}],                        {\"template\":{\"data\":{\"histogram2dcontour\":[{\"type\":\"histogram2dcontour\",\"colorbar\":{\"outlinewidth\":0,\"ticks\":\"\"},\"colorscale\":[[0.0,\"#0d0887\"],[0.1111111111111111,\"#46039f\"],[0.2222222222222222,\"#7201a8\"],[0.3333333333333333,\"#9c179e\"],[0.4444444444444444,\"#bd3786\"],[0.5555555555555556,\"#d8576b\"],[0.6666666666666666,\"#ed7953\"],[0.7777777777777778,\"#fb9f3a\"],[0.8888888888888888,\"#fdca26\"],[1.0,\"#f0f921\"]]}],\"choropleth\":[{\"type\":\"choropleth\",\"colorbar\":{\"outlinewidth\":0,\"ticks\":\"\"}}],\"histogram2d\":[{\"type\":\"histogram2d\",\"colorbar\":{\"outlinewidth\":0,\"ticks\":\"\"},\"colorscale\":[[0.0,\"#0d0887\"],[0.1111111111111111,\"#46039f\"],[0.2222222222222222,\"#7201a8\"],[0.3333333333333333,\"#9c179e\"],[0.4444444444444444,\"#bd3786\"],[0.5555555555555556,\"#d8576b\"],[0.6666666666666666,\"#ed7953\"],[0.7777777777777778,\"#fb9f3a\"],[0.8888888888888888,\"#fdca26\"],[1.0,\"#f0f921\"]]}],\"heatmap\":[{\"type\":\"heatmap\",\"colorbar\":{\"outlinewidth\":0,\"ticks\":\"\"},\"colorscale\":[[0.0,\"#0d0887\"],[0.1111111111111111,\"#46039f\"],[0.2222222222222222,\"#7201a8\"],[0.3333333333333333,\"#9c179e\"],[0.4444444444444444,\"#bd3786\"],[0.5555555555555556,\"#d8576b\"],[0.6666666666666666,\"#ed7953\"],[0.7777777777777778,\"#fb9f3a\"],[0.8888888888888888,\"#fdca26\"],[1.0,\"#f0f921\"]]}],\"heatmapgl\":[{\"type\":\"heatmapgl\",\"colorbar\":{\"outlinewidth\":0,\"ticks\":\"\"},\"colorscale\":[[0.0,\"#0d0887\"],[0.1111111111111111,\"#46039f\"],[0.2222222222222222,\"#7201a8\"],[0.3333333333333333,\"#9c179e\"],[0.4444444444444444,\"#bd3786\"],[0.5555555555555556,\"#d8576b\"],[0.6666666666666666,\"#ed7953\"],[0.7777777777777778,\"#fb9f3a\"],[0.8888888888888888,\"#fdca26\"],[1.0,\"#f0f921\"]]}],\"contourcarpet\":[{\"type\":\"contourcarpet\",\"colorbar\":{\"outlinewidth\":0,\"ticks\":\"\"}}],\"contour\":[{\"type\":\"contour\",\"colorbar\":{\"outlinewidth\":0,\"ticks\":\"\"},\"colorscale\":[[0.0,\"#0d0887\"],[0.1111111111111111,\"#46039f\"],[0.2222222222222222,\"#7201a8\"],[0.3333333333333333,\"#9c179e\"],[0.4444444444444444,\"#bd3786\"],[0.5555555555555556,\"#d8576b\"],[0.6666666666666666,\"#ed7953\"],[0.7777777777777778,\"#fb9f3a\"],[0.8888888888888888,\"#fdca26\"],[1.0,\"#f0f921\"]]}],\"surface\":[{\"type\":\"surface\",\"colorbar\":{\"outlinewidth\":0,\"ticks\":\"\"},\"colorscale\":[[0.0,\"#0d0887\"],[0.1111111111111111,\"#46039f\"],[0.2222222222222222,\"#7201a8\"],[0.3333333333333333,\"#9c179e\"],[0.4444444444444444,\"#bd3786\"],[0.5555555555555556,\"#d8576b\"],[0.6666666666666666,\"#ed7953\"],[0.7777777777777778,\"#fb9f3a\"],[0.8888888888888888,\"#fdca26\"],[1.0,\"#f0f921\"]]}],\"mesh3d\":[{\"type\":\"mesh3d\",\"colorbar\":{\"outlinewidth\":0,\"ticks\":\"\"}}],\"scatter\":[{\"fillpattern\":{\"fillmode\":\"overlay\",\"size\":10,\"solidity\":0.2},\"type\":\"scatter\"}],\"parcoords\":[{\"type\":\"parcoords\",\"line\":{\"colorbar\":{\"outlinewidth\":0,\"ticks\":\"\"}}}],\"scatterpolargl\":[{\"type\":\"scatterpolargl\",\"marker\":{\"colorbar\":{\"outlinewidth\":0,\"ticks\":\"\"}}}],\"bar\":[{\"error_x\":{\"color\":\"#2a3f5f\"},\"error_y\":{\"color\":\"#2a3f5f\"},\"marker\":{\"line\":{\"color\":\"#E5ECF6\",\"width\":0.5},\"pattern\":{\"fillmode\":\"overlay\",\"size\":10,\"solidity\":0.2}},\"type\":\"bar\"}],\"scattergeo\":[{\"type\":\"scattergeo\",\"marker\":{\"colorbar\":{\"outlinewidth\":0,\"ticks\":\"\"}}}],\"scatterpolar\":[{\"type\":\"scatterpolar\",\"marker\":{\"colorbar\":{\"outlinewidth\":0,\"ticks\":\"\"}}}],\"histogram\":[{\"marker\":{\"pattern\":{\"fillmode\":\"overlay\",\"size\":10,\"solidity\":0.2}},\"type\":\"histogram\"}],\"scattergl\":[{\"type\":\"scattergl\",\"marker\":{\"colorbar\":{\"outlinewidth\":0,\"ticks\":\"\"}}}],\"scatter3d\":[{\"type\":\"scatter3d\",\"line\":{\"colorbar\":{\"outlinewidth\":0,\"ticks\":\"\"}},\"marker\":{\"colorbar\":{\"outlinewidth\":0,\"ticks\":\"\"}}}],\"scattermapbox\":[{\"type\":\"scattermapbox\",\"marker\":{\"colorbar\":{\"outlinewidth\":0,\"ticks\":\"\"}}}],\"scatterternary\":[{\"type\":\"scatterternary\",\"marker\":{\"colorbar\":{\"outlinewidth\":0,\"ticks\":\"\"}}}],\"scattercarpet\":[{\"type\":\"scattercarpet\",\"marker\":{\"colorbar\":{\"outlinewidth\":0,\"ticks\":\"\"}}}],\"carpet\":[{\"aaxis\":{\"endlinecolor\":\"#2a3f5f\",\"gridcolor\":\"white\",\"linecolor\":\"white\",\"minorgridcolor\":\"white\",\"startlinecolor\":\"#2a3f5f\"},\"baxis\":{\"endlinecolor\":\"#2a3f5f\",\"gridcolor\":\"white\",\"linecolor\":\"white\",\"minorgridcolor\":\"white\",\"startlinecolor\":\"#2a3f5f\"},\"type\":\"carpet\"}],\"table\":[{\"cells\":{\"fill\":{\"color\":\"#EBF0F8\"},\"line\":{\"color\":\"white\"}},\"header\":{\"fill\":{\"color\":\"#C8D4E3\"},\"line\":{\"color\":\"white\"}},\"type\":\"table\"}],\"barpolar\":[{\"marker\":{\"line\":{\"color\":\"#E5ECF6\",\"width\":0.5},\"pattern\":{\"fillmode\":\"overlay\",\"size\":10,\"solidity\":0.2}},\"type\":\"barpolar\"}],\"pie\":[{\"automargin\":true,\"type\":\"pie\"}]},\"layout\":{\"autotypenumbers\":\"strict\",\"colorway\":[\"#636efa\",\"#EF553B\",\"#00cc96\",\"#ab63fa\",\"#FFA15A\",\"#19d3f3\",\"#FF6692\",\"#B6E880\",\"#FF97FF\",\"#FECB52\"],\"font\":{\"color\":\"#2a3f5f\"},\"hovermode\":\"closest\",\"hoverlabel\":{\"align\":\"left\"},\"paper_bgcolor\":\"white\",\"plot_bgcolor\":\"#E5ECF6\",\"polar\":{\"bgcolor\":\"#E5ECF6\",\"angularaxis\":{\"gridcolor\":\"white\",\"linecolor\":\"white\",\"ticks\":\"\"},\"radialaxis\":{\"gridcolor\":\"white\",\"linecolor\":\"white\",\"ticks\":\"\"}},\"ternary\":{\"bgcolor\":\"#E5ECF6\",\"aaxis\":{\"gridcolor\":\"white\",\"linecolor\":\"white\",\"ticks\":\"\"},\"baxis\":{\"gridcolor\":\"white\",\"linecolor\":\"white\",\"ticks\":\"\"},\"caxis\":{\"gridcolor\":\"white\",\"linecolor\":\"white\",\"ticks\":\"\"}},\"coloraxis\":{\"colorbar\":{\"outlinewidth\":0,\"ticks\":\"\"}},\"colorscale\":{\"sequential\":[[0.0,\"#0d0887\"],[0.1111111111111111,\"#46039f\"],[0.2222222222222222,\"#7201a8\"],[0.3333333333333333,\"#9c179e\"],[0.4444444444444444,\"#bd3786\"],[0.5555555555555556,\"#d8576b\"],[0.6666666666666666,\"#ed7953\"],[0.7777777777777778,\"#fb9f3a\"],[0.8888888888888888,\"#fdca26\"],[1.0,\"#f0f921\"]],\"sequentialminus\":[[0.0,\"#0d0887\"],[0.1111111111111111,\"#46039f\"],[0.2222222222222222,\"#7201a8\"],[0.3333333333333333,\"#9c179e\"],[0.4444444444444444,\"#bd3786\"],[0.5555555555555556,\"#d8576b\"],[0.6666666666666666,\"#ed7953\"],[0.7777777777777778,\"#fb9f3a\"],[0.8888888888888888,\"#fdca26\"],[1.0,\"#f0f921\"]],\"diverging\":[[0,\"#8e0152\"],[0.1,\"#c51b7d\"],[0.2,\"#de77ae\"],[0.3,\"#f1b6da\"],[0.4,\"#fde0ef\"],[0.5,\"#f7f7f7\"],[0.6,\"#e6f5d0\"],[0.7,\"#b8e186\"],[0.8,\"#7fbc41\"],[0.9,\"#4d9221\"],[1,\"#276419\"]]},\"xaxis\":{\"gridcolor\":\"white\",\"linecolor\":\"white\",\"ticks\":\"\",\"title\":{\"standoff\":15},\"zerolinecolor\":\"white\",\"automargin\":true,\"zerolinewidth\":2},\"yaxis\":{\"gridcolor\":\"white\",\"linecolor\":\"white\",\"ticks\":\"\",\"title\":{\"standoff\":15},\"zerolinecolor\":\"white\",\"automargin\":true,\"zerolinewidth\":2},\"scene\":{\"xaxis\":{\"backgroundcolor\":\"#E5ECF6\",\"gridcolor\":\"white\",\"linecolor\":\"white\",\"showbackground\":true,\"ticks\":\"\",\"zerolinecolor\":\"white\",\"gridwidth\":2},\"yaxis\":{\"backgroundcolor\":\"#E5ECF6\",\"gridcolor\":\"white\",\"linecolor\":\"white\",\"showbackground\":true,\"ticks\":\"\",\"zerolinecolor\":\"white\",\"gridwidth\":2},\"zaxis\":{\"backgroundcolor\":\"#E5ECF6\",\"gridcolor\":\"white\",\"linecolor\":\"white\",\"showbackground\":true,\"ticks\":\"\",\"zerolinecolor\":\"white\",\"gridwidth\":2}},\"shapedefaults\":{\"line\":{\"color\":\"#2a3f5f\"}},\"annotationdefaults\":{\"arrowcolor\":\"#2a3f5f\",\"arrowhead\":0,\"arrowwidth\":1},\"geo\":{\"bgcolor\":\"white\",\"landcolor\":\"#E5ECF6\",\"subunitcolor\":\"white\",\"showland\":true,\"showlakes\":true,\"lakecolor\":\"white\"},\"title\":{\"x\":0.05},\"mapbox\":{\"style\":\"light\"}}},\"xaxis\":{\"anchor\":\"y\",\"domain\":[0.0,1.0],\"title\":{\"text\":\"Year\"}},\"yaxis\":{\"anchor\":\"x\",\"domain\":[0.0,1.0],\"title\":{\"text\":\"Crime Count\"}},\"legend\":{\"title\":{\"text\":\"Description\"},\"tracegroupgap\":0},\"title\":{\"text\":\"Yearly Crime Type Distribution\"},\"barmode\":\"relative\"},                        {\"responsive\": true}                    ).then(function(){\n",
       "                            \n",
       "var gd = document.getElementById('22217ebf-6f54-421d-b524-6c8ac2b7457a');\n",
       "var x = new MutationObserver(function (mutations, observer) {{\n",
       "        var display = window.getComputedStyle(gd).display;\n",
       "        if (!display || display === 'none') {{\n",
       "            console.log([gd, 'removed!']);\n",
       "            Plotly.purge(gd);\n",
       "            observer.disconnect();\n",
       "        }}\n",
       "}});\n",
       "\n",
       "// Listen for the removal of the full notebook cells\n",
       "var notebookContainer = gd.closest('#notebook-container');\n",
       "if (notebookContainer) {{\n",
       "    x.observe(notebookContainer, {childList: true});\n",
       "}}\n",
       "\n",
       "// Listen for the clearing of the current output cell\n",
       "var outputEl = gd.closest('.output');\n",
       "if (outputEl) {{\n",
       "    x.observe(outputEl, {childList: true});\n",
       "}}\n",
       "\n",
       "                        })                };                });            </script>        </div>"
      ]
     },
     "metadata": {},
     "output_type": "display_data"
    },
    {
     "data": {
      "application/vnd.plotly.v1+json": {
       "config": {
        "plotlyServerURL": "https://plot.ly"
       },
       "data": [
        {
         "alignmentgroup": "True",
         "hovertemplate": "Description=AGG. ASSAULT<br>Month=%{x}<br>Crime Count=%{y}<extra></extra>",
         "legendgroup": "AGG. ASSAULT",
         "marker": {
          "color": "rgb(127, 60, 141)",
          "pattern": {
           "shape": ""
          }
         },
         "name": "AGG. ASSAULT",
         "offsetgroup": "AGG. ASSAULT",
         "orientation": "v",
         "showlegend": true,
         "textposition": "auto",
         "type": "bar",
         "x": [
          1,
          2,
          3,
          4,
          5,
          6,
          7,
          8,
          9,
          10,
          11,
          12
         ],
         "xaxis": "x",
         "y": [
          2543,
          1927,
          2392,
          2737,
          2987,
          2907,
          2949,
          2932,
          2756,
          2639,
          2360,
          2325
         ],
         "yaxis": "y"
        },
        {
         "alignmentgroup": "True",
         "hovertemplate": "Description=ARSON<br>Month=%{x}<br>Crime Count=%{y}<extra></extra>",
         "legendgroup": "ARSON",
         "marker": {
          "color": "rgb(17, 165, 121)",
          "pattern": {
           "shape": ""
          }
         },
         "name": "ARSON",
         "offsetgroup": "ARSON",
         "orientation": "v",
         "showlegend": true,
         "textposition": "auto",
         "type": "bar",
         "x": [
          1,
          2,
          3,
          4,
          5,
          6,
          7,
          8,
          9,
          10,
          11,
          12
         ],
         "xaxis": "x",
         "y": [
          87,
          68,
          86,
          139,
          131,
          118,
          122,
          102,
          108,
          108,
          107,
          84
         ],
         "yaxis": "y"
        },
        {
         "alignmentgroup": "True",
         "hovertemplate": "Description=AUTO THEFT<br>Month=%{x}<br>Crime Count=%{y}<extra></extra>",
         "legendgroup": "AUTO THEFT",
         "marker": {
          "color": "rgb(57, 105, 172)",
          "pattern": {
           "shape": ""
          }
         },
         "name": "AUTO THEFT",
         "offsetgroup": "AUTO THEFT",
         "orientation": "v",
         "showlegend": true,
         "textposition": "auto",
         "type": "bar",
         "x": [
          1,
          2,
          3,
          4,
          5,
          6,
          7,
          8,
          9,
          10,
          11,
          12
         ],
         "xaxis": "x",
         "y": [
          2608,
          1768,
          1786,
          1890,
          2063,
          2247,
          2399,
          2272,
          2069,
          2189,
          2131,
          2102
         ],
         "yaxis": "y"
        },
        {
         "alignmentgroup": "True",
         "hovertemplate": "Description=BURGLARY<br>Month=%{x}<br>Crime Count=%{y}<extra></extra>",
         "legendgroup": "BURGLARY",
         "marker": {
          "color": "rgb(242, 183, 1)",
          "pattern": {
           "shape": ""
          }
         },
         "name": "BURGLARY",
         "offsetgroup": "BURGLARY",
         "orientation": "v",
         "showlegend": true,
         "textposition": "auto",
         "type": "bar",
         "x": [
          1,
          2,
          3,
          4,
          5,
          6,
          7,
          8,
          9,
          10,
          11,
          12
         ],
         "xaxis": "x",
         "y": [
          3795,
          2750,
          2823,
          3365,
          3517,
          3610,
          3730,
          3661,
          3739,
          3919,
          3541,
          3642
         ],
         "yaxis": "y"
        },
        {
         "alignmentgroup": "True",
         "hovertemplate": "Description=COMMON ASSAULT<br>Month=%{x}<br>Crime Count=%{y}<extra></extra>",
         "legendgroup": "COMMON ASSAULT",
         "marker": {
          "color": "rgb(231, 63, 116)",
          "pattern": {
           "shape": ""
          }
         },
         "name": "COMMON ASSAULT",
         "offsetgroup": "COMMON ASSAULT",
         "orientation": "v",
         "showlegend": true,
         "textposition": "auto",
         "type": "bar",
         "x": [
          1,
          2,
          3,
          4,
          5,
          6,
          7,
          8,
          9,
          10,
          11,
          12
         ],
         "xaxis": "x",
         "y": [
          4099,
          3451,
          3931,
          4085,
          4345,
          4217,
          3949,
          3941,
          4170,
          4203,
          3746,
          3613
         ],
         "yaxis": "y"
        },
        {
         "alignmentgroup": "True",
         "hovertemplate": "Description=HOMICIDE<br>Month=%{x}<br>Crime Count=%{y}<extra></extra>",
         "legendgroup": "HOMICIDE",
         "marker": {
          "color": "rgb(128, 186, 90)",
          "pattern": {
           "shape": ""
          }
         },
         "name": "HOMICIDE",
         "offsetgroup": "HOMICIDE",
         "orientation": "v",
         "showlegend": true,
         "textposition": "auto",
         "type": "bar",
         "x": [
          1,
          2,
          3,
          4,
          5,
          6,
          7,
          8,
          9,
          10,
          11,
          12
         ],
         "xaxis": "x",
         "y": [
          172,
          109,
          108,
          147,
          180,
          155,
          202,
          178,
          173,
          175,
          139,
          159
         ],
         "yaxis": "y"
        },
        {
         "alignmentgroup": "True",
         "hovertemplate": "Description=LARCENY<br>Month=%{x}<br>Crime Count=%{y}<extra></extra>",
         "legendgroup": "LARCENY",
         "marker": {
          "color": "rgb(230, 131, 16)",
          "pattern": {
           "shape": ""
          }
         },
         "name": "LARCENY",
         "offsetgroup": "LARCENY",
         "orientation": "v",
         "showlegend": true,
         "textposition": "auto",
         "type": "bar",
         "x": [
          1,
          2,
          3,
          4,
          5,
          6,
          7,
          8,
          9,
          10,
          11,
          12
         ],
         "xaxis": "x",
         "y": [
          5526,
          4241,
          4774,
          5184,
          5836,
          5741,
          5842,
          5972,
          5770,
          5691,
          5137,
          5276
         ],
         "yaxis": "y"
        },
        {
         "alignmentgroup": "True",
         "hovertemplate": "Description=LARCENY FROM AUTO<br>Month=%{x}<br>Crime Count=%{y}<extra></extra>",
         "legendgroup": "LARCENY FROM AUTO",
         "marker": {
          "color": "rgb(0, 134, 149)",
          "pattern": {
           "shape": ""
          }
         },
         "name": "LARCENY FROM AUTO",
         "offsetgroup": "LARCENY FROM AUTO",
         "orientation": "v",
         "showlegend": true,
         "textposition": "auto",
         "type": "bar",
         "x": [
          1,
          2,
          3,
          4,
          5,
          6,
          7,
          8,
          9,
          10,
          11,
          12
         ],
         "xaxis": "x",
         "y": [
          3267,
          2299,
          2535,
          2784,
          3177,
          3436,
          3567,
          3756,
          3419,
          3784,
          3336,
          3081
         ],
         "yaxis": "y"
        },
        {
         "alignmentgroup": "True",
         "hovertemplate": "Description=RAPE<br>Month=%{x}<br>Crime Count=%{y}<extra></extra>",
         "legendgroup": "RAPE",
         "marker": {
          "color": "rgb(207, 28, 144)",
          "pattern": {
           "shape": ""
          }
         },
         "name": "RAPE",
         "offsetgroup": "RAPE",
         "orientation": "v",
         "showlegend": true,
         "textposition": "auto",
         "type": "bar",
         "x": [
          1,
          2,
          3,
          4,
          5,
          6,
          7,
          8,
          9,
          10,
          11,
          12
         ],
         "xaxis": "x",
         "y": [
          175,
          133,
          161,
          176,
          173,
          181,
          163,
          163,
          148,
          164,
          122,
          126
         ],
         "yaxis": "y"
        },
        {
         "alignmentgroup": "True",
         "hovertemplate": "Description=ROBBERY - CARJACKING<br>Month=%{x}<br>Crime Count=%{y}<extra></extra>",
         "legendgroup": "ROBBERY - CARJACKING",
         "marker": {
          "color": "rgb(249, 123, 114)",
          "pattern": {
           "shape": ""
          }
         },
         "name": "ROBBERY - CARJACKING",
         "offsetgroup": "ROBBERY - CARJACKING",
         "orientation": "v",
         "showlegend": true,
         "textposition": "auto",
         "type": "bar",
         "x": [
          1,
          2,
          3,
          4,
          5,
          6,
          7,
          8,
          9,
          10,
          11,
          12
         ],
         "xaxis": "x",
         "y": [
          283,
          152,
          147,
          180,
          170,
          192,
          258,
          248,
          185,
          221,
          246,
          229
         ],
         "yaxis": "y"
        },
        {
         "alignmentgroup": "True",
         "hovertemplate": "Description=ROBBERY - COMMERCIAL<br>Month=%{x}<br>Crime Count=%{y}<extra></extra>",
         "legendgroup": "ROBBERY - COMMERCIAL",
         "marker": {
          "color": "rgb(165, 170, 153)",
          "pattern": {
           "shape": ""
          }
         },
         "name": "ROBBERY - COMMERCIAL",
         "offsetgroup": "ROBBERY - COMMERCIAL",
         "orientation": "v",
         "showlegend": true,
         "textposition": "auto",
         "type": "bar",
         "x": [
          1,
          2,
          3,
          4,
          5,
          6,
          7,
          8,
          9,
          10,
          11,
          12
         ],
         "xaxis": "x",
         "y": [
          548,
          327,
          373,
          317,
          424,
          451,
          457,
          413,
          416,
          454,
          510,
          489
         ],
         "yaxis": "y"
        },
        {
         "alignmentgroup": "True",
         "hovertemplate": "Description=ROBBERY - RESIDENCE<br>Month=%{x}<br>Crime Count=%{y}<extra></extra>",
         "legendgroup": "ROBBERY - RESIDENCE",
         "marker": {
          "color": "rgb(127, 60, 141)",
          "pattern": {
           "shape": ""
          }
         },
         "name": "ROBBERY - RESIDENCE",
         "offsetgroup": "ROBBERY - RESIDENCE",
         "orientation": "v",
         "showlegend": true,
         "textposition": "auto",
         "type": "bar",
         "x": [
          1,
          2,
          3,
          4,
          5,
          6,
          7,
          8,
          9,
          10,
          11,
          12
         ],
         "xaxis": "x",
         "y": [
          312,
          183,
          238,
          198,
          262,
          244,
          249,
          300,
          208,
          278,
          236,
          256
         ],
         "yaxis": "y"
        },
        {
         "alignmentgroup": "True",
         "hovertemplate": "Description=ROBBERY - STREET<br>Month=%{x}<br>Crime Count=%{y}<extra></extra>",
         "legendgroup": "ROBBERY - STREET",
         "marker": {
          "color": "rgb(17, 165, 121)",
          "pattern": {
           "shape": ""
          }
         },
         "name": "ROBBERY - STREET",
         "offsetgroup": "ROBBERY - STREET",
         "orientation": "v",
         "showlegend": true,
         "textposition": "auto",
         "type": "bar",
         "x": [
          1,
          2,
          3,
          4,
          5,
          6,
          7,
          8,
          9,
          10,
          11,
          12
         ],
         "xaxis": "x",
         "y": [
          1786,
          1298,
          1254,
          1399,
          1849,
          1629,
          1867,
          1980,
          1932,
          1995,
          1857,
          1716
         ],
         "yaxis": "y"
        },
        {
         "alignmentgroup": "True",
         "hovertemplate": "Description=SHOOTING<br>Month=%{x}<br>Crime Count=%{y}<extra></extra>",
         "legendgroup": "SHOOTING",
         "marker": {
          "color": "rgb(57, 105, 172)",
          "pattern": {
           "shape": ""
          }
         },
         "name": "SHOOTING",
         "offsetgroup": "SHOOTING",
         "orientation": "v",
         "showlegend": true,
         "textposition": "auto",
         "type": "bar",
         "x": [
          1,
          2,
          3,
          4,
          5,
          6,
          7,
          8,
          9,
          10,
          11,
          12
         ],
         "xaxis": "x",
         "y": [
          289,
          180,
          236,
          285,
          386,
          378,
          413,
          435,
          339,
          346,
          257,
          323
         ],
         "yaxis": "y"
        }
       ],
       "layout": {
        "autosize": true,
        "barmode": "relative",
        "legend": {
         "title": {
          "text": "Description"
         },
         "tracegroupgap": 0
        },
        "template": {
         "data": {
          "bar": [
           {
            "error_x": {
             "color": "#2a3f5f"
            },
            "error_y": {
             "color": "#2a3f5f"
            },
            "marker": {
             "line": {
              "color": "#E5ECF6",
              "width": 0.5
             },
             "pattern": {
              "fillmode": "overlay",
              "size": 10,
              "solidity": 0.2
             }
            },
            "type": "bar"
           }
          ],
          "barpolar": [
           {
            "marker": {
             "line": {
              "color": "#E5ECF6",
              "width": 0.5
             },
             "pattern": {
              "fillmode": "overlay",
              "size": 10,
              "solidity": 0.2
             }
            },
            "type": "barpolar"
           }
          ],
          "carpet": [
           {
            "aaxis": {
             "endlinecolor": "#2a3f5f",
             "gridcolor": "white",
             "linecolor": "white",
             "minorgridcolor": "white",
             "startlinecolor": "#2a3f5f"
            },
            "baxis": {
             "endlinecolor": "#2a3f5f",
             "gridcolor": "white",
             "linecolor": "white",
             "minorgridcolor": "white",
             "startlinecolor": "#2a3f5f"
            },
            "type": "carpet"
           }
          ],
          "choropleth": [
           {
            "colorbar": {
             "outlinewidth": 0,
             "ticks": ""
            },
            "type": "choropleth"
           }
          ],
          "contour": [
           {
            "colorbar": {
             "outlinewidth": 0,
             "ticks": ""
            },
            "colorscale": [
             [
              0,
              "#0d0887"
             ],
             [
              0.1111111111111111,
              "#46039f"
             ],
             [
              0.2222222222222222,
              "#7201a8"
             ],
             [
              0.3333333333333333,
              "#9c179e"
             ],
             [
              0.4444444444444444,
              "#bd3786"
             ],
             [
              0.5555555555555556,
              "#d8576b"
             ],
             [
              0.6666666666666666,
              "#ed7953"
             ],
             [
              0.7777777777777778,
              "#fb9f3a"
             ],
             [
              0.8888888888888888,
              "#fdca26"
             ],
             [
              1,
              "#f0f921"
             ]
            ],
            "type": "contour"
           }
          ],
          "contourcarpet": [
           {
            "colorbar": {
             "outlinewidth": 0,
             "ticks": ""
            },
            "type": "contourcarpet"
           }
          ],
          "heatmap": [
           {
            "colorbar": {
             "outlinewidth": 0,
             "ticks": ""
            },
            "colorscale": [
             [
              0,
              "#0d0887"
             ],
             [
              0.1111111111111111,
              "#46039f"
             ],
             [
              0.2222222222222222,
              "#7201a8"
             ],
             [
              0.3333333333333333,
              "#9c179e"
             ],
             [
              0.4444444444444444,
              "#bd3786"
             ],
             [
              0.5555555555555556,
              "#d8576b"
             ],
             [
              0.6666666666666666,
              "#ed7953"
             ],
             [
              0.7777777777777778,
              "#fb9f3a"
             ],
             [
              0.8888888888888888,
              "#fdca26"
             ],
             [
              1,
              "#f0f921"
             ]
            ],
            "type": "heatmap"
           }
          ],
          "heatmapgl": [
           {
            "colorbar": {
             "outlinewidth": 0,
             "ticks": ""
            },
            "colorscale": [
             [
              0,
              "#0d0887"
             ],
             [
              0.1111111111111111,
              "#46039f"
             ],
             [
              0.2222222222222222,
              "#7201a8"
             ],
             [
              0.3333333333333333,
              "#9c179e"
             ],
             [
              0.4444444444444444,
              "#bd3786"
             ],
             [
              0.5555555555555556,
              "#d8576b"
             ],
             [
              0.6666666666666666,
              "#ed7953"
             ],
             [
              0.7777777777777778,
              "#fb9f3a"
             ],
             [
              0.8888888888888888,
              "#fdca26"
             ],
             [
              1,
              "#f0f921"
             ]
            ],
            "type": "heatmapgl"
           }
          ],
          "histogram": [
           {
            "marker": {
             "pattern": {
              "fillmode": "overlay",
              "size": 10,
              "solidity": 0.2
             }
            },
            "type": "histogram"
           }
          ],
          "histogram2d": [
           {
            "colorbar": {
             "outlinewidth": 0,
             "ticks": ""
            },
            "colorscale": [
             [
              0,
              "#0d0887"
             ],
             [
              0.1111111111111111,
              "#46039f"
             ],
             [
              0.2222222222222222,
              "#7201a8"
             ],
             [
              0.3333333333333333,
              "#9c179e"
             ],
             [
              0.4444444444444444,
              "#bd3786"
             ],
             [
              0.5555555555555556,
              "#d8576b"
             ],
             [
              0.6666666666666666,
              "#ed7953"
             ],
             [
              0.7777777777777778,
              "#fb9f3a"
             ],
             [
              0.8888888888888888,
              "#fdca26"
             ],
             [
              1,
              "#f0f921"
             ]
            ],
            "type": "histogram2d"
           }
          ],
          "histogram2dcontour": [
           {
            "colorbar": {
             "outlinewidth": 0,
             "ticks": ""
            },
            "colorscale": [
             [
              0,
              "#0d0887"
             ],
             [
              0.1111111111111111,
              "#46039f"
             ],
             [
              0.2222222222222222,
              "#7201a8"
             ],
             [
              0.3333333333333333,
              "#9c179e"
             ],
             [
              0.4444444444444444,
              "#bd3786"
             ],
             [
              0.5555555555555556,
              "#d8576b"
             ],
             [
              0.6666666666666666,
              "#ed7953"
             ],
             [
              0.7777777777777778,
              "#fb9f3a"
             ],
             [
              0.8888888888888888,
              "#fdca26"
             ],
             [
              1,
              "#f0f921"
             ]
            ],
            "type": "histogram2dcontour"
           }
          ],
          "mesh3d": [
           {
            "colorbar": {
             "outlinewidth": 0,
             "ticks": ""
            },
            "type": "mesh3d"
           }
          ],
          "parcoords": [
           {
            "line": {
             "colorbar": {
              "outlinewidth": 0,
              "ticks": ""
             }
            },
            "type": "parcoords"
           }
          ],
          "pie": [
           {
            "automargin": true,
            "type": "pie"
           }
          ],
          "scatter": [
           {
            "fillpattern": {
             "fillmode": "overlay",
             "size": 10,
             "solidity": 0.2
            },
            "type": "scatter"
           }
          ],
          "scatter3d": [
           {
            "line": {
             "colorbar": {
              "outlinewidth": 0,
              "ticks": ""
             }
            },
            "marker": {
             "colorbar": {
              "outlinewidth": 0,
              "ticks": ""
             }
            },
            "type": "scatter3d"
           }
          ],
          "scattercarpet": [
           {
            "marker": {
             "colorbar": {
              "outlinewidth": 0,
              "ticks": ""
             }
            },
            "type": "scattercarpet"
           }
          ],
          "scattergeo": [
           {
            "marker": {
             "colorbar": {
              "outlinewidth": 0,
              "ticks": ""
             }
            },
            "type": "scattergeo"
           }
          ],
          "scattergl": [
           {
            "marker": {
             "colorbar": {
              "outlinewidth": 0,
              "ticks": ""
             }
            },
            "type": "scattergl"
           }
          ],
          "scattermapbox": [
           {
            "marker": {
             "colorbar": {
              "outlinewidth": 0,
              "ticks": ""
             }
            },
            "type": "scattermapbox"
           }
          ],
          "scatterpolar": [
           {
            "marker": {
             "colorbar": {
              "outlinewidth": 0,
              "ticks": ""
             }
            },
            "type": "scatterpolar"
           }
          ],
          "scatterpolargl": [
           {
            "marker": {
             "colorbar": {
              "outlinewidth": 0,
              "ticks": ""
             }
            },
            "type": "scatterpolargl"
           }
          ],
          "scatterternary": [
           {
            "marker": {
             "colorbar": {
              "outlinewidth": 0,
              "ticks": ""
             }
            },
            "type": "scatterternary"
           }
          ],
          "surface": [
           {
            "colorbar": {
             "outlinewidth": 0,
             "ticks": ""
            },
            "colorscale": [
             [
              0,
              "#0d0887"
             ],
             [
              0.1111111111111111,
              "#46039f"
             ],
             [
              0.2222222222222222,
              "#7201a8"
             ],
             [
              0.3333333333333333,
              "#9c179e"
             ],
             [
              0.4444444444444444,
              "#bd3786"
             ],
             [
              0.5555555555555556,
              "#d8576b"
             ],
             [
              0.6666666666666666,
              "#ed7953"
             ],
             [
              0.7777777777777778,
              "#fb9f3a"
             ],
             [
              0.8888888888888888,
              "#fdca26"
             ],
             [
              1,
              "#f0f921"
             ]
            ],
            "type": "surface"
           }
          ],
          "table": [
           {
            "cells": {
             "fill": {
              "color": "#EBF0F8"
             },
             "line": {
              "color": "white"
             }
            },
            "header": {
             "fill": {
              "color": "#C8D4E3"
             },
             "line": {
              "color": "white"
             }
            },
            "type": "table"
           }
          ]
         },
         "layout": {
          "annotationdefaults": {
           "arrowcolor": "#2a3f5f",
           "arrowhead": 0,
           "arrowwidth": 1
          },
          "autotypenumbers": "strict",
          "coloraxis": {
           "colorbar": {
            "outlinewidth": 0,
            "ticks": ""
           }
          },
          "colorscale": {
           "diverging": [
            [
             0,
             "#8e0152"
            ],
            [
             0.1,
             "#c51b7d"
            ],
            [
             0.2,
             "#de77ae"
            ],
            [
             0.3,
             "#f1b6da"
            ],
            [
             0.4,
             "#fde0ef"
            ],
            [
             0.5,
             "#f7f7f7"
            ],
            [
             0.6,
             "#e6f5d0"
            ],
            [
             0.7,
             "#b8e186"
            ],
            [
             0.8,
             "#7fbc41"
            ],
            [
             0.9,
             "#4d9221"
            ],
            [
             1,
             "#276419"
            ]
           ],
           "sequential": [
            [
             0,
             "#0d0887"
            ],
            [
             0.1111111111111111,
             "#46039f"
            ],
            [
             0.2222222222222222,
             "#7201a8"
            ],
            [
             0.3333333333333333,
             "#9c179e"
            ],
            [
             0.4444444444444444,
             "#bd3786"
            ],
            [
             0.5555555555555556,
             "#d8576b"
            ],
            [
             0.6666666666666666,
             "#ed7953"
            ],
            [
             0.7777777777777778,
             "#fb9f3a"
            ],
            [
             0.8888888888888888,
             "#fdca26"
            ],
            [
             1,
             "#f0f921"
            ]
           ],
           "sequentialminus": [
            [
             0,
             "#0d0887"
            ],
            [
             0.1111111111111111,
             "#46039f"
            ],
            [
             0.2222222222222222,
             "#7201a8"
            ],
            [
             0.3333333333333333,
             "#9c179e"
            ],
            [
             0.4444444444444444,
             "#bd3786"
            ],
            [
             0.5555555555555556,
             "#d8576b"
            ],
            [
             0.6666666666666666,
             "#ed7953"
            ],
            [
             0.7777777777777778,
             "#fb9f3a"
            ],
            [
             0.8888888888888888,
             "#fdca26"
            ],
            [
             1,
             "#f0f921"
            ]
           ]
          },
          "colorway": [
           "#636efa",
           "#EF553B",
           "#00cc96",
           "#ab63fa",
           "#FFA15A",
           "#19d3f3",
           "#FF6692",
           "#B6E880",
           "#FF97FF",
           "#FECB52"
          ],
          "font": {
           "color": "#2a3f5f"
          },
          "geo": {
           "bgcolor": "white",
           "lakecolor": "white",
           "landcolor": "#E5ECF6",
           "showlakes": true,
           "showland": true,
           "subunitcolor": "white"
          },
          "hoverlabel": {
           "align": "left"
          },
          "hovermode": "closest",
          "mapbox": {
           "style": "light"
          },
          "paper_bgcolor": "white",
          "plot_bgcolor": "#E5ECF6",
          "polar": {
           "angularaxis": {
            "gridcolor": "white",
            "linecolor": "white",
            "ticks": ""
           },
           "bgcolor": "#E5ECF6",
           "radialaxis": {
            "gridcolor": "white",
            "linecolor": "white",
            "ticks": ""
           }
          },
          "scene": {
           "xaxis": {
            "backgroundcolor": "#E5ECF6",
            "gridcolor": "white",
            "gridwidth": 2,
            "linecolor": "white",
            "showbackground": true,
            "ticks": "",
            "zerolinecolor": "white"
           },
           "yaxis": {
            "backgroundcolor": "#E5ECF6",
            "gridcolor": "white",
            "gridwidth": 2,
            "linecolor": "white",
            "showbackground": true,
            "ticks": "",
            "zerolinecolor": "white"
           },
           "zaxis": {
            "backgroundcolor": "#E5ECF6",
            "gridcolor": "white",
            "gridwidth": 2,
            "linecolor": "white",
            "showbackground": true,
            "ticks": "",
            "zerolinecolor": "white"
           }
          },
          "shapedefaults": {
           "line": {
            "color": "#2a3f5f"
           }
          },
          "ternary": {
           "aaxis": {
            "gridcolor": "white",
            "linecolor": "white",
            "ticks": ""
           },
           "baxis": {
            "gridcolor": "white",
            "linecolor": "white",
            "ticks": ""
           },
           "bgcolor": "#E5ECF6",
           "caxis": {
            "gridcolor": "white",
            "linecolor": "white",
            "ticks": ""
           }
          },
          "title": {
           "x": 0.05
          },
          "xaxis": {
           "automargin": true,
           "gridcolor": "white",
           "linecolor": "white",
           "ticks": "",
           "title": {
            "standoff": 15
           },
           "zerolinecolor": "white",
           "zerolinewidth": 2
          },
          "yaxis": {
           "automargin": true,
           "gridcolor": "white",
           "linecolor": "white",
           "ticks": "",
           "title": {
            "standoff": 15
           },
           "zerolinecolor": "white",
           "zerolinewidth": 2
          }
         }
        },
        "title": {
         "text": "Monthly Crime Type Distribution"
        },
        "xaxis": {
         "anchor": "y",
         "autorange": true,
         "domain": [
          0,
          1
         ],
         "range": [
          0.5,
          12.5
         ],
         "title": {
          "text": "Month"
         },
         "type": "linear"
        },
        "yaxis": {
         "anchor": "x",
         "autorange": true,
         "domain": [
          0,
          1
         ],
         "range": [
          0,
          27740
         ],
         "title": {
          "text": "Crime Count"
         },
         "type": "linear"
        }
       }
      },
      "image/png": "[encoded data removed]",
      "text/html": [
       "<div>                            <div id=\"4ac398db-7650-4d75-9aaf-af76981e1071\" class=\"plotly-graph-div\" style=\"height:525px; width:100%;\"></div>            <script type=\"text/javascript\">                require([\"plotly\"], function(Plotly) {                    window.PLOTLYENV=window.PLOTLYENV || {};                                    if (document.getElementById(\"4ac398db-7650-4d75-9aaf-af76981e1071\")) {                    Plotly.newPlot(                        \"4ac398db-7650-4d75-9aaf-af76981e1071\",                        [{\"alignmentgroup\":\"True\",\"hovertemplate\":\"Description=AGG. ASSAULT<br>Month=%{x}<br>Crime Count=%{y}<extra></extra>\",\"legendgroup\":\"AGG. ASSAULT\",\"marker\":{\"color\":\"rgb(127, 60, 141)\",\"pattern\":{\"shape\":\"\"}},\"name\":\"AGG. ASSAULT\",\"offsetgroup\":\"AGG. ASSAULT\",\"orientation\":\"v\",\"showlegend\":true,\"textposition\":\"auto\",\"x\":[1,2,3,4,5,6,7,8,9,10,11,12],\"xaxis\":\"x\",\"y\":[2543,1927,2392,2737,2987,2907,2949,2932,2756,2639,2360,2325],\"yaxis\":\"y\",\"type\":\"bar\"},{\"alignmentgroup\":\"True\",\"hovertemplate\":\"Description=ARSON<br>Month=%{x}<br>Crime Count=%{y}<extra></extra>\",\"legendgroup\":\"ARSON\",\"marker\":{\"color\":\"rgb(17, 165, 121)\",\"pattern\":{\"shape\":\"\"}},\"name\":\"ARSON\",\"offsetgroup\":\"ARSON\",\"orientation\":\"v\",\"showlegend\":true,\"textposition\":\"auto\",\"x\":[1,2,3,4,5,6,7,8,9,10,11,12],\"xaxis\":\"x\",\"y\":[87,68,86,139,131,118,122,102,108,108,107,84],\"yaxis\":\"y\",\"type\":\"bar\"},{\"alignmentgroup\":\"True\",\"hovertemplate\":\"Description=AUTO THEFT<br>Month=%{x}<br>Crime Count=%{y}<extra></extra>\",\"legendgroup\":\"AUTO THEFT\",\"marker\":{\"color\":\"rgb(57, 105, 172)\",\"pattern\":{\"shape\":\"\"}},\"name\":\"AUTO THEFT\",\"offsetgroup\":\"AUTO THEFT\",\"orientation\":\"v\",\"showlegend\":true,\"textposition\":\"auto\",\"x\":[1,2,3,4,5,6,7,8,9,10,11,12],\"xaxis\":\"x\",\"y\":[2608,1768,1786,1890,2063,2247,2399,2272,2069,2189,2131,2102],\"yaxis\":\"y\",\"type\":\"bar\"},{\"alignmentgroup\":\"True\",\"hovertemplate\":\"Description=BURGLARY<br>Month=%{x}<br>Crime Count=%{y}<extra></extra>\",\"legendgroup\":\"BURGLARY\",\"marker\":{\"color\":\"rgb(242, 183, 1)\",\"pattern\":{\"shape\":\"\"}},\"name\":\"BURGLARY\",\"offsetgroup\":\"BURGLARY\",\"orientation\":\"v\",\"showlegend\":true,\"textposition\":\"auto\",\"x\":[1,2,3,4,5,6,7,8,9,10,11,12],\"xaxis\":\"x\",\"y\":[3795,2750,2823,3365,3517,3610,3730,3661,3739,3919,3541,3642],\"yaxis\":\"y\",\"type\":\"bar\"},{\"alignmentgroup\":\"True\",\"hovertemplate\":\"Description=COMMON ASSAULT<br>Month=%{x}<br>Crime Count=%{y}<extra></extra>\",\"legendgroup\":\"COMMON ASSAULT\",\"marker\":{\"color\":\"rgb(231, 63, 116)\",\"pattern\":{\"shape\":\"\"}},\"name\":\"COMMON ASSAULT\",\"offsetgroup\":\"COMMON ASSAULT\",\"orientation\":\"v\",\"showlegend\":true,\"textposition\":\"auto\",\"x\":[1,2,3,4,5,6,7,8,9,10,11,12],\"xaxis\":\"x\",\"y\":[4099,3451,3931,4085,4345,4217,3949,3941,4170,4203,3746,3613],\"yaxis\":\"y\",\"type\":\"bar\"},{\"alignmentgroup\":\"True\",\"hovertemplate\":\"Description=HOMICIDE<br>Month=%{x}<br>Crime Count=%{y}<extra></extra>\",\"legendgroup\":\"HOMICIDE\",\"marker\":{\"color\":\"rgb(128, 186, 90)\",\"pattern\":{\"shape\":\"\"}},\"name\":\"HOMICIDE\",\"offsetgroup\":\"HOMICIDE\",\"orientation\":\"v\",\"showlegend\":true,\"textposition\":\"auto\",\"x\":[1,2,3,4,5,6,7,8,9,10,11,12],\"xaxis\":\"x\",\"y\":[172,109,108,147,180,155,202,178,173,175,139,159],\"yaxis\":\"y\",\"type\":\"bar\"},{\"alignmentgroup\":\"True\",\"hovertemplate\":\"Description=LARCENY<br>Month=%{x}<br>Crime Count=%{y}<extra></extra>\",\"legendgroup\":\"LARCENY\",\"marker\":{\"color\":\"rgb(230, 131, 16)\",\"pattern\":{\"shape\":\"\"}},\"name\":\"LARCENY\",\"offsetgroup\":\"LARCENY\",\"orientation\":\"v\",\"showlegend\":true,\"textposition\":\"auto\",\"x\":[1,2,3,4,5,6,7,8,9,10,11,12],\"xaxis\":\"x\",\"y\":[5526,4241,4774,5184,5836,5741,5842,5972,5770,5691,5137,5276],\"yaxis\":\"y\",\"type\":\"bar\"},{\"alignmentgroup\":\"True\",\"hovertemplate\":\"Description=LARCENY FROM AUTO<br>Month=%{x}<br>Crime Count=%{y}<extra></extra>\",\"legendgroup\":\"LARCENY FROM AUTO\",\"marker\":{\"color\":\"rgb(0, 134, 149)\",\"pattern\":{\"shape\":\"\"}},\"name\":\"LARCENY FROM AUTO\",\"offsetgroup\":\"LARCENY FROM AUTO\",\"orientation\":\"v\",\"showlegend\":true,\"textposition\":\"auto\",\"x\":[1,2,3,4,5,6,7,8,9,10,11,12],\"xaxis\":\"x\",\"y\":[3267,2299,2535,2784,3177,3436,3567,3756,3419,3784,3336,3081],\"yaxis\":\"y\",\"type\":\"bar\"},{\"alignmentgroup\":\"True\",\"hovertemplate\":\"Description=RAPE<br>Month=%{x}<br>Crime Count=%{y}<extra></extra>\",\"legendgroup\":\"RAPE\",\"marker\":{\"color\":\"rgb(207, 28, 144)\",\"pattern\":{\"shape\":\"\"}},\"name\":\"RAPE\",\"offsetgroup\":\"RAPE\",\"orientation\":\"v\",\"showlegend\":true,\"textposition\":\"auto\",\"x\":[1,2,3,4,5,6,7,8,9,10,11,12],\"xaxis\":\"x\",\"y\":[175,133,161,176,173,181,163,163,148,164,122,126],\"yaxis\":\"y\",\"type\":\"bar\"},{\"alignmentgroup\":\"True\",\"hovertemplate\":\"Description=ROBBERY - CARJACKING<br>Month=%{x}<br>Crime Count=%{y}<extra></extra>\",\"legendgroup\":\"ROBBERY - CARJACKING\",\"marker\":{\"color\":\"rgb(249, 123, 114)\",\"pattern\":{\"shape\":\"\"}},\"name\":\"ROBBERY - CARJACKING\",\"offsetgroup\":\"ROBBERY - CARJACKING\",\"orientation\":\"v\",\"showlegend\":true,\"textposition\":\"auto\",\"x\":[1,2,3,4,5,6,7,8,9,10,11,12],\"xaxis\":\"x\",\"y\":[283,152,147,180,170,192,258,248,185,221,246,229],\"yaxis\":\"y\",\"type\":\"bar\"},{\"alignmentgroup\":\"True\",\"hovertemplate\":\"Description=ROBBERY - COMMERCIAL<br>Month=%{x}<br>Crime Count=%{y}<extra></extra>\",\"legendgroup\":\"ROBBERY - COMMERCIAL\",\"marker\":{\"color\":\"rgb(165, 170, 153)\",\"pattern\":{\"shape\":\"\"}},\"name\":\"ROBBERY - COMMERCIAL\",\"offsetgroup\":\"ROBBERY - COMMERCIAL\",\"orientation\":\"v\",\"showlegend\":true,\"textposition\":\"auto\",\"x\":[1,2,3,4,5,6,7,8,9,10,11,12],\"xaxis\":\"x\",\"y\":[548,327,373,317,424,451,457,413,416,454,510,489],\"yaxis\":\"y\",\"type\":\"bar\"},{\"alignmentgroup\":\"True\",\"hovertemplate\":\"Description=ROBBERY - RESIDENCE<br>Month=%{x}<br>Crime Count=%{y}<extra></extra>\",\"legendgroup\":\"ROBBERY - RESIDENCE\",\"marker\":{\"color\":\"rgb(127, 60, 141)\",\"pattern\":{\"shape\":\"\"}},\"name\":\"ROBBERY - RESIDENCE\",\"offsetgroup\":\"ROBBERY - RESIDENCE\",\"orientation\":\"v\",\"showlegend\":true,\"textposition\":\"auto\",\"x\":[1,2,3,4,5,6,7,8,9,10,11,12],\"xaxis\":\"x\",\"y\":[312,183,238,198,262,244,249,300,208,278,236,256],\"yaxis\":\"y\",\"type\":\"bar\"},{\"alignmentgroup\":\"True\",\"hovertemplate\":\"Description=ROBBERY - STREET<br>Month=%{x}<br>Crime Count=%{y}<extra></extra>\",\"legendgroup\":\"ROBBERY - STREET\",\"marker\":{\"color\":\"rgb(17, 165, 121)\",\"pattern\":{\"shape\":\"\"}},\"name\":\"ROBBERY - STREET\",\"offsetgroup\":\"ROBBERY - STREET\",\"orientation\":\"v\",\"showlegend\":true,\"textposition\":\"auto\",\"x\":[1,2,3,4,5,6,7,8,9,10,11,12],\"xaxis\":\"x\",\"y\":[1786,1298,1254,1399,1849,1629,1867,1980,1932,1995,1857,1716],\"yaxis\":\"y\",\"type\":\"bar\"},{\"alignmentgroup\":\"True\",\"hovertemplate\":\"Description=SHOOTING<br>Month=%{x}<br>Crime Count=%{y}<extra></extra>\",\"legendgroup\":\"SHOOTING\",\"marker\":{\"color\":\"rgb(57, 105, 172)\",\"pattern\":{\"shape\":\"\"}},\"name\":\"SHOOTING\",\"offsetgroup\":\"SHOOTING\",\"orientation\":\"v\",\"showlegend\":true,\"textposition\":\"auto\",\"x\":[1,2,3,4,5,6,7,8,9,10,11,12],\"xaxis\":\"x\",\"y\":[289,180,236,285,386,378,413,435,339,346,257,323],\"yaxis\":\"y\",\"type\":\"bar\"}],                        {\"template\":{\"data\":{\"histogram2dcontour\":[{\"type\":\"histogram2dcontour\",\"colorbar\":{\"outlinewidth\":0,\"ticks\":\"\"},\"colorscale\":[[0.0,\"#0d0887\"],[0.1111111111111111,\"#46039f\"],[0.2222222222222222,\"#7201a8\"],[0.3333333333333333,\"#9c179e\"],[0.4444444444444444,\"#bd3786\"],[0.5555555555555556,\"#d8576b\"],[0.6666666666666666,\"#ed7953\"],[0.7777777777777778,\"#fb9f3a\"],[0.8888888888888888,\"#fdca26\"],[1.0,\"#f0f921\"]]}],\"choropleth\":[{\"type\":\"choropleth\",\"colorbar\":{\"outlinewidth\":0,\"ticks\":\"\"}}],\"histogram2d\":[{\"type\":\"histogram2d\",\"colorbar\":{\"outlinewidth\":0,\"ticks\":\"\"},\"colorscale\":[[0.0,\"#0d0887\"],[0.1111111111111111,\"#46039f\"],[0.2222222222222222,\"#7201a8\"],[0.3333333333333333,\"#9c179e\"],[0.4444444444444444,\"#bd3786\"],[0.5555555555555556,\"#d8576b\"],[0.6666666666666666,\"#ed7953\"],[0.7777777777777778,\"#fb9f3a\"],[0.8888888888888888,\"#fdca26\"],[1.0,\"#f0f921\"]]}],\"heatmap\":[{\"type\":\"heatmap\",\"colorbar\":{\"outlinewidth\":0,\"ticks\":\"\"},\"colorscale\":[[0.0,\"#0d0887\"],[0.1111111111111111,\"#46039f\"],[0.2222222222222222,\"#7201a8\"],[0.3333333333333333,\"#9c179e\"],[0.4444444444444444,\"#bd3786\"],[0.5555555555555556,\"#d8576b\"],[0.6666666666666666,\"#ed7953\"],[0.7777777777777778,\"#fb9f3a\"],[0.8888888888888888,\"#fdca26\"],[1.0,\"#f0f921\"]]}],\"heatmapgl\":[{\"type\":\"heatmapgl\",\"colorbar\":{\"outlinewidth\":0,\"ticks\":\"\"},\"colorscale\":[[0.0,\"#0d0887\"],[0.1111111111111111,\"#46039f\"],[0.2222222222222222,\"#7201a8\"],[0.3333333333333333,\"#9c179e\"],[0.4444444444444444,\"#bd3786\"],[0.5555555555555556,\"#d8576b\"],[0.6666666666666666,\"#ed7953\"],[0.7777777777777778,\"#fb9f3a\"],[0.8888888888888888,\"#fdca26\"],[1.0,\"#f0f921\"]]}],\"contourcarpet\":[{\"type\":\"contourcarpet\",\"colorbar\":{\"outlinewidth\":0,\"ticks\":\"\"}}],\"contour\":[{\"type\":\"contour\",\"colorbar\":{\"outlinewidth\":0,\"ticks\":\"\"},\"colorscale\":[[0.0,\"#0d0887\"],[0.1111111111111111,\"#46039f\"],[0.2222222222222222,\"#7201a8\"],[0.3333333333333333,\"#9c179e\"],[0.4444444444444444,\"#bd3786\"],[0.5555555555555556,\"#d8576b\"],[0.6666666666666666,\"#ed7953\"],[0.7777777777777778,\"#fb9f3a\"],[0.8888888888888888,\"#fdca26\"],[1.0,\"#f0f921\"]]}],\"surface\":[{\"type\":\"surface\",\"colorbar\":{\"outlinewidth\":0,\"ticks\":\"\"},\"colorscale\":[[0.0,\"#0d0887\"],[0.1111111111111111,\"#46039f\"],[0.2222222222222222,\"#7201a8\"],[0.3333333333333333,\"#9c179e\"],[0.4444444444444444,\"#bd3786\"],[0.5555555555555556,\"#d8576b\"],[0.6666666666666666,\"#ed7953\"],[0.7777777777777778,\"#fb9f3a\"],[0.8888888888888888,\"#fdca26\"],[1.0,\"#f0f921\"]]}],\"mesh3d\":[{\"type\":\"mesh3d\",\"colorbar\":{\"outlinewidth\":0,\"ticks\":\"\"}}],\"scatter\":[{\"fillpattern\":{\"fillmode\":\"overlay\",\"size\":10,\"solidity\":0.2},\"type\":\"scatter\"}],\"parcoords\":[{\"type\":\"parcoords\",\"line\":{\"colorbar\":{\"outlinewidth\":0,\"ticks\":\"\"}}}],\"scatterpolargl\":[{\"type\":\"scatterpolargl\",\"marker\":{\"colorbar\":{\"outlinewidth\":0,\"ticks\":\"\"}}}],\"bar\":[{\"error_x\":{\"color\":\"#2a3f5f\"},\"error_y\":{\"color\":\"#2a3f5f\"},\"marker\":{\"line\":{\"color\":\"#E5ECF6\",\"width\":0.5},\"pattern\":{\"fillmode\":\"overlay\",\"size\":10,\"solidity\":0.2}},\"type\":\"bar\"}],\"scattergeo\":[{\"type\":\"scattergeo\",\"marker\":{\"colorbar\":{\"outlinewidth\":0,\"ticks\":\"\"}}}],\"scatterpolar\":[{\"type\":\"scatterpolar\",\"marker\":{\"colorbar\":{\"outlinewidth\":0,\"ticks\":\"\"}}}],\"histogram\":[{\"marker\":{\"pattern\":{\"fillmode\":\"overlay\",\"size\":10,\"solidity\":0.2}},\"type\":\"histogram\"}],\"scattergl\":[{\"type\":\"scattergl\",\"marker\":{\"colorbar\":{\"outlinewidth\":0,\"ticks\":\"\"}}}],\"scatter3d\":[{\"type\":\"scatter3d\",\"line\":{\"colorbar\":{\"outlinewidth\":0,\"ticks\":\"\"}},\"marker\":{\"colorbar\":{\"outlinewidth\":0,\"ticks\":\"\"}}}],\"scattermapbox\":[{\"type\":\"scattermapbox\",\"marker\":{\"colorbar\":{\"outlinewidth\":0,\"ticks\":\"\"}}}],\"scatterternary\":[{\"type\":\"scatterternary\",\"marker\":{\"colorbar\":{\"outlinewidth\":0,\"ticks\":\"\"}}}],\"scattercarpet\":[{\"type\":\"scattercarpet\",\"marker\":{\"colorbar\":{\"outlinewidth\":0,\"ticks\":\"\"}}}],\"carpet\":[{\"aaxis\":{\"endlinecolor\":\"#2a3f5f\",\"gridcolor\":\"white\",\"linecolor\":\"white\",\"minorgridcolor\":\"white\",\"startlinecolor\":\"#2a3f5f\"},\"baxis\":{\"endlinecolor\":\"#2a3f5f\",\"gridcolor\":\"white\",\"linecolor\":\"white\",\"minorgridcolor\":\"white\",\"startlinecolor\":\"#2a3f5f\"},\"type\":\"carpet\"}],\"table\":[{\"cells\":{\"fill\":{\"color\":\"#EBF0F8\"},\"line\":{\"color\":\"white\"}},\"header\":{\"fill\":{\"color\":\"#C8D4E3\"},\"line\":{\"color\":\"white\"}},\"type\":\"table\"}],\"barpolar\":[{\"marker\":{\"line\":{\"color\":\"#E5ECF6\",\"width\":0.5},\"pattern\":{\"fillmode\":\"overlay\",\"size\":10,\"solidity\":0.2}},\"type\":\"barpolar\"}],\"pie\":[{\"automargin\":true,\"type\":\"pie\"}]},\"layout\":{\"autotypenumbers\":\"strict\",\"colorway\":[\"#636efa\",\"#EF553B\",\"#00cc96\",\"#ab63fa\",\"#FFA15A\",\"#19d3f3\",\"#FF6692\",\"#B6E880\",\"#FF97FF\",\"#FECB52\"],\"font\":{\"color\":\"#2a3f5f\"},\"hovermode\":\"closest\",\"hoverlabel\":{\"align\":\"left\"},\"paper_bgcolor\":\"white\",\"plot_bgcolor\":\"#E5ECF6\",\"polar\":{\"bgcolor\":\"#E5ECF6\",\"angularaxis\":{\"gridcolor\":\"white\",\"linecolor\":\"white\",\"ticks\":\"\"},\"radialaxis\":{\"gridcolor\":\"white\",\"linecolor\":\"white\",\"ticks\":\"\"}},\"ternary\":{\"bgcolor\":\"#E5ECF6\",\"aaxis\":{\"gridcolor\":\"white\",\"linecolor\":\"white\",\"ticks\":\"\"},\"baxis\":{\"gridcolor\":\"white\",\"linecolor\":\"white\",\"ticks\":\"\"},\"caxis\":{\"gridcolor\":\"white\",\"linecolor\":\"white\",\"ticks\":\"\"}},\"coloraxis\":{\"colorbar\":{\"outlinewidth\":0,\"ticks\":\"\"}},\"colorscale\":{\"sequential\":[[0.0,\"#0d0887\"],[0.1111111111111111,\"#46039f\"],[0.2222222222222222,\"#7201a8\"],[0.3333333333333333,\"#9c179e\"],[0.4444444444444444,\"#bd3786\"],[0.5555555555555556,\"#d8576b\"],[0.6666666666666666,\"#ed7953\"],[0.7777777777777778,\"#fb9f3a\"],[0.8888888888888888,\"#fdca26\"],[1.0,\"#f0f921\"]],\"sequentialminus\":[[0.0,\"#0d0887\"],[0.1111111111111111,\"#46039f\"],[0.2222222222222222,\"#7201a8\"],[0.3333333333333333,\"#9c179e\"],[0.4444444444444444,\"#bd3786\"],[0.5555555555555556,\"#d8576b\"],[0.6666666666666666,\"#ed7953\"],[0.7777777777777778,\"#fb9f3a\"],[0.8888888888888888,\"#fdca26\"],[1.0,\"#f0f921\"]],\"diverging\":[[0,\"#8e0152\"],[0.1,\"#c51b7d\"],[0.2,\"#de77ae\"],[0.3,\"#f1b6da\"],[0.4,\"#fde0ef\"],[0.5,\"#f7f7f7\"],[0.6,\"#e6f5d0\"],[0.7,\"#b8e186\"],[0.8,\"#7fbc41\"],[0.9,\"#4d9221\"],[1,\"#276419\"]]},\"xaxis\":{\"gridcolor\":\"white\",\"linecolor\":\"white\",\"ticks\":\"\",\"title\":{\"standoff\":15},\"zerolinecolor\":\"white\",\"automargin\":true,\"zerolinewidth\":2},\"yaxis\":{\"gridcolor\":\"white\",\"linecolor\":\"white\",\"ticks\":\"\",\"title\":{\"standoff\":15},\"zerolinecolor\":\"white\",\"automargin\":true,\"zerolinewidth\":2},\"scene\":{\"xaxis\":{\"backgroundcolor\":\"#E5ECF6\",\"gridcolor\":\"white\",\"linecolor\":\"white\",\"showbackground\":true,\"ticks\":\"\",\"zerolinecolor\":\"white\",\"gridwidth\":2},\"yaxis\":{\"backgroundcolor\":\"#E5ECF6\",\"gridcolor\":\"white\",\"linecolor\":\"white\",\"showbackground\":true,\"ticks\":\"\",\"zerolinecolor\":\"white\",\"gridwidth\":2},\"zaxis\":{\"backgroundcolor\":\"#E5ECF6\",\"gridcolor\":\"white\",\"linecolor\":\"white\",\"showbackground\":true,\"ticks\":\"\",\"zerolinecolor\":\"white\",\"gridwidth\":2}},\"shapedefaults\":{\"line\":{\"color\":\"#2a3f5f\"}},\"annotationdefaults\":{\"arrowcolor\":\"#2a3f5f\",\"arrowhead\":0,\"arrowwidth\":1},\"geo\":{\"bgcolor\":\"white\",\"landcolor\":\"#E5ECF6\",\"subunitcolor\":\"white\",\"showland\":true,\"showlakes\":true,\"lakecolor\":\"white\"},\"title\":{\"x\":0.05},\"mapbox\":{\"style\":\"light\"}}},\"xaxis\":{\"anchor\":\"y\",\"domain\":[0.0,1.0],\"title\":{\"text\":\"Month\"}},\"yaxis\":{\"anchor\":\"x\",\"domain\":[0.0,1.0],\"title\":{\"text\":\"Crime Count\"}},\"legend\":{\"title\":{\"text\":\"Description\"},\"tracegroupgap\":0},\"title\":{\"text\":\"Monthly Crime Type Distribution\"},\"barmode\":\"relative\"},                        {\"responsive\": true}                    ).then(function(){\n",
       "                            \n",
       "var gd = document.getElementById('4ac398db-7650-4d75-9aaf-af76981e1071');\n",
       "var x = new MutationObserver(function (mutations, observer) {{\n",
       "        var display = window.getComputedStyle(gd).display;\n",
       "        if (!display || display === 'none') {{\n",
       "            console.log([gd, 'removed!']);\n",
       "            Plotly.purge(gd);\n",
       "            observer.disconnect();\n",
       "        }}\n",
       "}});\n",
       "\n",
       "// Listen for the removal of the full notebook cells\n",
       "var notebookContainer = gd.closest('#notebook-container');\n",
       "if (notebookContainer) {{\n",
       "    x.observe(notebookContainer, {childList: true});\n",
       "}}\n",
       "\n",
       "// Listen for the clearing of the current output cell\n",
       "var outputEl = gd.closest('.output');\n",
       "if (outputEl) {{\n",
       "    x.observe(outputEl, {childList: true});\n",
       "}}\n",
       "\n",
       "                        })                };                });            </script>        </div>"
      ]
     },
     "metadata": {},
     "output_type": "display_data"
    },
    {
     "data": {
      "application/vnd.plotly.v1+json": {
       "config": {
        "plotlyServerURL": "https://plot.ly"
       },
       "data": [
        {
         "alignmentgroup": "True",
         "hovertemplate": "Description=AGG. ASSAULT<br>Day of Week=%{x}<br>Crime Count=%{y}<extra></extra>",
         "legendgroup": "AGG. ASSAULT",
         "marker": {
          "color": "rgb(127, 60, 141)",
          "pattern": {
           "shape": ""
          }
         },
         "name": "AGG. ASSAULT",
         "offsetgroup": "AGG. ASSAULT",
         "orientation": "v",
         "showlegend": true,
         "textposition": "auto",
         "type": "bar",
         "x": [
          0,
          1,
          2,
          3,
          4,
          5,
          6
         ],
         "xaxis": "x",
         "y": [
          4485,
          4487,
          4262,
          4235,
          4453,
          4821,
          4711
         ],
         "yaxis": "y"
        },
        {
         "alignmentgroup": "True",
         "hovertemplate": "Description=ARSON<br>Day of Week=%{x}<br>Crime Count=%{y}<extra></extra>",
         "legendgroup": "ARSON",
         "marker": {
          "color": "rgb(17, 165, 121)",
          "pattern": {
           "shape": ""
          }
         },
         "name": "ARSON",
         "offsetgroup": "ARSON",
         "orientation": "v",
         "showlegend": true,
         "textposition": "auto",
         "type": "bar",
         "x": [
          0,
          1,
          2,
          3,
          4,
          5,
          6
         ],
         "xaxis": "x",
         "y": [
          202,
          178,
          170,
          175,
          155,
          191,
          189
         ],
         "yaxis": "y"
        },
        {
         "alignmentgroup": "True",
         "hovertemplate": "Description=AUTO THEFT<br>Day of Week=%{x}<br>Crime Count=%{y}<extra></extra>",
         "legendgroup": "AUTO THEFT",
         "marker": {
          "color": "rgb(57, 105, 172)",
          "pattern": {
           "shape": ""
          }
         },
         "name": "AUTO THEFT",
         "offsetgroup": "AUTO THEFT",
         "orientation": "v",
         "showlegend": true,
         "textposition": "auto",
         "type": "bar",
         "x": [
          0,
          1,
          2,
          3,
          4,
          5,
          6
         ],
         "xaxis": "x",
         "y": [
          3710,
          3667,
          3629,
          3529,
          3758,
          3600,
          3631
         ],
         "yaxis": "y"
        },
        {
         "alignmentgroup": "True",
         "hovertemplate": "Description=BURGLARY<br>Day of Week=%{x}<br>Crime Count=%{y}<extra></extra>",
         "legendgroup": "BURGLARY",
         "marker": {
          "color": "rgb(242, 183, 1)",
          "pattern": {
           "shape": ""
          }
         },
         "name": "BURGLARY",
         "offsetgroup": "BURGLARY",
         "orientation": "v",
         "showlegend": true,
         "textposition": "auto",
         "type": "bar",
         "x": [
          0,
          1,
          2,
          3,
          4,
          5,
          6
         ],
         "xaxis": "x",
         "y": [
          6493,
          6390,
          6336,
          6297,
          6672,
          5178,
          4726
         ],
         "yaxis": "y"
        },
        {
         "alignmentgroup": "True",
         "hovertemplate": "Description=COMMON ASSAULT<br>Day of Week=%{x}<br>Crime Count=%{y}<extra></extra>",
         "legendgroup": "COMMON ASSAULT",
         "marker": {
          "color": "rgb(231, 63, 116)",
          "pattern": {
           "shape": ""
          }
         },
         "name": "COMMON ASSAULT",
         "offsetgroup": "COMMON ASSAULT",
         "orientation": "v",
         "showlegend": true,
         "textposition": "auto",
         "type": "bar",
         "x": [
          0,
          1,
          2,
          3,
          4,
          5,
          6
         ],
         "xaxis": "x",
         "y": [
          6676,
          6552,
          6497,
          6598,
          6938,
          7218,
          7271
         ],
         "yaxis": "y"
        },
        {
         "alignmentgroup": "True",
         "hovertemplate": "Description=HOMICIDE<br>Day of Week=%{x}<br>Crime Count=%{y}<extra></extra>",
         "legendgroup": "HOMICIDE",
         "marker": {
          "color": "rgb(128, 186, 90)",
          "pattern": {
           "shape": ""
          }
         },
         "name": "HOMICIDE",
         "offsetgroup": "HOMICIDE",
         "orientation": "v",
         "showlegend": true,
         "textposition": "auto",
         "type": "bar",
         "x": [
          0,
          1,
          2,
          3,
          4,
          5,
          6
         ],
         "xaxis": "x",
         "y": [
          264,
          298,
          283,
          277,
          253,
          264,
          258
         ],
         "yaxis": "y"
        },
        {
         "alignmentgroup": "True",
         "hovertemplate": "Description=LARCENY<br>Day of Week=%{x}<br>Crime Count=%{y}<extra></extra>",
         "legendgroup": "LARCENY",
         "marker": {
          "color": "rgb(230, 131, 16)",
          "pattern": {
           "shape": ""
          }
         },
         "name": "LARCENY",
         "offsetgroup": "LARCENY",
         "orientation": "v",
         "showlegend": true,
         "textposition": "auto",
         "type": "bar",
         "x": [
          0,
          1,
          2,
          3,
          4,
          5,
          6
         ],
         "xaxis": "x",
         "y": [
          9585,
          9561,
          9707,
          9726,
          10218,
          8533,
          7660
         ],
         "yaxis": "y"
        },
        {
         "alignmentgroup": "True",
         "hovertemplate": "Description=LARCENY FROM AUTO<br>Day of Week=%{x}<br>Crime Count=%{y}<extra></extra>",
         "legendgroup": "LARCENY FROM AUTO",
         "marker": {
          "color": "rgb(0, 134, 149)",
          "pattern": {
           "shape": ""
          }
         },
         "name": "LARCENY FROM AUTO",
         "offsetgroup": "LARCENY FROM AUTO",
         "orientation": "v",
         "showlegend": true,
         "textposition": "auto",
         "type": "bar",
         "x": [
          0,
          1,
          2,
          3,
          4,
          5,
          6
         ],
         "xaxis": "x",
         "y": [
          5580,
          5462,
          5499,
          5501,
          5652,
          5267,
          5480
         ],
         "yaxis": "y"
        },
        {
         "alignmentgroup": "True",
         "hovertemplate": "Description=RAPE<br>Day of Week=%{x}<br>Crime Count=%{y}<extra></extra>",
         "legendgroup": "RAPE",
         "marker": {
          "color": "rgb(207, 28, 144)",
          "pattern": {
           "shape": ""
          }
         },
         "name": "RAPE",
         "offsetgroup": "RAPE",
         "orientation": "v",
         "showlegend": true,
         "textposition": "auto",
         "type": "bar",
         "x": [
          0,
          1,
          2,
          3,
          4,
          5,
          6
         ],
         "xaxis": "x",
         "y": [
          308,
          263,
          222,
          245,
          285,
          306,
          256
         ],
         "yaxis": "y"
        },
        {
         "alignmentgroup": "True",
         "hovertemplate": "Description=ROBBERY - CARJACKING<br>Day of Week=%{x}<br>Crime Count=%{y}<extra></extra>",
         "legendgroup": "ROBBERY - CARJACKING",
         "marker": {
          "color": "rgb(249, 123, 114)",
          "pattern": {
           "shape": ""
          }
         },
         "name": "ROBBERY - CARJACKING",
         "offsetgroup": "ROBBERY - CARJACKING",
         "orientation": "v",
         "showlegend": true,
         "textposition": "auto",
         "type": "bar",
         "x": [
          0,
          1,
          2,
          3,
          4,
          5,
          6
         ],
         "xaxis": "x",
         "y": [
          387,
          342,
          362,
          343,
          345,
          370,
          362
         ],
         "yaxis": "y"
        },
        {
         "alignmentgroup": "True",
         "hovertemplate": "Description=ROBBERY - COMMERCIAL<br>Day of Week=%{x}<br>Crime Count=%{y}<extra></extra>",
         "legendgroup": "ROBBERY - COMMERCIAL",
         "marker": {
          "color": "rgb(165, 170, 153)",
          "pattern": {
           "shape": ""
          }
         },
         "name": "ROBBERY - COMMERCIAL",
         "offsetgroup": "ROBBERY - COMMERCIAL",
         "orientation": "v",
         "showlegend": true,
         "textposition": "auto",
         "type": "bar",
         "x": [
          0,
          1,
          2,
          3,
          4,
          5,
          6
         ],
         "xaxis": "x",
         "y": [
          810,
          803,
          749,
          735,
          744,
          692,
          646
         ],
         "yaxis": "y"
        },
        {
         "alignmentgroup": "True",
         "hovertemplate": "Description=ROBBERY - RESIDENCE<br>Day of Week=%{x}<br>Crime Count=%{y}<extra></extra>",
         "legendgroup": "ROBBERY - RESIDENCE",
         "marker": {
          "color": "rgb(127, 60, 141)",
          "pattern": {
           "shape": ""
          }
         },
         "name": "ROBBERY - RESIDENCE",
         "offsetgroup": "ROBBERY - RESIDENCE",
         "orientation": "v",
         "showlegend": true,
         "textposition": "auto",
         "type": "bar",
         "x": [
          0,
          1,
          2,
          3,
          4,
          5,
          6
         ],
         "xaxis": "x",
         "y": [
          456,
          405,
          400,
          416,
          424,
          400,
          463
         ],
         "yaxis": "y"
        },
        {
         "alignmentgroup": "True",
         "hovertemplate": "Description=ROBBERY - STREET<br>Day of Week=%{x}<br>Crime Count=%{y}<extra></extra>",
         "legendgroup": "ROBBERY - STREET",
         "marker": {
          "color": "rgb(17, 165, 121)",
          "pattern": {
           "shape": ""
          }
         },
         "name": "ROBBERY - STREET",
         "offsetgroup": "ROBBERY - STREET",
         "orientation": "v",
         "showlegend": true,
         "textposition": "auto",
         "type": "bar",
         "x": [
          0,
          1,
          2,
          3,
          4,
          5,
          6
         ],
         "xaxis": "x",
         "y": [
          3108,
          2969,
          3031,
          2865,
          2915,
          2876,
          2798
         ],
         "yaxis": "y"
        },
        {
         "alignmentgroup": "True",
         "hovertemplate": "Description=SHOOTING<br>Day of Week=%{x}<br>Crime Count=%{y}<extra></extra>",
         "legendgroup": "SHOOTING",
         "marker": {
          "color": "rgb(57, 105, 172)",
          "pattern": {
           "shape": ""
          }
         },
         "name": "SHOOTING",
         "offsetgroup": "SHOOTING",
         "orientation": "v",
         "showlegend": true,
         "textposition": "auto",
         "type": "bar",
         "x": [
          0,
          1,
          2,
          3,
          4,
          5,
          6
         ],
         "xaxis": "x",
         "y": [
          591,
          583,
          524,
          493,
          518,
          599,
          559
         ],
         "yaxis": "y"
        }
       ],
       "layout": {
        "autosize": true,
        "barmode": "relative",
        "legend": {
         "title": {
          "text": "Description"
         },
         "tracegroupgap": 0
        },
        "template": {
         "data": {
          "bar": [
           {
            "error_x": {
             "color": "#2a3f5f"
            },
            "error_y": {
             "color": "#2a3f5f"
            },
            "marker": {
             "line": {
              "color": "#E5ECF6",
              "width": 0.5
             },
             "pattern": {
              "fillmode": "overlay",
              "size": 10,
              "solidity": 0.2
             }
            },
            "type": "bar"
           }
          ],
          "barpolar": [
           {
            "marker": {
             "line": {
              "color": "#E5ECF6",
              "width": 0.5
             },
             "pattern": {
              "fillmode": "overlay",
              "size": 10,
              "solidity": 0.2
             }
            },
            "type": "barpolar"
           }
          ],
          "carpet": [
           {
            "aaxis": {
             "endlinecolor": "#2a3f5f",
             "gridcolor": "white",
             "linecolor": "white",
             "minorgridcolor": "white",
             "startlinecolor": "#2a3f5f"
            },
            "baxis": {
             "endlinecolor": "#2a3f5f",
             "gridcolor": "white",
             "linecolor": "white",
             "minorgridcolor": "white",
             "startlinecolor": "#2a3f5f"
            },
            "type": "carpet"
           }
          ],
          "choropleth": [
           {
            "colorbar": {
             "outlinewidth": 0,
             "ticks": ""
            },
            "type": "choropleth"
           }
          ],
          "contour": [
           {
            "colorbar": {
             "outlinewidth": 0,
             "ticks": ""
            },
            "colorscale": [
             [
              0,
              "#0d0887"
             ],
             [
              0.1111111111111111,
              "#46039f"
             ],
             [
              0.2222222222222222,
              "#7201a8"
             ],
             [
              0.3333333333333333,
              "#9c179e"
             ],
             [
              0.4444444444444444,
              "#bd3786"
             ],
             [
              0.5555555555555556,
              "#d8576b"
             ],
             [
              0.6666666666666666,
              "#ed7953"
             ],
             [
              0.7777777777777778,
              "#fb9f3a"
             ],
             [
              0.8888888888888888,
              "#fdca26"
             ],
             [
              1,
              "#f0f921"
             ]
            ],
            "type": "contour"
           }
          ],
          "contourcarpet": [
           {
            "colorbar": {
             "outlinewidth": 0,
             "ticks": ""
            },
            "type": "contourcarpet"
           }
          ],
          "heatmap": [
           {
            "colorbar": {
             "outlinewidth": 0,
             "ticks": ""
            },
            "colorscale": [
             [
              0,
              "#0d0887"
             ],
             [
              0.1111111111111111,
              "#46039f"
             ],
             [
              0.2222222222222222,
              "#7201a8"
             ],
             [
              0.3333333333333333,
              "#9c179e"
             ],
             [
              0.4444444444444444,
              "#bd3786"
             ],
             [
              0.5555555555555556,
              "#d8576b"
             ],
             [
              0.6666666666666666,
              "#ed7953"
             ],
             [
              0.7777777777777778,
              "#fb9f3a"
             ],
             [
              0.8888888888888888,
              "#fdca26"
             ],
             [
              1,
              "#f0f921"
             ]
            ],
            "type": "heatmap"
           }
          ],
          "heatmapgl": [
           {
            "colorbar": {
             "outlinewidth": 0,
             "ticks": ""
            },
            "colorscale": [
             [
              0,
              "#0d0887"
             ],
             [
              0.1111111111111111,
              "#46039f"
             ],
             [
              0.2222222222222222,
              "#7201a8"
             ],
             [
              0.3333333333333333,
              "#9c179e"
             ],
             [
              0.4444444444444444,
              "#bd3786"
             ],
             [
              0.5555555555555556,
              "#d8576b"
             ],
             [
              0.6666666666666666,
              "#ed7953"
             ],
             [
              0.7777777777777778,
              "#fb9f3a"
             ],
             [
              0.8888888888888888,
              "#fdca26"
             ],
             [
              1,
              "#f0f921"
             ]
            ],
            "type": "heatmapgl"
           }
          ],
          "histogram": [
           {
            "marker": {
             "pattern": {
              "fillmode": "overlay",
              "size": 10,
              "solidity": 0.2
             }
            },
            "type": "histogram"
           }
          ],
          "histogram2d": [
           {
            "colorbar": {
             "outlinewidth": 0,
             "ticks": ""
            },
            "colorscale": [
             [
              0,
              "#0d0887"
             ],
             [
              0.1111111111111111,
              "#46039f"
             ],
             [
              0.2222222222222222,
              "#7201a8"
             ],
             [
              0.3333333333333333,
              "#9c179e"
             ],
             [
              0.4444444444444444,
              "#bd3786"
             ],
             [
              0.5555555555555556,
              "#d8576b"
             ],
             [
              0.6666666666666666,
              "#ed7953"
             ],
             [
              0.7777777777777778,
              "#fb9f3a"
             ],
             [
              0.8888888888888888,
              "#fdca26"
             ],
             [
              1,
              "#f0f921"
             ]
            ],
            "type": "histogram2d"
           }
          ],
          "histogram2dcontour": [
           {
            "colorbar": {
             "outlinewidth": 0,
             "ticks": ""
            },
            "colorscale": [
             [
              0,
              "#0d0887"
             ],
             [
              0.1111111111111111,
              "#46039f"
             ],
             [
              0.2222222222222222,
              "#7201a8"
             ],
             [
              0.3333333333333333,
              "#9c179e"
             ],
             [
              0.4444444444444444,
              "#bd3786"
             ],
             [
              0.5555555555555556,
              "#d8576b"
             ],
             [
              0.6666666666666666,
              "#ed7953"
             ],
             [
              0.7777777777777778,
              "#fb9f3a"
             ],
             [
              0.8888888888888888,
              "#fdca26"
             ],
             [
              1,
              "#f0f921"
             ]
            ],
            "type": "histogram2dcontour"
           }
          ],
          "mesh3d": [
           {
            "colorbar": {
             "outlinewidth": 0,
             "ticks": ""
            },
            "type": "mesh3d"
           }
          ],
          "parcoords": [
           {
            "line": {
             "colorbar": {
              "outlinewidth": 0,
              "ticks": ""
             }
            },
            "type": "parcoords"
           }
          ],
          "pie": [
           {
            "automargin": true,
            "type": "pie"
           }
          ],
          "scatter": [
           {
            "fillpattern": {
             "fillmode": "overlay",
             "size": 10,
             "solidity": 0.2
            },
            "type": "scatter"
           }
          ],
          "scatter3d": [
           {
            "line": {
             "colorbar": {
              "outlinewidth": 0,
              "ticks": ""
             }
            },
            "marker": {
             "colorbar": {
              "outlinewidth": 0,
              "ticks": ""
             }
            },
            "type": "scatter3d"
           }
          ],
          "scattercarpet": [
           {
            "marker": {
             "colorbar": {
              "outlinewidth": 0,
              "ticks": ""
             }
            },
            "type": "scattercarpet"
           }
          ],
          "scattergeo": [
           {
            "marker": {
             "colorbar": {
              "outlinewidth": 0,
              "ticks": ""
             }
            },
            "type": "scattergeo"
           }
          ],
          "scattergl": [
           {
            "marker": {
             "colorbar": {
              "outlinewidth": 0,
              "ticks": ""
             }
            },
            "type": "scattergl"
           }
          ],
          "scattermapbox": [
           {
            "marker": {
             "colorbar": {
              "outlinewidth": 0,
              "ticks": ""
             }
            },
            "type": "scattermapbox"
           }
          ],
          "scatterpolar": [
           {
            "marker": {
             "colorbar": {
              "outlinewidth": 0,
              "ticks": ""
             }
            },
            "type": "scatterpolar"
           }
          ],
          "scatterpolargl": [
           {
            "marker": {
             "colorbar": {
              "outlinewidth": 0,
              "ticks": ""
             }
            },
            "type": "scatterpolargl"
           }
          ],
          "scatterternary": [
           {
            "marker": {
             "colorbar": {
              "outlinewidth": 0,
              "ticks": ""
             }
            },
            "type": "scatterternary"
           }
          ],
          "surface": [
           {
            "colorbar": {
             "outlinewidth": 0,
             "ticks": ""
            },
            "colorscale": [
             [
              0,
              "#0d0887"
             ],
             [
              0.1111111111111111,
              "#46039f"
             ],
             [
              0.2222222222222222,
              "#7201a8"
             ],
             [
              0.3333333333333333,
              "#9c179e"
             ],
             [
              0.4444444444444444,
              "#bd3786"
             ],
             [
              0.5555555555555556,
              "#d8576b"
             ],
             [
              0.6666666666666666,
              "#ed7953"
             ],
             [
              0.7777777777777778,
              "#fb9f3a"
             ],
             [
              0.8888888888888888,
              "#fdca26"
             ],
             [
              1,
              "#f0f921"
             ]
            ],
            "type": "surface"
           }
          ],
          "table": [
           {
            "cells": {
             "fill": {
              "color": "#EBF0F8"
             },
             "line": {
              "color": "white"
             }
            },
            "header": {
             "fill": {
              "color": "#C8D4E3"
             },
             "line": {
              "color": "white"
             }
            },
            "type": "table"
           }
          ]
         },
         "layout": {
          "annotationdefaults": {
           "arrowcolor": "#2a3f5f",
           "arrowhead": 0,
           "arrowwidth": 1
          },
          "autotypenumbers": "strict",
          "coloraxis": {
           "colorbar": {
            "outlinewidth": 0,
            "ticks": ""
           }
          },
          "colorscale": {
           "diverging": [
            [
             0,
             "#8e0152"
            ],
            [
             0.1,
             "#c51b7d"
            ],
            [
             0.2,
             "#de77ae"
            ],
            [
             0.3,
             "#f1b6da"
            ],
            [
             0.4,
             "#fde0ef"
            ],
            [
             0.5,
             "#f7f7f7"
            ],
            [
             0.6,
             "#e6f5d0"
            ],
            [
             0.7,
             "#b8e186"
            ],
            [
             0.8,
             "#7fbc41"
            ],
            [
             0.9,
             "#4d9221"
            ],
            [
             1,
             "#276419"
            ]
           ],
           "sequential": [
            [
             0,
             "#0d0887"
            ],
            [
             0.1111111111111111,
             "#46039f"
            ],
            [
             0.2222222222222222,
             "#7201a8"
            ],
            [
             0.3333333333333333,
             "#9c179e"
            ],
            [
             0.4444444444444444,
             "#bd3786"
            ],
            [
             0.5555555555555556,
             "#d8576b"
            ],
            [
             0.6666666666666666,
             "#ed7953"
            ],
            [
             0.7777777777777778,
             "#fb9f3a"
            ],
            [
             0.8888888888888888,
             "#fdca26"
            ],
            [
             1,
             "#f0f921"
            ]
           ],
           "sequentialminus": [
            [
             0,
             "#0d0887"
            ],
            [
             0.1111111111111111,
             "#46039f"
            ],
            [
             0.2222222222222222,
             "#7201a8"
            ],
            [
             0.3333333333333333,
             "#9c179e"
            ],
            [
             0.4444444444444444,
             "#bd3786"
            ],
            [
             0.5555555555555556,
             "#d8576b"
            ],
            [
             0.6666666666666666,
             "#ed7953"
            ],
            [
             0.7777777777777778,
             "#fb9f3a"
            ],
            [
             0.8888888888888888,
             "#fdca26"
            ],
            [
             1,
             "#f0f921"
            ]
           ]
          },
          "colorway": [
           "#636efa",
           "#EF553B",
           "#00cc96",
           "#ab63fa",
           "#FFA15A",
           "#19d3f3",
           "#FF6692",
           "#B6E880",
           "#FF97FF",
           "#FECB52"
          ],
          "font": {
           "color": "#2a3f5f"
          },
          "geo": {
           "bgcolor": "white",
           "lakecolor": "white",
           "landcolor": "#E5ECF6",
           "showlakes": true,
           "showland": true,
           "subunitcolor": "white"
          },
          "hoverlabel": {
           "align": "left"
          },
          "hovermode": "closest",
          "mapbox": {
           "style": "light"
          },
          "paper_bgcolor": "white",
          "plot_bgcolor": "#E5ECF6",
          "polar": {
           "angularaxis": {
            "gridcolor": "white",
            "linecolor": "white",
            "ticks": ""
           },
           "bgcolor": "#E5ECF6",
           "radialaxis": {
            "gridcolor": "white",
            "linecolor": "white",
            "ticks": ""
           }
          },
          "scene": {
           "xaxis": {
            "backgroundcolor": "#E5ECF6",
            "gridcolor": "white",
            "gridwidth": 2,
            "linecolor": "white",
            "showbackground": true,
            "ticks": "",
            "zerolinecolor": "white"
           },
           "yaxis": {
            "backgroundcolor": "#E5ECF6",
            "gridcolor": "white",
            "gridwidth": 2,
            "linecolor": "white",
            "showbackground": true,
            "ticks": "",
            "zerolinecolor": "white"
           },
           "zaxis": {
            "backgroundcolor": "#E5ECF6",
            "gridcolor": "white",
            "gridwidth": 2,
            "linecolor": "white",
            "showbackground": true,
            "ticks": "",
            "zerolinecolor": "white"
           }
          },
          "shapedefaults": {
           "line": {
            "color": "#2a3f5f"
           }
          },
          "ternary": {
           "aaxis": {
            "gridcolor": "white",
            "linecolor": "white",
            "ticks": ""
           },
           "baxis": {
            "gridcolor": "white",
            "linecolor": "white",
            "ticks": ""
           },
           "bgcolor": "#E5ECF6",
           "caxis": {
            "gridcolor": "white",
            "linecolor": "white",
            "ticks": ""
           }
          },
          "title": {
           "x": 0.05
          },
          "xaxis": {
           "automargin": true,
           "gridcolor": "white",
           "linecolor": "white",
           "ticks": "",
           "title": {
            "standoff": 15
           },
           "zerolinecolor": "white",
           "zerolinewidth": 2
          },
          "yaxis": {
           "automargin": true,
           "gridcolor": "white",
           "linecolor": "white",
           "ticks": "",
           "title": {
            "standoff": 15
           },
           "zerolinecolor": "white",
           "zerolinewidth": 2
          }
         }
        },
        "title": {
         "text": "Day-of-Week Crime Type Distribution"
        },
        "xaxis": {
         "anchor": "y",
         "autorange": true,
         "domain": [
          0,
          1
         ],
         "range": [
          -0.5,
          6.5
         ],
         "title": {
          "text": "Day of Week"
         },
         "type": "linear"
        },
        "yaxis": {
         "anchor": "x",
         "autorange": true,
         "domain": [
          0,
          1
         ],
         "range": [
          0,
          45610.52631578947
         ],
         "title": {
          "text": "Crime Count"
         },
         "type": "linear"
        }
       }
      },
      "image/png": "[encoded data removed]",
      "text/html": [
       "<div>                            <div id=\"373f1fb0-7d12-4a8e-92fc-a6cc06f1ee25\" class=\"plotly-graph-div\" style=\"height:525px; width:100%;\"></div>            <script type=\"text/javascript\">                require([\"plotly\"], function(Plotly) {                    window.PLOTLYENV=window.PLOTLYENV || {};                                    if (document.getElementById(\"373f1fb0-7d12-4a8e-92fc-a6cc06f1ee25\")) {                    Plotly.newPlot(                        \"373f1fb0-7d12-4a8e-92fc-a6cc06f1ee25\",                        [{\"alignmentgroup\":\"True\",\"hovertemplate\":\"Description=AGG. ASSAULT<br>Day of Week=%{x}<br>Crime Count=%{y}<extra></extra>\",\"legendgroup\":\"AGG. ASSAULT\",\"marker\":{\"color\":\"rgb(127, 60, 141)\",\"pattern\":{\"shape\":\"\"}},\"name\":\"AGG. ASSAULT\",\"offsetgroup\":\"AGG. ASSAULT\",\"orientation\":\"v\",\"showlegend\":true,\"textposition\":\"auto\",\"x\":[0,1,2,3,4,5,6],\"xaxis\":\"x\",\"y\":[4485,4487,4262,4235,4453,4821,4711],\"yaxis\":\"y\",\"type\":\"bar\"},{\"alignmentgroup\":\"True\",\"hovertemplate\":\"Description=ARSON<br>Day of Week=%{x}<br>Crime Count=%{y}<extra></extra>\",\"legendgroup\":\"ARSON\",\"marker\":{\"color\":\"rgb(17, 165, 121)\",\"pattern\":{\"shape\":\"\"}},\"name\":\"ARSON\",\"offsetgroup\":\"ARSON\",\"orientation\":\"v\",\"showlegend\":true,\"textposition\":\"auto\",\"x\":[0,1,2,3,4,5,6],\"xaxis\":\"x\",\"y\":[202,178,170,175,155,191,189],\"yaxis\":\"y\",\"type\":\"bar\"},{\"alignmentgroup\":\"True\",\"hovertemplate\":\"Description=AUTO THEFT<br>Day of Week=%{x}<br>Crime Count=%{y}<extra></extra>\",\"legendgroup\":\"AUTO THEFT\",\"marker\":{\"color\":\"rgb(57, 105, 172)\",\"pattern\":{\"shape\":\"\"}},\"name\":\"AUTO THEFT\",\"offsetgroup\":\"AUTO THEFT\",\"orientation\":\"v\",\"showlegend\":true,\"textposition\":\"auto\",\"x\":[0,1,2,3,4,5,6],\"xaxis\":\"x\",\"y\":[3710,3667,3629,3529,3758,3600,3631],\"yaxis\":\"y\",\"type\":\"bar\"},{\"alignmentgroup\":\"True\",\"hovertemplate\":\"Description=BURGLARY<br>Day of Week=%{x}<br>Crime Count=%{y}<extra></extra>\",\"legendgroup\":\"BURGLARY\",\"marker\":{\"color\":\"rgb(242, 183, 1)\",\"pattern\":{\"shape\":\"\"}},\"name\":\"BURGLARY\",\"offsetgroup\":\"BURGLARY\",\"orientation\":\"v\",\"showlegend\":true,\"textposition\":\"auto\",\"x\":[0,1,2,3,4,5,6],\"xaxis\":\"x\",\"y\":[6493,6390,6336,6297,6672,5178,4726],\"yaxis\":\"y\",\"type\":\"bar\"},{\"alignmentgroup\":\"True\",\"hovertemplate\":\"Description=COMMON ASSAULT<br>Day of Week=%{x}<br>Crime Count=%{y}<extra></extra>\",\"legendgroup\":\"COMMON ASSAULT\",\"marker\":{\"color\":\"rgb(231, 63, 116)\",\"pattern\":{\"shape\":\"\"}},\"name\":\"COMMON ASSAULT\",\"offsetgroup\":\"COMMON ASSAULT\",\"orientation\":\"v\",\"showlegend\":true,\"textposition\":\"auto\",\"x\":[0,1,2,3,4,5,6],\"xaxis\":\"x\",\"y\":[6676,6552,6497,6598,6938,7218,7271],\"yaxis\":\"y\",\"type\":\"bar\"},{\"alignmentgroup\":\"True\",\"hovertemplate\":\"Description=HOMICIDE<br>Day of Week=%{x}<br>Crime Count=%{y}<extra></extra>\",\"legendgroup\":\"HOMICIDE\",\"marker\":{\"color\":\"rgb(128, 186, 90)\",\"pattern\":{\"shape\":\"\"}},\"name\":\"HOMICIDE\",\"offsetgroup\":\"HOMICIDE\",\"orientation\":\"v\",\"showlegend\":true,\"textposition\":\"auto\",\"x\":[0,1,2,3,4,5,6],\"xaxis\":\"x\",\"y\":[264,298,283,277,253,264,258],\"yaxis\":\"y\",\"type\":\"bar\"},{\"alignmentgroup\":\"True\",\"hovertemplate\":\"Description=LARCENY<br>Day of Week=%{x}<br>Crime Count=%{y}<extra></extra>\",\"legendgroup\":\"LARCENY\",\"marker\":{\"color\":\"rgb(230, 131, 16)\",\"pattern\":{\"shape\":\"\"}},\"name\":\"LARCENY\",\"offsetgroup\":\"LARCENY\",\"orientation\":\"v\",\"showlegend\":true,\"textposition\":\"auto\",\"x\":[0,1,2,3,4,5,6],\"xaxis\":\"x\",\"y\":[9585,9561,9707,9726,10218,8533,7660],\"yaxis\":\"y\",\"type\":\"bar\"},{\"alignmentgroup\":\"True\",\"hovertemplate\":\"Description=LARCENY FROM AUTO<br>Day of Week=%{x}<br>Crime Count=%{y}<extra></extra>\",\"legendgroup\":\"LARCENY FROM AUTO\",\"marker\":{\"color\":\"rgb(0, 134, 149)\",\"pattern\":{\"shape\":\"\"}},\"name\":\"LARCENY FROM AUTO\",\"offsetgroup\":\"LARCENY FROM AUTO\",\"orientation\":\"v\",\"showlegend\":true,\"textposition\":\"auto\",\"x\":[0,1,2,3,4,5,6],\"xaxis\":\"x\",\"y\":[5580,5462,5499,5501,5652,5267,5480],\"yaxis\":\"y\",\"type\":\"bar\"},{\"alignmentgroup\":\"True\",\"hovertemplate\":\"Description=RAPE<br>Day of Week=%{x}<br>Crime Count=%{y}<extra></extra>\",\"legendgroup\":\"RAPE\",\"marker\":{\"color\":\"rgb(207, 28, 144)\",\"pattern\":{\"shape\":\"\"}},\"name\":\"RAPE\",\"offsetgroup\":\"RAPE\",\"orientation\":\"v\",\"showlegend\":true,\"textposition\":\"auto\",\"x\":[0,1,2,3,4,5,6],\"xaxis\":\"x\",\"y\":[308,263,222,245,285,306,256],\"yaxis\":\"y\",\"type\":\"bar\"},{\"alignmentgroup\":\"True\",\"hovertemplate\":\"Description=ROBBERY - CARJACKING<br>Day of Week=%{x}<br>Crime Count=%{y}<extra></extra>\",\"legendgroup\":\"ROBBERY - CARJACKING\",\"marker\":{\"color\":\"rgb(249, 123, 114)\",\"pattern\":{\"shape\":\"\"}},\"name\":\"ROBBERY - CARJACKING\",\"offsetgroup\":\"ROBBERY - CARJACKING\",\"orientation\":\"v\",\"showlegend\":true,\"textposition\":\"auto\",\"x\":[0,1,2,3,4,5,6],\"xaxis\":\"x\",\"y\":[387,342,362,343,345,370,362],\"yaxis\":\"y\",\"type\":\"bar\"},{\"alignmentgroup\":\"True\",\"hovertemplate\":\"Description=ROBBERY - COMMERCIAL<br>Day of Week=%{x}<br>Crime Count=%{y}<extra></extra>\",\"legendgroup\":\"ROBBERY - COMMERCIAL\",\"marker\":{\"color\":\"rgb(165, 170, 153)\",\"pattern\":{\"shape\":\"\"}},\"name\":\"ROBBERY - COMMERCIAL\",\"offsetgroup\":\"ROBBERY - COMMERCIAL\",\"orientation\":\"v\",\"showlegend\":true,\"textposition\":\"auto\",\"x\":[0,1,2,3,4,5,6],\"xaxis\":\"x\",\"y\":[810,803,749,735,744,692,646],\"yaxis\":\"y\",\"type\":\"bar\"},{\"alignmentgroup\":\"True\",\"hovertemplate\":\"Description=ROBBERY - RESIDENCE<br>Day of Week=%{x}<br>Crime Count=%{y}<extra></extra>\",\"legendgroup\":\"ROBBERY - RESIDENCE\",\"marker\":{\"color\":\"rgb(127, 60, 141)\",\"pattern\":{\"shape\":\"\"}},\"name\":\"ROBBERY - RESIDENCE\",\"offsetgroup\":\"ROBBERY - RESIDENCE\",\"orientation\":\"v\",\"showlegend\":true,\"textposition\":\"auto\",\"x\":[0,1,2,3,4,5,6],\"xaxis\":\"x\",\"y\":[456,405,400,416,424,400,463],\"yaxis\":\"y\",\"type\":\"bar\"},{\"alignmentgroup\":\"True\",\"hovertemplate\":\"Description=ROBBERY - STREET<br>Day of Week=%{x}<br>Crime Count=%{y}<extra></extra>\",\"legendgroup\":\"ROBBERY - STREET\",\"marker\":{\"color\":\"rgb(17, 165, 121)\",\"pattern\":{\"shape\":\"\"}},\"name\":\"ROBBERY - STREET\",\"offsetgroup\":\"ROBBERY - STREET\",\"orientation\":\"v\",\"showlegend\":true,\"textposition\":\"auto\",\"x\":[0,1,2,3,4,5,6],\"xaxis\":\"x\",\"y\":[3108,2969,3031,2865,2915,2876,2798],\"yaxis\":\"y\",\"type\":\"bar\"},{\"alignmentgroup\":\"True\",\"hovertemplate\":\"Description=SHOOTING<br>Day of Week=%{x}<br>Crime Count=%{y}<extra></extra>\",\"legendgroup\":\"SHOOTING\",\"marker\":{\"color\":\"rgb(57, 105, 172)\",\"pattern\":{\"shape\":\"\"}},\"name\":\"SHOOTING\",\"offsetgroup\":\"SHOOTING\",\"orientation\":\"v\",\"showlegend\":true,\"textposition\":\"auto\",\"x\":[0,1,2,3,4,5,6],\"xaxis\":\"x\",\"y\":[591,583,524,493,518,599,559],\"yaxis\":\"y\",\"type\":\"bar\"}],                        {\"template\":{\"data\":{\"histogram2dcontour\":[{\"type\":\"histogram2dcontour\",\"colorbar\":{\"outlinewidth\":0,\"ticks\":\"\"},\"colorscale\":[[0.0,\"#0d0887\"],[0.1111111111111111,\"#46039f\"],[0.2222222222222222,\"#7201a8\"],[0.3333333333333333,\"#9c179e\"],[0.4444444444444444,\"#bd3786\"],[0.5555555555555556,\"#d8576b\"],[0.6666666666666666,\"#ed7953\"],[0.7777777777777778,\"#fb9f3a\"],[0.8888888888888888,\"#fdca26\"],[1.0,\"#f0f921\"]]}],\"choropleth\":[{\"type\":\"choropleth\",\"colorbar\":{\"outlinewidth\":0,\"ticks\":\"\"}}],\"histogram2d\":[{\"type\":\"histogram2d\",\"colorbar\":{\"outlinewidth\":0,\"ticks\":\"\"},\"colorscale\":[[0.0,\"#0d0887\"],[0.1111111111111111,\"#46039f\"],[0.2222222222222222,\"#7201a8\"],[0.3333333333333333,\"#9c179e\"],[0.4444444444444444,\"#bd3786\"],[0.5555555555555556,\"#d8576b\"],[0.6666666666666666,\"#ed7953\"],[0.7777777777777778,\"#fb9f3a\"],[0.8888888888888888,\"#fdca26\"],[1.0,\"#f0f921\"]]}],\"heatmap\":[{\"type\":\"heatmap\",\"colorbar\":{\"outlinewidth\":0,\"ticks\":\"\"},\"colorscale\":[[0.0,\"#0d0887\"],[0.1111111111111111,\"#46039f\"],[0.2222222222222222,\"#7201a8\"],[0.3333333333333333,\"#9c179e\"],[0.4444444444444444,\"#bd3786\"],[0.5555555555555556,\"#d8576b\"],[0.6666666666666666,\"#ed7953\"],[0.7777777777777778,\"#fb9f3a\"],[0.8888888888888888,\"#fdca26\"],[1.0,\"#f0f921\"]]}],\"heatmapgl\":[{\"type\":\"heatmapgl\",\"colorbar\":{\"outlinewidth\":0,\"ticks\":\"\"},\"colorscale\":[[0.0,\"#0d0887\"],[0.1111111111111111,\"#46039f\"],[0.2222222222222222,\"#7201a8\"],[0.3333333333333333,\"#9c179e\"],[0.4444444444444444,\"#bd3786\"],[0.5555555555555556,\"#d8576b\"],[0.6666666666666666,\"#ed7953\"],[0.7777777777777778,\"#fb9f3a\"],[0.8888888888888888,\"#fdca26\"],[1.0,\"#f0f921\"]]}],\"contourcarpet\":[{\"type\":\"contourcarpet\",\"colorbar\":{\"outlinewidth\":0,\"ticks\":\"\"}}],\"contour\":[{\"type\":\"contour\",\"colorbar\":{\"outlinewidth\":0,\"ticks\":\"\"},\"colorscale\":[[0.0,\"#0d0887\"],[0.1111111111111111,\"#46039f\"],[0.2222222222222222,\"#7201a8\"],[0.3333333333333333,\"#9c179e\"],[0.4444444444444444,\"#bd3786\"],[0.5555555555555556,\"#d8576b\"],[0.6666666666666666,\"#ed7953\"],[0.7777777777777778,\"#fb9f3a\"],[0.8888888888888888,\"#fdca26\"],[1.0,\"#f0f921\"]]}],\"surface\":[{\"type\":\"surface\",\"colorbar\":{\"outlinewidth\":0,\"ticks\":\"\"},\"colorscale\":[[0.0,\"#0d0887\"],[0.1111111111111111,\"#46039f\"],[0.2222222222222222,\"#7201a8\"],[0.3333333333333333,\"#9c179e\"],[0.4444444444444444,\"#bd3786\"],[0.5555555555555556,\"#d8576b\"],[0.6666666666666666,\"#ed7953\"],[0.7777777777777778,\"#fb9f3a\"],[0.8888888888888888,\"#fdca26\"],[1.0,\"#f0f921\"]]}],\"mesh3d\":[{\"type\":\"mesh3d\",\"colorbar\":{\"outlinewidth\":0,\"ticks\":\"\"}}],\"scatter\":[{\"fillpattern\":{\"fillmode\":\"overlay\",\"size\":10,\"solidity\":0.2},\"type\":\"scatter\"}],\"parcoords\":[{\"type\":\"parcoords\",\"line\":{\"colorbar\":{\"outlinewidth\":0,\"ticks\":\"\"}}}],\"scatterpolargl\":[{\"type\":\"scatterpolargl\",\"marker\":{\"colorbar\":{\"outlinewidth\":0,\"ticks\":\"\"}}}],\"bar\":[{\"error_x\":{\"color\":\"#2a3f5f\"},\"error_y\":{\"color\":\"#2a3f5f\"},\"marker\":{\"line\":{\"color\":\"#E5ECF6\",\"width\":0.5},\"pattern\":{\"fillmode\":\"overlay\",\"size\":10,\"solidity\":0.2}},\"type\":\"bar\"}],\"scattergeo\":[{\"type\":\"scattergeo\",\"marker\":{\"colorbar\":{\"outlinewidth\":0,\"ticks\":\"\"}}}],\"scatterpolar\":[{\"type\":\"scatterpolar\",\"marker\":{\"colorbar\":{\"outlinewidth\":0,\"ticks\":\"\"}}}],\"histogram\":[{\"marker\":{\"pattern\":{\"fillmode\":\"overlay\",\"size\":10,\"solidity\":0.2}},\"type\":\"histogram\"}],\"scattergl\":[{\"type\":\"scattergl\",\"marker\":{\"colorbar\":{\"outlinewidth\":0,\"ticks\":\"\"}}}],\"scatter3d\":[{\"type\":\"scatter3d\",\"line\":{\"colorbar\":{\"outlinewidth\":0,\"ticks\":\"\"}},\"marker\":{\"colorbar\":{\"outlinewidth\":0,\"ticks\":\"\"}}}],\"scattermapbox\":[{\"type\":\"scattermapbox\",\"marker\":{\"colorbar\":{\"outlinewidth\":0,\"ticks\":\"\"}}}],\"scatterternary\":[{\"type\":\"scatterternary\",\"marker\":{\"colorbar\":{\"outlinewidth\":0,\"ticks\":\"\"}}}],\"scattercarpet\":[{\"type\":\"scattercarpet\",\"marker\":{\"colorbar\":{\"outlinewidth\":0,\"ticks\":\"\"}}}],\"carpet\":[{\"aaxis\":{\"endlinecolor\":\"#2a3f5f\",\"gridcolor\":\"white\",\"linecolor\":\"white\",\"minorgridcolor\":\"white\",\"startlinecolor\":\"#2a3f5f\"},\"baxis\":{\"endlinecolor\":\"#2a3f5f\",\"gridcolor\":\"white\",\"linecolor\":\"white\",\"minorgridcolor\":\"white\",\"startlinecolor\":\"#2a3f5f\"},\"type\":\"carpet\"}],\"table\":[{\"cells\":{\"fill\":{\"color\":\"#EBF0F8\"},\"line\":{\"color\":\"white\"}},\"header\":{\"fill\":{\"color\":\"#C8D4E3\"},\"line\":{\"color\":\"white\"}},\"type\":\"table\"}],\"barpolar\":[{\"marker\":{\"line\":{\"color\":\"#E5ECF6\",\"width\":0.5},\"pattern\":{\"fillmode\":\"overlay\",\"size\":10,\"solidity\":0.2}},\"type\":\"barpolar\"}],\"pie\":[{\"automargin\":true,\"type\":\"pie\"}]},\"layout\":{\"autotypenumbers\":\"strict\",\"colorway\":[\"#636efa\",\"#EF553B\",\"#00cc96\",\"#ab63fa\",\"#FFA15A\",\"#19d3f3\",\"#FF6692\",\"#B6E880\",\"#FF97FF\",\"#FECB52\"],\"font\":{\"color\":\"#2a3f5f\"},\"hovermode\":\"closest\",\"hoverlabel\":{\"align\":\"left\"},\"paper_bgcolor\":\"white\",\"plot_bgcolor\":\"#E5ECF6\",\"polar\":{\"bgcolor\":\"#E5ECF6\",\"angularaxis\":{\"gridcolor\":\"white\",\"linecolor\":\"white\",\"ticks\":\"\"},\"radialaxis\":{\"gridcolor\":\"white\",\"linecolor\":\"white\",\"ticks\":\"\"}},\"ternary\":{\"bgcolor\":\"#E5ECF6\",\"aaxis\":{\"gridcolor\":\"white\",\"linecolor\":\"white\",\"ticks\":\"\"},\"baxis\":{\"gridcolor\":\"white\",\"linecolor\":\"white\",\"ticks\":\"\"},\"caxis\":{\"gridcolor\":\"white\",\"linecolor\":\"white\",\"ticks\":\"\"}},\"coloraxis\":{\"colorbar\":{\"outlinewidth\":0,\"ticks\":\"\"}},\"colorscale\":{\"sequential\":[[0.0,\"#0d0887\"],[0.1111111111111111,\"#46039f\"],[0.2222222222222222,\"#7201a8\"],[0.3333333333333333,\"#9c179e\"],[0.4444444444444444,\"#bd3786\"],[0.5555555555555556,\"#d8576b\"],[0.6666666666666666,\"#ed7953\"],[0.7777777777777778,\"#fb9f3a\"],[0.8888888888888888,\"#fdca26\"],[1.0,\"#f0f921\"]],\"sequentialminus\":[[0.0,\"#0d0887\"],[0.1111111111111111,\"#46039f\"],[0.2222222222222222,\"#7201a8\"],[0.3333333333333333,\"#9c179e\"],[0.4444444444444444,\"#bd3786\"],[0.5555555555555556,\"#d8576b\"],[0.6666666666666666,\"#ed7953\"],[0.7777777777777778,\"#fb9f3a\"],[0.8888888888888888,\"#fdca26\"],[1.0,\"#f0f921\"]],\"diverging\":[[0,\"#8e0152\"],[0.1,\"#c51b7d\"],[0.2,\"#de77ae\"],[0.3,\"#f1b6da\"],[0.4,\"#fde0ef\"],[0.5,\"#f7f7f7\"],[0.6,\"#e6f5d0\"],[0.7,\"#b8e186\"],[0.8,\"#7fbc41\"],[0.9,\"#4d9221\"],[1,\"#276419\"]]},\"xaxis\":{\"gridcolor\":\"white\",\"linecolor\":\"white\",\"ticks\":\"\",\"title\":{\"standoff\":15},\"zerolinecolor\":\"white\",\"automargin\":true,\"zerolinewidth\":2},\"yaxis\":{\"gridcolor\":\"white\",\"linecolor\":\"white\",\"ticks\":\"\",\"title\":{\"standoff\":15},\"zerolinecolor\":\"white\",\"automargin\":true,\"zerolinewidth\":2},\"scene\":{\"xaxis\":{\"backgroundcolor\":\"#E5ECF6\",\"gridcolor\":\"white\",\"linecolor\":\"white\",\"showbackground\":true,\"ticks\":\"\",\"zerolinecolor\":\"white\",\"gridwidth\":2},\"yaxis\":{\"backgroundcolor\":\"#E5ECF6\",\"gridcolor\":\"white\",\"linecolor\":\"white\",\"showbackground\":true,\"ticks\":\"\",\"zerolinecolor\":\"white\",\"gridwidth\":2},\"zaxis\":{\"backgroundcolor\":\"#E5ECF6\",\"gridcolor\":\"white\",\"linecolor\":\"white\",\"showbackground\":true,\"ticks\":\"\",\"zerolinecolor\":\"white\",\"gridwidth\":2}},\"shapedefaults\":{\"line\":{\"color\":\"#2a3f5f\"}},\"annotationdefaults\":{\"arrowcolor\":\"#2a3f5f\",\"arrowhead\":0,\"arrowwidth\":1},\"geo\":{\"bgcolor\":\"white\",\"landcolor\":\"#E5ECF6\",\"subunitcolor\":\"white\",\"showland\":true,\"showlakes\":true,\"lakecolor\":\"white\"},\"title\":{\"x\":0.05},\"mapbox\":{\"style\":\"light\"}}},\"xaxis\":{\"anchor\":\"y\",\"domain\":[0.0,1.0],\"title\":{\"text\":\"Day of Week\"}},\"yaxis\":{\"anchor\":\"x\",\"domain\":[0.0,1.0],\"title\":{\"text\":\"Crime Count\"}},\"legend\":{\"title\":{\"text\":\"Description\"},\"tracegroupgap\":0},\"title\":{\"text\":\"Day-of-Week Crime Type Distribution\"},\"barmode\":\"relative\"},                        {\"responsive\": true}                    ).then(function(){\n",
       "                            \n",
       "var gd = document.getElementById('373f1fb0-7d12-4a8e-92fc-a6cc06f1ee25');\n",
       "var x = new MutationObserver(function (mutations, observer) {{\n",
       "        var display = window.getComputedStyle(gd).display;\n",
       "        if (!display || display === 'none') {{\n",
       "            console.log([gd, 'removed!']);\n",
       "            Plotly.purge(gd);\n",
       "            observer.disconnect();\n",
       "        }}\n",
       "}});\n",
       "\n",
       "// Listen for the removal of the full notebook cells\n",
       "var notebookContainer = gd.closest('#notebook-container');\n",
       "if (notebookContainer) {{\n",
       "    x.observe(notebookContainer, {childList: true});\n",
       "}}\n",
       "\n",
       "// Listen for the clearing of the current output cell\n",
       "var outputEl = gd.closest('.output');\n",
       "if (outputEl) {{\n",
       "    x.observe(outputEl, {childList: true});\n",
       "}}\n",
       "\n",
       "                        })                };                });            </script>        </div>"
      ]
     },
     "metadata": {},
     "output_type": "display_data"
    }
   ],
   "source": [
    "\n",
    "import plotly.express as px\n",
    "import pandas as pd\n",
    "\n",
    "# Define a color palette\n",
    "color_palette = px.colors.qualitative.Bold  # You can choose different palettes like Bold, Set1, Dark2, etc.\n",
    "\n",
    "# Yearly trend by crime type\n",
    "yearly_crime_type_data = df.groupby([df['CrimeDate'].dt.year, 'Description']).size().reset_index(name='count')\n",
    "fig_yearly_crime_type = px.bar(yearly_crime_type_data, \n",
    "                               x='CrimeDate', y='count', \n",
    "                               color='Description', \n",
    "                               color_discrete_sequence=color_palette,\n",
    "                               labels={'CrimeDate': 'Year', 'count': 'Crime Count'},\n",
    "                               title='Yearly Crime Type Distribution')\n",
    "\n",
    "# Monthly trend by crime type\n",
    "monthly_crime_type_data = df.groupby([df['CrimeDate'].dt.month, 'Description']).size().reset_index(name='count')\n",
    "fig_monthly_crime_type = px.bar(monthly_crime_type_data, \n",
    "                                x='CrimeDate', y='count', \n",
    "                                color='Description', \n",
    "                                color_discrete_sequence=color_palette,\n",
    "                                labels={'CrimeDate': 'Month', 'count': 'Crime Count'},\n",
    "                                title='Monthly Crime Type Distribution')\n",
    "\n",
    "# Day-of-week trend by crime type\n",
    "dayofweek_crime_type_data = df.groupby([df['CrimeDate'].dt.dayofweek, 'Description']).size().reset_index(name='count')\n",
    "fig_dayofweek_crime_type = px.bar(dayofweek_crime_type_data, \n",
    "                                  x='CrimeDate', y='count', \n",
    "                                  color='Description', \n",
    "                                  color_discrete_sequence=color_palette,\n",
    "                                  labels={'CrimeDate': 'Day of Week', 'count': 'Crime Count'},\n",
    "                                  title='Day-of-Week Crime Type Distribution')\n",
    "\n",
    "# Show plots\n",
    "fig_yearly_crime_type.show()\n",
    "fig_monthly_crime_type.show()\n",
    "fig_dayofweek_crime_type.show()\n"
   ]
  },
  {
   "cell_type": "code",
   "execution_count": null,
   "id": "80cdaf37-13cc-45e6-ad45-ce66e192c980",
   "metadata": {},
   "outputs": [],
   "source": []
  }
 ],
 "metadata": {
  "kernelspec": {
   "display_name": "Python 3 (ipykernel)",
   "language": "python",
   "name": "python3"
  },
  "language_info": {
   "codemirror_mode": {
    "name": "ipython",
    "version": 3
   },
   "file_extension": ".py",
   "mimetype": "text/x-python",
   "name": "python",
   "nbconvert_exporter": "python",
   "pygments_lexer": "ipython3",
   "version": "3.11.7"
  }
 },
 "nbformat": 4,
 "nbformat_minor": 5
}
